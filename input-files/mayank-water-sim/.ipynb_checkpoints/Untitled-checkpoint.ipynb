{
 "cells": [
  {
   "cell_type": "code",
   "execution_count": 8,
   "metadata": {},
   "outputs": [],
   "source": [
    "with open('temp-log.lammps','r') as f:\n",
    "    logs=f.readlines()\n",
    "logs=logs[573:]"
   ]
  },
  {
   "cell_type": "code",
   "execution_count": 11,
   "metadata": {},
   "outputs": [
    {
     "name": "stdout",
     "output_type": "stream",
     "text": [
      "['###', 'NNP', 'EW', 'SUMMARY', '###', 'TS:', '1000', 'EW', '391471', 'EWPERSTEP', '3.915E+02']\n",
      "['###', 'NNP', 'EW', 'SUMMARY', '###', 'TS:', '2000', 'EW', '543573', 'EWPERSTEP', '5.436E+02']\n",
      "['###', 'NNP', 'EW', 'SUMMARY', '###', 'TS:', '3000', 'EW', '667623', 'EWPERSTEP', '6.676E+02']\n",
      "['###', 'NNP', 'EW', 'SUMMARY', '###', 'TS:', '4000', 'EW', '716735', 'EWPERSTEP', '7.167E+02']\n",
      "['###', 'NNP', 'EW', 'SUMMARY', '###', 'TS:', '5000', 'EW', '825684', 'EWPERSTEP', '8.257E+02']\n",
      "['###', 'NNP', 'EW', 'SUMMARY', '###', 'TS:', '6000', 'EW', '873533', 'EWPERSTEP', '8.735E+02']\n",
      "['###', 'NNP', 'EW', 'SUMMARY', '###', 'TS:', '7000', 'EW', '945663', 'EWPERSTEP', '9.457E+02']\n",
      "['###', 'NNP', 'EW', 'SUMMARY', '###', 'TS:', '8000', 'EW', '1049518', 'EWPERSTEP', '1.050E+03']\n",
      "['###', 'NNP', 'EW', 'SUMMARY', '###', 'TS:', '9000', 'EW', '1058663', 'EWPERSTEP', '1.059E+03']\n",
      "['###', 'NNP', 'EW', 'SUMMARY', '###', 'TS:', '10000', 'EW', '1114487', 'EWPERSTEP', '1.114E+03']\n",
      "['###', 'NNP', 'EW', 'SUMMARY', '###', 'TS:', '11000', 'EW', '1264740', 'EWPERSTEP', '1.265E+03']\n",
      "['###', 'NNP', 'EW', 'SUMMARY', '###', 'TS:', '12000', 'EW', '1350688', 'EWPERSTEP', '1.351E+03']\n",
      "['###', 'NNP', 'EW', 'SUMMARY', '###', 'TS:', '13000', 'EW', '1342081', 'EWPERSTEP', '1.342E+03']\n",
      "['###', 'NNP', 'EW', 'SUMMARY', '###', 'TS:', '14000', 'EW', '1329375', 'EWPERSTEP', '1.329E+03']\n",
      "['###', 'NNP', 'EW', 'SUMMARY', '###', 'TS:', '15000', 'EW', '1424351', 'EWPERSTEP', '1.424E+03']\n",
      "['###', 'NNP', 'EW', 'SUMMARY', '###', 'TS:', '16000', 'EW', '1499779', 'EWPERSTEP', '1.500E+03']\n",
      "['###', 'NNP', 'EW', 'SUMMARY', '###', 'TS:', '17000', 'EW', '1652751', 'EWPERSTEP', '1.653E+03']\n",
      "['###', 'NNP', 'EW', 'SUMMARY', '###', 'TS:', '18000', 'EW', '1735129', 'EWPERSTEP', '1.735E+03']\n",
      "['###', 'NNP', 'EW', 'SUMMARY', '###', 'TS:', '19000', 'EW', '1901410', 'EWPERSTEP', '1.901E+03']\n",
      "['###', 'NNP', 'EW', 'SUMMARY', '###', 'TS:', '20000', 'EW', '1875437', 'EWPERSTEP', '1.875E+03']\n",
      "['###', 'NNP', 'EW', 'SUMMARY', '###', 'TS:', '21000', 'EW', '2082335', 'EWPERSTEP', '2.082E+03']\n",
      "['###', 'NNP', 'EW', 'SUMMARY', '###', 'TS:', '22000', 'EW', '2016574', 'EWPERSTEP', '2.017E+03']\n",
      "['###', 'NNP', 'EW', 'SUMMARY', '###', 'TS:', '23000', 'EW', '2109268', 'EWPERSTEP', '2.109E+03']\n",
      "['###', 'NNP', 'EW', 'SUMMARY', '###', 'TS:', '24000', 'EW', '2192689', 'EWPERSTEP', '2.193E+03']\n",
      "['###', 'NNP', 'EW', 'SUMMARY', '###', 'TS:', '25000', 'EW', '2200966', 'EWPERSTEP', '2.201E+03']\n",
      "['###', 'NNP', 'EW', 'SUMMARY', '###', 'TS:', '26000', 'EW', '2193277', 'EWPERSTEP', '2.193E+03']\n",
      "['###', 'NNP', 'EW', 'SUMMARY', '###', 'TS:', '27000', 'EW', '2192858', 'EWPERSTEP', '2.193E+03']\n",
      "['###', 'NNP', 'EW', 'SUMMARY', '###', 'TS:', '28000', 'EW', '2184516', 'EWPERSTEP', '2.185E+03']\n",
      "['###', 'NNP', 'EW', 'SUMMARY', '###', 'TS:', '29000', 'EW', '2211127', 'EWPERSTEP', '2.211E+03']\n",
      "['###', 'NNP', 'EW', 'SUMMARY', '###', 'TS:', '30000', 'EW', '2245407', 'EWPERSTEP', '2.245E+03']\n",
      "['###', 'NNP', 'EW', 'SUMMARY', '###', 'TS:', '31000', 'EW', '2276869', 'EWPERSTEP', '2.277E+03']\n",
      "['###', 'NNP', 'EW', 'SUMMARY', '###', 'TS:', '32000', 'EW', '2292937', 'EWPERSTEP', '2.293E+03']\n",
      "['###', 'NNP', 'EW', 'SUMMARY', '###', 'TS:', '33000', 'EW', '2331837', 'EWPERSTEP', '2.332E+03']\n",
      "['###', 'NNP', 'EW', 'SUMMARY', '###', 'TS:', '34000', 'EW', '2274040', 'EWPERSTEP', '2.274E+03']\n",
      "['###', 'NNP', 'EW', 'SUMMARY', '###', 'TS:', '35000', 'EW', '2396245', 'EWPERSTEP', '2.396E+03']\n",
      "['###', 'NNP', 'EW', 'SUMMARY', '###', 'TS:', '36000', 'EW', '2432197', 'EWPERSTEP', '2.432E+03']\n",
      "['###', 'NNP', 'EW', 'SUMMARY', '###', 'TS:', '37000', 'EW', '2422871', 'EWPERSTEP', '2.423E+03']\n",
      "['###', 'NNP', 'EW', 'SUMMARY', '###', 'TS:', '38000', 'EW', '2476068', 'EWPERSTEP', '2.476E+03']\n"
     ]
    },
    {
     "ename": "ValueError",
     "evalue": "cannot set a row with mismatched columns",
     "output_type": "error",
     "traceback": [
      "\u001b[0;31m---------------------------------------------------------------------------\u001b[0m",
      "\u001b[0;31mValueError\u001b[0m                                Traceback (most recent call last)",
      "\u001b[0;32m<ipython-input-11-9a6b39c455bc>\u001b[0m in \u001b[0;36m<module>\u001b[0;34m()\u001b[0m\n\u001b[1;32m      7\u001b[0m         \u001b[0;32mpass\u001b[0m\u001b[0;34m\u001b[0m\u001b[0;34m\u001b[0m\u001b[0m\n\u001b[1;32m      8\u001b[0m     \u001b[0;32melse\u001b[0m\u001b[0;34m:\u001b[0m\u001b[0;34m\u001b[0m\u001b[0;34m\u001b[0m\u001b[0m\n\u001b[0;32m----> 9\u001b[0;31m         \u001b[0mdf\u001b[0m\u001b[0;34m.\u001b[0m\u001b[0mloc\u001b[0m\u001b[0;34m[\u001b[0m\u001b[0mi\u001b[0m\u001b[0;34m]\u001b[0m \u001b[0;34m=\u001b[0m \u001b[0ma\u001b[0m\u001b[0;34m\u001b[0m\u001b[0;34m\u001b[0m\u001b[0m\n\u001b[0m",
      "\u001b[0;32m~/anaconda3/lib/python3.6/site-packages/pandas/core/indexing.py\u001b[0m in \u001b[0;36m__setitem__\u001b[0;34m(self, key, value)\u001b[0m\n\u001b[1;32m    187\u001b[0m             \u001b[0mkey\u001b[0m \u001b[0;34m=\u001b[0m \u001b[0mcom\u001b[0m\u001b[0;34m.\u001b[0m\u001b[0m_apply_if_callable\u001b[0m\u001b[0;34m(\u001b[0m\u001b[0mkey\u001b[0m\u001b[0;34m,\u001b[0m \u001b[0mself\u001b[0m\u001b[0;34m.\u001b[0m\u001b[0mobj\u001b[0m\u001b[0;34m)\u001b[0m\u001b[0;34m\u001b[0m\u001b[0;34m\u001b[0m\u001b[0m\n\u001b[1;32m    188\u001b[0m         \u001b[0mindexer\u001b[0m \u001b[0;34m=\u001b[0m \u001b[0mself\u001b[0m\u001b[0;34m.\u001b[0m\u001b[0m_get_setitem_indexer\u001b[0m\u001b[0;34m(\u001b[0m\u001b[0mkey\u001b[0m\u001b[0;34m)\u001b[0m\u001b[0;34m\u001b[0m\u001b[0;34m\u001b[0m\u001b[0m\n\u001b[0;32m--> 189\u001b[0;31m         \u001b[0mself\u001b[0m\u001b[0;34m.\u001b[0m\u001b[0m_setitem_with_indexer\u001b[0m\u001b[0;34m(\u001b[0m\u001b[0mindexer\u001b[0m\u001b[0;34m,\u001b[0m \u001b[0mvalue\u001b[0m\u001b[0;34m)\u001b[0m\u001b[0;34m\u001b[0m\u001b[0;34m\u001b[0m\u001b[0m\n\u001b[0m\u001b[1;32m    190\u001b[0m \u001b[0;34m\u001b[0m\u001b[0m\n\u001b[1;32m    191\u001b[0m     \u001b[0;32mdef\u001b[0m \u001b[0m_validate_key\u001b[0m\u001b[0;34m(\u001b[0m\u001b[0mself\u001b[0m\u001b[0;34m,\u001b[0m \u001b[0mkey\u001b[0m\u001b[0;34m,\u001b[0m \u001b[0maxis\u001b[0m\u001b[0;34m)\u001b[0m\u001b[0;34m:\u001b[0m\u001b[0;34m\u001b[0m\u001b[0;34m\u001b[0m\u001b[0m\n",
      "\u001b[0;32m~/anaconda3/lib/python3.6/site-packages/pandas/core/indexing.py\u001b[0m in \u001b[0;36m_setitem_with_indexer\u001b[0;34m(self, indexer, value)\u001b[0m\n\u001b[1;32m    443\u001b[0m                         \u001b[0;32mif\u001b[0m \u001b[0mis_list_like_indexer\u001b[0m\u001b[0;34m(\u001b[0m\u001b[0mvalue\u001b[0m\u001b[0;34m)\u001b[0m\u001b[0;34m:\u001b[0m\u001b[0;34m\u001b[0m\u001b[0;34m\u001b[0m\u001b[0m\n\u001b[1;32m    444\u001b[0m                             \u001b[0;32mif\u001b[0m \u001b[0mlen\u001b[0m\u001b[0;34m(\u001b[0m\u001b[0mvalue\u001b[0m\u001b[0;34m)\u001b[0m \u001b[0;34m!=\u001b[0m \u001b[0mlen\u001b[0m\u001b[0;34m(\u001b[0m\u001b[0mself\u001b[0m\u001b[0;34m.\u001b[0m\u001b[0mobj\u001b[0m\u001b[0;34m.\u001b[0m\u001b[0mcolumns\u001b[0m\u001b[0;34m)\u001b[0m\u001b[0;34m:\u001b[0m\u001b[0;34m\u001b[0m\u001b[0;34m\u001b[0m\u001b[0m\n\u001b[0;32m--> 445\u001b[0;31m                                 raise ValueError(\"cannot set a row with \"\n\u001b[0m\u001b[1;32m    446\u001b[0m                                                  \"mismatched columns\")\n\u001b[1;32m    447\u001b[0m \u001b[0;34m\u001b[0m\u001b[0m\n",
      "\u001b[0;31mValueError\u001b[0m: cannot set a row with mismatched columns"
     ]
    }
   ],
   "source": [
    "import pandas as pd\n",
    "df = pd.DataFrame(columns=['Step', 'Temp', 'E_pair','E_mol','TotEng','Press'])\n",
    "for i,j in enumerate(logs):\n",
    "    a=j.split()\n",
    "    if('NNP' in a):\n",
    "        print(a)\n",
    "        pass\n",
    "    else:\n",
    "        df.loc[i] = a"
   ]
  },
  {
   "cell_type": "code",
   "execution_count": 12,
   "metadata": {},
   "outputs": [
    {
     "ename": "TypeError",
     "evalue": "cannot convert the series to <class 'float'>",
     "output_type": "error",
     "traceback": [
      "\u001b[0;31m---------------------------------------------------------------------------\u001b[0m",
      "\u001b[0;31mTypeError\u001b[0m                                 Traceback (most recent call last)",
      "\u001b[0;32m<ipython-input-12-c3e5a94f7889>\u001b[0m in \u001b[0;36m<module>\u001b[0;34m()\u001b[0m\n\u001b[0;32m----> 1\u001b[0;31m \u001b[0mdf\u001b[0m\u001b[0;34m[\u001b[0m\u001b[0;34m'Step'\u001b[0m\u001b[0;34m]\u001b[0m\u001b[0;34m=\u001b[0m\u001b[0mfloat\u001b[0m\u001b[0;34m(\u001b[0m\u001b[0mdf\u001b[0m\u001b[0;34m[\u001b[0m\u001b[0;34m'Step'\u001b[0m\u001b[0;34m]\u001b[0m\u001b[0;34m)\u001b[0m\u001b[0;34m\u001b[0m\u001b[0;34m\u001b[0m\u001b[0m\n\u001b[0m",
      "\u001b[0;32m~/anaconda3/lib/python3.6/site-packages/pandas/core/series.py\u001b[0m in \u001b[0;36mwrapper\u001b[0;34m(self)\u001b[0m\n\u001b[1;32m    115\u001b[0m             \u001b[0;32mreturn\u001b[0m \u001b[0mconverter\u001b[0m\u001b[0;34m(\u001b[0m\u001b[0mself\u001b[0m\u001b[0;34m.\u001b[0m\u001b[0miloc\u001b[0m\u001b[0;34m[\u001b[0m\u001b[0;36m0\u001b[0m\u001b[0;34m]\u001b[0m\u001b[0;34m)\u001b[0m\u001b[0;34m\u001b[0m\u001b[0;34m\u001b[0m\u001b[0m\n\u001b[1;32m    116\u001b[0m         raise TypeError(\"cannot convert the series to \"\n\u001b[0;32m--> 117\u001b[0;31m                         \"{0}\".format(str(converter)))\n\u001b[0m\u001b[1;32m    118\u001b[0m \u001b[0;34m\u001b[0m\u001b[0m\n\u001b[1;32m    119\u001b[0m     \u001b[0;32mreturn\u001b[0m \u001b[0mwrapper\u001b[0m\u001b[0;34m\u001b[0m\u001b[0;34m\u001b[0m\u001b[0m\n",
      "\u001b[0;31mTypeError\u001b[0m: cannot convert the series to <class 'float'>"
     ]
    }
   ],
   "source": [
    "df['Step']=float(df['Step'])"
   ]
  }
 ],
 "metadata": {
  "kernelspec": {
   "display_name": "Python 3",
   "language": "python",
   "name": "python3"
  },
  "language_info": {
   "codemirror_mode": {
    "name": "ipython",
    "version": 3
   },
   "file_extension": ".py",
   "mimetype": "text/x-python",
   "name": "python",
   "nbconvert_exporter": "python",
   "pygments_lexer": "ipython3",
   "version": "3.6.8"
  }
 },
 "nbformat": 4,
 "nbformat_minor": 2
}
