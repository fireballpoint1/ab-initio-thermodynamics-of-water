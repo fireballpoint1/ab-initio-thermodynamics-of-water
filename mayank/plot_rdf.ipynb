{
 "cells": [
  {
   "cell_type": "code",
   "execution_count": 10,
   "metadata": {},
   "outputs": [
    {
     "name": "stdout",
     "output_type": "stream",
     "text": [
      "\n",
      "    SYS Unit cell\n",
      "    SYS ~~~~~~~~~~~~~~~~~~~~~~~~~~~~~~~~~~~~~~~~~~~~~~~~~~~~~~~~~~~~~~~~~~~~~~~~\n",
      "    SYS Number of periodic dimensions: 3\n",
      "    SYS Cell parameter     a:    46.9370\n",
      "    SYS Cell parameter     b:    44.1214\n",
      "    SYS Cell parameter     c:    45.1826\n",
      "    SYS Cell parameter alpha:   90.00000\n",
      "    SYS Cell parameter  beta:   90.00000\n",
      "    SYS Cell parameter gamma:   90.00000\n",
      "    SYS ~~~~~~~~~~~~~~~~~~~~~~~~~~~~~~~~~~~~~~~~~~~~~~~~~~~~~~~~~~~~~~~~~~~~~~~~\n",
      "\n",
      "\n",
      "  XYZH5 Loading XYZ file './data/out_unbiased5.xyz' into 'trajectory/pos' of\n",
      "  XYZH5 HDF5 file 'trajectory-out-unbaised5.h5'\n",
      "[  1   2   4   5   7   8  10  11  13  14  16  17  19  20  22  23  25  26\n",
      "  28  29  31  32  34  35  37  38  40  41  43  44  46  47  49  50  52  53\n",
      "  55  56  58  59  61  62  64  65  67  68  70  71  73  74  76  77  79  80\n",
      "  82  83  85  86  88  89  91  92  94  95  97  98 100 101 103 104 106 107\n",
      " 109 110 112 113 115 116 118 119 121 122 124 125 127 128 130 131 133 134\n",
      " 136 137 139 140 142 143 145 146 148 149 151 152 154 155 157 158 160 161\n",
      " 163 164 166 167 169 170 172 173 175 176 178 179 181 182 184 185 187 188\n",
      " 190 191]\n",
      "\n",
      "RDF DATA FOR THE X-AXIS [A]\n",
      "[0.05 0.15 0.25 0.35 0.45 0.55 0.65 0.75 0.85 0.95 1.05 1.15 1.25 1.35\n",
      " 1.45 1.55 1.65 1.75 1.85 1.95 2.05 2.15 2.25 2.35 2.45 2.55 2.65 2.75\n",
      " 2.85 2.95 3.05 3.15 3.25 3.35 3.45 3.55 3.65 3.75 3.85 3.95 4.05 4.15\n",
      " 4.25 4.35 4.45 4.55 4.65 4.75 4.85 4.95 5.05 5.15 5.25 5.35 5.45 5.55\n",
      " 5.65 5.75 5.85 5.95 6.05 6.15 6.25 6.35 6.45 6.55 6.65 6.75 6.85 6.95\n",
      " 7.05 7.15 7.25 7.35 7.45 7.55 7.65 7.75 7.85 7.95 8.05 8.15 8.25 8.35\n",
      " 8.45 8.55 8.65 8.75 8.85 8.95 9.05 9.15 9.25 9.35 9.45 9.55 9.65 9.75\n",
      " 9.85]\n",
      "\n",
      "RDF DATA FOR THE Y-AXIS\n",
      "[0.00000000e+00 0.00000000e+00 0.00000000e+00 0.00000000e+00\n",
      " 0.00000000e+00 0.00000000e+00 0.00000000e+00 0.00000000e+00\n",
      " 0.00000000e+00 0.00000000e+00 0.00000000e+00 1.99580261e-04\n",
      " 1.18247313e-03 1.09299979e+00 4.77621626e+01 1.27502248e+02\n",
      " 2.68168983e+01 8.67290605e-01 2.13885982e+00 7.05713335e+00\n",
      " 1.68749502e+01 3.07772024e+01 4.43084360e+01 5.19411053e+01\n",
      " 5.09461797e+01 4.38334840e+01 3.52772829e+01 2.84729966e+01\n",
      " 2.44128149e+01 2.28341375e+01 2.29455150e+01 2.40540850e+01\n",
      " 2.59309460e+01 2.81433817e+01 3.06311349e+01 3.30328738e+01\n",
      " 3.49570620e+01 3.58166606e+01 3.53682954e+01 3.39383653e+01\n",
      " 3.21564939e+01 3.04969648e+01 2.93035458e+01 2.83987969e+01\n",
      " 2.77075429e+01 2.70409234e+01 2.63042679e+01 2.54905784e+01\n",
      " 2.45929429e+01 2.37157652e+01 2.29056767e+01 2.22104516e+01\n",
      " 2.16180182e+01 2.11470649e+01 2.08529041e+01 2.06751393e+01\n",
      " 2.05116500e+01 2.04568011e+01 2.03230589e+01 2.02425996e+01\n",
      " 2.00591053e+01 1.98695986e+01 1.95597610e+01 1.92503265e+01\n",
      " 1.89048306e+01 1.85544848e+01 1.81863986e+01 1.78513818e+01\n",
      " 1.74834432e+01 1.71451806e+01 1.67903100e+01 1.64075705e+01\n",
      " 1.60562959e+01 1.56942961e+01 1.53799422e+01 1.50361099e+01\n",
      " 1.46963625e+01 1.43825172e+01 1.40595925e+01 1.37325347e+01\n",
      " 1.34364926e+01 1.31242235e+01 1.28086248e+01 1.24780888e+01\n",
      " 1.21922894e+01 1.19007383e+01 1.16151346e+01 1.13394105e+01\n",
      " 1.10651490e+01 1.07886761e+01 1.04965360e+01 1.02090313e+01\n",
      " 9.94746728e+00 9.66726237e+00 9.38372020e+00 9.12784118e+00\n",
      " 8.85111701e+00 8.61439227e+00 8.37356525e+00]\n"
     ]
    },
    {
     "data": {
      "image/png": "[encoded data removed]",
      "text/plain": [
       "<Figure size 432x288 with 1 Axes>"
      ]
     },
     "metadata": {
      "needs_background": "light"
     },
     "output_type": "display_data"
    }
   ],
   "source": [
    "import numpy as np \n",
    "from yaff import *\n",
    "#system = System.from_file('../training-set/dataset_1593.xyz', rvecs=np.diag([23.46511000, 23.46511000, 23.46511000])*angstrom)\n",
    "#system = System.from_file('./out7.xyz', rvecs=np.diag([46.93703259338623,44.1214358830923,45.18259257711876])*angstrom)\n",
    "system = System.from_file('./data/out_unbiased5.xyz', rvecs=np.diag([46.93703259338623,44.1214358830923,45.18259257711876])*angstrom)\n",
    "\n",
    "# Create a HDF5 file and convert the XYZ file to arrays in the HDF5 file\n",
    "import h5py as h5\n",
    "with  h5.File('trajectory-out-unbaised5.h5', mode='w') as f:\n",
    "    system.to_hdf5(f)\n",
    "    xyz_to_hdf5(f, './data/out_unbiased5.xyz')\n",
    "\n",
    "    # Select two lists of atom indexes based on the ATSELECT rules '1' and '8'\n",
    "    select0 = system.get_indexes('1')\n",
    "    select1 = system.get_indexes('2')\n",
    "    print(select0)\n",
    "\n",
    "    # Note. The remainder of the example may be moved to a separate script if\n",
    "    # that would be more convenient, e.g. in case different RDFs must be generated.\n",
    "    # This would avoid repetetive conversion of the XYZ file.\n",
    "\n",
    "    # Create the RDF.\n",
    "    rdf = RDF(10*angstrom, 0.1*angstrom, f, max_sample=100000, select0=select0, select1=select1)\n",
    "    # One may make plots with the rdf object ...\n",
    "    rdf.plot()\n",
    "    # ... or access the results as Numpy arrays\n",
    "    print()\n",
    "    print('RDF DATA FOR THE X-AXIS [A]')\n",
    "    print(rdf.d/angstrom)\n",
    "    print()\n",
    "    print('RDF DATA FOR THE Y-AXIS')\n",
    "    print(rdf.rdf)\n",
    "    #     rdf = RDF(10*angstrom, 0.1*angstrom, f, max_sample=100000, select0=select0, select1=select0)\n",
    "    # One may make plots with the rdf object ...\n",
    "    #     rdf.plot()\n",
    "    #     rdf = RDF(10*angstrom, 0.1*angstrom, f, max_sample=100000, select0=select1)\n",
    "    #     # One may make plots with the rdf object ...\n",
    "    #     rdf.plot()"
   ]
  },
  {
   "cell_type": "code",
   "execution_count": null,
   "metadata": {},
   "outputs": [],
   "source": []
  }
 ],
 "metadata": {
  "kernelspec": {
   "display_name": "Python 3",
   "language": "python",
   "name": "python3"
  },
  "language_info": {
   "codemirror_mode": {
    "name": "ipython",
    "version": 3
   },
   "file_extension": ".py",
   "mimetype": "text/x-python",
   "name": "python",
   "nbconvert_exporter": "python",
   "pygments_lexer": "ipython3",
   "version": "3.6.9"
  }
 },
 "nbformat": 4,
 "nbformat_minor": 2
}
