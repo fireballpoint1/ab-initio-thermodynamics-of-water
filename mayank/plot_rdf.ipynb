{
 "cells": [
  {
   "cell_type": "code",
   "execution_count": 3,
   "metadata": {},
   "outputs": [
    {
     "name": "stdout",
     "output_type": "stream",
     "text": [
      "\n",
      "    SYS Unit cell\n",
      "    SYS ~~~~~~~~~~~~~~~~~~~~~~~~~~~~~~~~~~~~~~~~~~~~~~~~~~~~~~~~~~~~~~~~~~~~~~~~\n",
      "    SYS Number of periodic dimensions: 3\n",
      "    SYS Cell parameter     a:    23.4651\n",
      "    SYS Cell parameter     b:    23.4651\n",
      "    SYS Cell parameter     c:    23.4651\n",
      "    SYS Cell parameter alpha:   90.00000\n",
      "    SYS Cell parameter  beta:   90.00000\n",
      "    SYS Cell parameter gamma:   90.00000\n",
      "    SYS ~~~~~~~~~~~~~~~~~~~~~~~~~~~~~~~~~~~~~~~~~~~~~~~~~~~~~~~~~~~~~~~~~~~~~~~~\n",
      "\n",
      "\n",
      "  XYZH5 Loading XYZ file '../training-set/dataset_1593.xyz' into\n",
      "  XYZH5 'trajectory/pos' of HDF5 file 'trajectory.h5'\n",
      "\n",
      "RDF DATA FOR THE X-AXIS [A]\n",
      "[0.05 0.15 0.25 0.35 0.45 0.55 0.65 0.75 0.85 0.95 1.05 1.15 1.25 1.35\n",
      " 1.45 1.55 1.65 1.75 1.85 1.95 2.05 2.15 2.25 2.35 2.45 2.55 2.65 2.75\n",
      " 2.85 2.95 3.05 3.15 3.25 3.35 3.45 3.55 3.65 3.75 3.85 3.95 4.05 4.15\n",
      " 4.25 4.35 4.45 4.55 4.65 4.75 4.85 4.95 5.05 5.15 5.25 5.35 5.45 5.55\n",
      " 5.65 5.75 5.85 5.95 6.05 6.15 6.25 6.35 6.45 6.55 6.65 6.75 6.85 6.95\n",
      " 7.05 7.15 7.25 7.35 7.45 7.55 7.65 7.75 7.85 7.95 8.05 8.15 8.25 8.35\n",
      " 8.45 8.55 8.65 8.75 8.85 8.95 9.05 9.15 9.25 9.35 9.45 9.55 9.65 9.75\n",
      " 9.85]\n",
      "\n",
      "RDF DATA FOR THE Y-AXIS\n",
      "[ 0.          0.28013003  0.22690532  0.21867293  0.26845795  0.26826502\n",
      "  0.27785087  0.28713328  0.32496053  0.28459194  0.29299314  0.29727409\n",
      "  0.31010394  0.30952639  0.58569993  1.51342362  4.4971288   9.90819918\n",
      " 18.05680015  7.64390317  3.25082485  1.26194867  0.61441853  0.4192915\n",
      "  0.36961763  0.35803817  0.36608128  0.38973959  0.40535436  0.4627155\n",
      "  0.51095876  0.56827966  0.6202974   0.67297667  0.72223506  0.72269213\n",
      "  0.71515557  0.71040976  0.69120632  0.66670027  0.65008228  0.63386078\n",
      "  0.6114056   0.60401997  0.59448501  0.59547083  0.61006986  0.62229606\n",
      "  0.64707313  0.68235071  0.71426155  0.75054068  0.79899945  0.84816163\n",
      "  0.90193747  0.96224359  1.00748582  1.05996385  1.08969385  1.12302994\n",
      "  1.14932285  1.16328536  1.16853217  1.18194023  1.17477732  1.16257595\n",
      "  1.15693196  1.13874587  1.11913955  1.10949565  1.09000573  1.07073297\n",
      "  1.05169674  1.03787243  1.03589028  1.02491305  1.01971208  1.01321662\n",
      "  1.00766519  1.00613452  0.99387614  0.99469936  0.98920628  0.99262774\n",
      "  0.98876995  0.99338816  0.9915383   0.99266192  0.99004157  0.99630919\n",
      "  0.98779376  0.99069367  0.99361549  0.99520401  0.99920279  0.99701154\n",
      "  1.00226823  0.99992332  0.99938296]\n"
     ]
    },
    {
     "data": {
      "image/png": "[encoded data removed]",
      "text/plain": [
       "<Figure size 432x288 with 1 Axes>"
      ]
     },
     "metadata": {
      "needs_background": "light"
     },
     "output_type": "display_data"
    }
   ],
   "source": [
    "import numpy as np \n",
    "from yaff import *\n",
    "system = System.from_file('../training-set/dataset_1593.xyz', rvecs=np.diag([23.46511000, 23.46511000, 23.46511000])*angstrom)\n",
    "# Create a HDF5 file and convert the XYZ file to arrays in the HDF5 file\n",
    "import h5py as h5\n",
    "with  h5.File('trajectory.h5', mode='w') as f:\n",
    "    system.to_hdf5(f)\n",
    "    xyz_to_hdf5(f, '../training-set/dataset_1593.xyz')\n",
    "\n",
    "    # Select two lists of atom indexes based on the ATSELECT rules '1' and '8'\n",
    "    select0 = system.get_indexes('1')\n",
    "    select1 = system.get_indexes('8')\n",
    "\n",
    "    # Note. The remainder of the example may be moved to a separate script if\n",
    "    # that would be more convenient, e.g. in case different RDFs must be generated.\n",
    "    # This would avoid repetetive conversion of the XYZ file.\n",
    "\n",
    "    # Create the RDF.\n",
    "    rdf = RDF(10*angstrom, 0.1*angstrom, f, max_sample=10000, select0=select0, select1=select1)\n",
    "    # One may make plots with the rdf object ...\n",
    "    rdf.plot()\n",
    "    # ... or access the results as Numpy arrays\n",
    "    print()\n",
    "    print('RDF DATA FOR THE X-AXIS [A]')\n",
    "    print(rdf.d/angstrom)\n",
    "    print()\n",
    "    print('RDF DATA FOR THE Y-AXIS')\n",
    "    print(rdf.rdf)"
   ]
  }
 ],
 "metadata": {
  "kernelspec": {
   "display_name": "Python 3",
   "language": "python",
   "name": "python3"
  },
  "language_info": {
   "codemirror_mode": {
    "name": "ipython",
    "version": 3
   },
   "file_extension": ".py",
   "mimetype": "text/x-python",
   "name": "python",
   "nbconvert_exporter": "python",
   "pygments_lexer": "ipython3",
   "version": "3.5.2"
  }
 },
 "nbformat": 4,
 "nbformat_minor": 2
}
