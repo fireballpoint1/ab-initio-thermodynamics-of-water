{
 "cells": [
  {
   "cell_type": "code",
   "execution_count": 3,
   "metadata": {},
   "outputs": [
    {
     "name": "stdout",
     "output_type": "stream",
     "text": [
      "\n",
      "    SYS Unit cell\n",
      "    SYS ~~~~~~~~~~~~~~~~~~~~~~~~~~~~~~~~~~~~~~~~~~~~~~~~~~~~~~~~~~~~~~~~~~~~~~~~\n",
      "    SYS Number of periodic dimensions: 3\n",
      "    SYS Cell parameter     a:    46.9370\n",
      "    SYS Cell parameter     b:    44.1214\n",
      "    SYS Cell parameter     c:    45.1826\n",
      "    SYS Cell parameter alpha:   90.00000\n",
      "    SYS Cell parameter  beta:   90.00000\n",
      "    SYS Cell parameter gamma:   90.00000\n",
      "    SYS ~~~~~~~~~~~~~~~~~~~~~~~~~~~~~~~~~~~~~~~~~~~~~~~~~~~~~~~~~~~~~~~~~~~~~~~~\n",
      "\n",
      "\n",
      "  XYZH5 Loading XYZ file './out7.xyz' into 'trajectory/pos' of HDF5 file\n",
      "  XYZH5 'trajectory-out7.h5'\n",
      "\n",
      "RDF DATA FOR THE X-AXIS [A]\n",
      "[0.05 0.15 0.25 0.35 0.45 0.55 0.65 0.75 0.85 0.95 1.05 1.15 1.25 1.35\n",
      " 1.45 1.55 1.65 1.75 1.85 1.95 2.05 2.15 2.25 2.35 2.45 2.55 2.65 2.75\n",
      " 2.85 2.95 3.05 3.15 3.25 3.35 3.45 3.55 3.65 3.75 3.85 3.95 4.05 4.15\n",
      " 4.25 4.35 4.45 4.55 4.65 4.75 4.85 4.95 5.05 5.15 5.25 5.35 5.45 5.55\n",
      " 5.65 5.75 5.85 5.95 6.05 6.15 6.25 6.35 6.45 6.55 6.65 6.75 6.85 6.95\n",
      " 7.05 7.15 7.25 7.35 7.45 7.55 7.65 7.75 7.85 7.95 8.05 8.15 8.25 8.35\n",
      " 8.45 8.55 8.65 8.75 8.85 8.95 9.05 9.15 9.25 9.35 9.45 9.55 9.65 9.75\n",
      " 9.85]\n",
      "\n",
      "RDF DATA FOR THE Y-AXIS\n",
      "[0.00000000e+00 0.00000000e+00 0.00000000e+00 0.00000000e+00\n",
      " 0.00000000e+00 0.00000000e+00 0.00000000e+00 0.00000000e+00\n",
      " 9.95175836e+00 1.14989214e+03 1.07176942e+02 2.39355223e-01\n",
      " 0.00000000e+00 4.96252843e-02 1.07541119e-01 1.31757454e+00\n",
      " 9.31827498e+00 2.68446861e+01 3.59390006e+01 3.12057883e+01\n",
      " 2.18976364e+01 1.49970481e+01 9.42384149e+00 6.10043912e+00\n",
      " 4.15860296e+00 2.94866914e+00 3.01366278e+00 3.23498616e+00\n",
      " 4.78794641e+00 8.16862688e+00 1.37522519e+01 2.04992935e+01\n",
      " 2.70619830e+01 2.91937124e+01 2.61847015e+01 2.18883829e+01\n",
      " 1.78134749e+01 1.44417914e+01 1.17701315e+01 1.02803416e+01\n",
      " 1.00711758e+01 9.45250371e+00 9.38094052e+00 9.78863159e+00\n",
      " 9.69846021e+00 1.01920722e+01 1.05113169e+01 1.03920707e+01\n",
      " 1.08426684e+01 1.09977422e+01 1.09530582e+01 1.15718805e+01\n",
      " 1.18325313e+01 1.19773153e+01 1.23441527e+01 1.19752626e+01\n",
      " 1.16018583e+01 1.12784181e+01 1.08881985e+01 1.04882413e+01\n",
      " 1.01987484e+01 9.70000133e+00 9.03321031e+00 8.52327873e+00\n",
      " 8.24690903e+00 7.67869655e+00 7.49346562e+00 7.29789431e+00\n",
      " 7.36874792e+00 7.54581202e+00 7.45973160e+00 7.39405694e+00\n",
      " 7.21213757e+00 7.32945401e+00 7.19837649e+00 6.99388082e+00\n",
      " 6.92118174e+00 6.67596195e+00 6.80342837e+00 6.47379412e+00\n",
      " 6.27208380e+00 6.29135660e+00 6.19955963e+00 5.88980985e+00\n",
      " 5.68283176e+00 5.47892007e+00 5.41703611e+00 5.27797834e+00\n",
      " 5.18882172e+00 5.13110122e+00 4.99183084e+00 4.96217501e+00\n",
      " 4.94108407e+00 4.79923146e+00 4.56096873e+00 4.61519633e+00\n",
      " 4.53023797e+00 4.44587343e+00 4.35652621e+00]\n"
     ]
    },
    {
     "data": {
      "image/png": "[encoded data removed]",
      "text/plain": [
       "<Figure size 432x288 with 1 Axes>"
      ]
     },
     "metadata": {
      "needs_background": "light"
     },
     "output_type": "display_data"
    }
   ],
   "source": [
    "import numpy as np \n",
    "from yaff import *\n",
    "#system = System.from_file('../training-set/dataset_1593.xyz', rvecs=np.diag([23.46511000, 23.46511000, 23.46511000])*angstrom)\n",
    "system = System.from_file('./out7.xyz', rvecs=np.diag([46.93703259338623,44.1214358830923,45.18259257711876])*angstrom)\n",
    "\n",
    "# Create a HDF5 file and convert the XYZ file to arrays in the HDF5 file\n",
    "import h5py as h5\n",
    "with  h5.File('trajectory-out7.h5', mode='w') as f:\n",
    "    system.to_hdf5(f)\n",
    "    xyz_to_hdf5(f, './out7.xyz')\n",
    "\n",
    "    # Select two lists of atom indexes based on the ATSELECT rules '1' and '8'\n",
    "    select0 = system.get_indexes('1')\n",
    "    select1 = system.get_indexes('8')\n",
    "\n",
    "    # Note. The remainder of the example may be moved to a separate script if\n",
    "    # that would be more convenient, e.g. in case different RDFs must be generated.\n",
    "    # This would avoid repetetive conversion of the XYZ file.\n",
    "\n",
    "    # Create the RDF.\n",
    "    rdf = RDF(10*angstrom, 0.1*angstrom, f, max_sample=10000, select0=select0, select1=select1)\n",
    "    # One may make plots with the rdf object ...\n",
    "    rdf.plot()\n",
    "    # ... or access the results as Numpy arrays\n",
    "    print()\n",
    "    print('RDF DATA FOR THE X-AXIS [A]')\n",
    "    print(rdf.d/angstrom)\n",
    "    print()\n",
    "    print('RDF DATA FOR THE Y-AXIS')\n",
    "    print(rdf.rdf)"
   ]
  }
 ],
 "metadata": {
  "kernelspec": {
   "display_name": "Python 3",
   "language": "python",
   "name": "python3"
  },
  "language_info": {
   "codemirror_mode": {
    "name": "ipython",
    "version": 3
   },
   "file_extension": ".py",
   "mimetype": "text/x-python",
   "name": "python",
   "nbconvert_exporter": "python",
   "pygments_lexer": "ipython3",
   "version": "3.6.9"
  }
 },
 "nbformat": 4,
 "nbformat_minor": 2
}
