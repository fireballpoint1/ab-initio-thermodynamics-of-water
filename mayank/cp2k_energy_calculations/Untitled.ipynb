{
 "cells": [
  {
   "cell_type": "code",
   "execution_count": 5,
   "metadata": {},
   "outputs": [
    {
     "name": "stdout",
     "output_type": "stream",
     "text": [
      "slurm-137527.out\n",
      "output.out\n",
      "slurm-137533.out\n",
      "slurm-137526.out\n",
      "slurm-135337.out\n",
      "slurm-137534.out\n",
      "slurm-137520.out\n",
      "slurm-135334.out\n",
      "slurm-137521.out\n",
      "slurm-137528.out\n",
      "slurm-135336.out\n",
      "slurm-134615.out\n",
      "slurm-137531.out\n",
      "slurm-135332.out\n",
      "slurm-137516.out\n",
      "slurm-136270.out\n",
      "slurm-137515.out\n",
      "slurm-137522.out\n",
      "slurm-136269.out\n",
      "slurm-138909.out\n",
      "slurm-135308.out\n",
      "slurm-135335.out\n",
      "slurm-137519.out\n",
      "slurm-137524.out\n"
     ]
    }
   ],
   "source": [
    "import os\n",
    "\n",
    "directory = os.fsencode(\".\")\n",
    "\n",
    "for file in os.listdir(directory):\n",
    "    filename = os.fsdecode(file)\n",
    "    if filename.endswith(\".out\"): \n",
    "        print(filename)\n",
    "        continue\n",
    "    else:\n",
    "        continue"
   ]
  }
 ],
 "metadata": {
  "kernelspec": {
   "display_name": "Python 3",
   "language": "python",
   "name": "python3"
  },
  "language_info": {
   "codemirror_mode": {
    "name": "ipython",
    "version": 3
   },
   "file_extension": ".py",
   "mimetype": "text/x-python",
   "name": "python",
   "nbconvert_exporter": "python",
   "pygments_lexer": "ipython3",
   "version": "3.7.4"
  }
 },
 "nbformat": 4,
 "nbformat_minor": 2
}
