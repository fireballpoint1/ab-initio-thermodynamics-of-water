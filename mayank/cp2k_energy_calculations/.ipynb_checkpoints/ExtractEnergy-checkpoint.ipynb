{
 "cells": [
  {
   "cell_type": "code",
   "execution_count": 1,
   "metadata": {},
   "outputs": [],
   "source": [
    "import re\n",
    "def strip_all_but_numbers(stub):\n",
    "    return int(re.sub('\\D', '', stub))"
   ]
  },
  {
   "cell_type": "markdown",
   "metadata": {},
   "source": [
    "# Read all CP2K output files for energy"
   ]
  },
  {
   "cell_type": "code",
   "execution_count": 2,
   "metadata": {},
   "outputs": [
    {
     "name": "stdout",
     "output_type": "stream",
     "text": [
      "<class 'str'>\n"
     ]
    }
   ],
   "source": [
    "import os\n",
    "\n",
    "directory = \"./output\"\n",
    "print(type(directory))\n",
    "target_string=\"ENERGY| Total FORCE_EVAL ( QS ) energy (a.u.):\"\n",
    "mapping={}\n",
    "\n",
    "for file in os.listdir(directory):\n",
    "    filename = os.fsdecode(directory+\"/\"+file)\n",
    "    if filename.endswith(\".out\"): \n",
    "        with open(filename,'r') as f:\n",
    "            for line in f:\n",
    "                if target_string in line:\n",
    "                    mapping[strip_all_but_numbers(filename)]=float(line.replace(target_string,''))\n",
    "                    break\n",
    "        continue\n",
    "    else:\n",
    "        continue"
   ]
  },
  {
   "cell_type": "code",
   "execution_count": 3,
   "metadata": {},
   "outputs": [
    {
     "data": {
      "text/plain": [
       "[1,\n",
       " 2,\n",
       " 3,\n",
       " 4,\n",
       " 5,\n",
       " 6,\n",
       " 7,\n",
       " 8,\n",
       " 9,\n",
       " 10,\n",
       " 11,\n",
       " 12,\n",
       " 13,\n",
       " 14,\n",
       " 15,\n",
       " 16,\n",
       " 17,\n",
       " 18,\n",
       " 19,\n",
       " 20,\n",
       " 21,\n",
       " 22,\n",
       " 23,\n",
       " 24,\n",
       " 25,\n",
       " 26,\n",
       " 27,\n",
       " 28,\n",
       " 29,\n",
       " 30,\n",
       " 31,\n",
       " 32,\n",
       " 33,\n",
       " 34,\n",
       " 35,\n",
       " 36,\n",
       " 37,\n",
       " 38,\n",
       " 39,\n",
       " 40,\n",
       " 41,\n",
       " 42,\n",
       " 43,\n",
       " 44,\n",
       " 45,\n",
       " 46,\n",
       " 47,\n",
       " 48,\n",
       " 49,\n",
       " 50,\n",
       " 51,\n",
       " 52,\n",
       " 53,\n",
       " 54,\n",
       " 55,\n",
       " 56,\n",
       " 57,\n",
       " 58,\n",
       " 59,\n",
       " 60,\n",
       " 61,\n",
       " 62,\n",
       " 63,\n",
       " 64,\n",
       " 65,\n",
       " 66,\n",
       " 67,\n",
       " 68,\n",
       " 69,\n",
       " 70,\n",
       " 71,\n",
       " 72,\n",
       " 73,\n",
       " 74,\n",
       " 75,\n",
       " 76,\n",
       " 77,\n",
       " 78,\n",
       " 79,\n",
       " 80,\n",
       " 81,\n",
       " 82,\n",
       " 83,\n",
       " 84,\n",
       " 85,\n",
       " 86,\n",
       " 87,\n",
       " 88,\n",
       " 89,\n",
       " 90,\n",
       " 91,\n",
       " 92,\n",
       " 93,\n",
       " 94,\n",
       " 95,\n",
       " 96,\n",
       " 97,\n",
       " 98,\n",
       " 99,\n",
       " 100,\n",
       " 101,\n",
       " 102,\n",
       " 103,\n",
       " 104,\n",
       " 105,\n",
       " 106,\n",
       " 107,\n",
       " 108,\n",
       " 109,\n",
       " 110,\n",
       " 111,\n",
       " 112,\n",
       " 113,\n",
       " 114,\n",
       " 115,\n",
       " 116,\n",
       " 117,\n",
       " 118,\n",
       " 119,\n",
       " 120,\n",
       " 121,\n",
       " 122,\n",
       " 123,\n",
       " 124,\n",
       " 125,\n",
       " 126,\n",
       " 127,\n",
       " 128,\n",
       " 129,\n",
       " 130,\n",
       " 131,\n",
       " 132,\n",
       " 133,\n",
       " 134,\n",
       " 135,\n",
       " 136,\n",
       " 137,\n",
       " 138,\n",
       " 139,\n",
       " 140,\n",
       " 141,\n",
       " 142,\n",
       " 143,\n",
       " 144,\n",
       " 145,\n",
       " 146,\n",
       " 147,\n",
       " 148,\n",
       " 149,\n",
       " 150,\n",
       " 151,\n",
       " 152,\n",
       " 153,\n",
       " 154,\n",
       " 155,\n",
       " 156,\n",
       " 157,\n",
       " 158,\n",
       " 159,\n",
       " 160,\n",
       " 161,\n",
       " 162,\n",
       " 163,\n",
       " 164,\n",
       " 165,\n",
       " 166,\n",
       " 167,\n",
       " 168,\n",
       " 169,\n",
       " 170,\n",
       " 171,\n",
       " 172,\n",
       " 173,\n",
       " 174,\n",
       " 175,\n",
       " 176,\n",
       " 177,\n",
       " 178,\n",
       " 179,\n",
       " 180,\n",
       " 181,\n",
       " 182,\n",
       " 183,\n",
       " 184,\n",
       " 185,\n",
       " 186,\n",
       " 187,\n",
       " 188,\n",
       " 189,\n",
       " 190,\n",
       " 191,\n",
       " 192,\n",
       " 193,\n",
       " 194,\n",
       " 195,\n",
       " 196,\n",
       " 197,\n",
       " 198,\n",
       " 199,\n",
       " 200,\n",
       " 201]"
      ]
     },
     "execution_count": 3,
     "metadata": {},
     "output_type": "execute_result"
    }
   ],
   "source": [
    "temp=list(mapping.keys())\n",
    "temp.sort()\n",
    "temp"
   ]
  },
  {
   "cell_type": "code",
   "execution_count": 4,
   "metadata": {},
   "outputs": [
    {
     "data": {
      "text/plain": [
       "<module 'matplotlib.pyplot' from '/usr/local/lib/python3.6/dist-packages/matplotlib/pyplot.py'>"
      ]
     },
     "execution_count": 4,
     "metadata": {},
     "output_type": "execute_result"
    },
    {
     "data": {
      "image/png": "[encoded data removed]",
      "text/plain": [
       "<Figure size 432x288 with 1 Axes>"
      ]
     },
     "metadata": {
      "needs_background": "light"
     },
     "output_type": "display_data"
    }
   ],
   "source": [
    "import matplotlib.pyplot as plt\n",
    "plt.scatter(*zip(*mapping.items()))\n",
    "plt"
   ]
  },
  {
   "cell_type": "code",
   "execution_count": 5,
   "metadata": {},
   "outputs": [],
   "source": [
    "import collections\n",
    "od = collections.OrderedDict(sorted(mapping.items()))"
   ]
  },
  {
   "cell_type": "code",
   "execution_count": 6,
   "metadata": {},
   "outputs": [
    {
     "data": {
      "text/plain": [
       "<module 'matplotlib.pyplot' from '/usr/local/lib/python3.6/dist-packages/matplotlib/pyplot.py'>"
      ]
     },
     "execution_count": 6,
     "metadata": {},
     "output_type": "execute_result"
    },
    {
     "data": {
      "image/png": "[encoded data removed]",
      "text/plain": [
       "<Figure size 432x288 with 1 Axes>"
      ]
     },
     "metadata": {
      "needs_background": "light"
     },
     "output_type": "display_data"
    }
   ],
   "source": [
    "plt.plot(*zip(*od.items()))\n",
    "plt"
   ]
  },
  {
   "cell_type": "code",
   "execution_count": null,
   "metadata": {},
   "outputs": [],
   "source": []
  },
  {
   "cell_type": "code",
   "execution_count": 7,
   "metadata": {},
   "outputs": [
    {
     "name": "stdout",
     "output_type": "stream",
     "text": [
      "<class 'str'>\n"
     ]
    }
   ],
   "source": [
    "directory = \"../coordinates_training/\"\n",
    "print(type(directory))\n",
    "target_string=\"TotEnergy=\"\n",
    "precalcEnergy={}\n",
    "\n",
    "for file in os.listdir(directory):\n",
    "    filename = os.fsdecode(directory+file)\n",
    "    if filename.endswith(\".xyz\"): \n",
    "        with open(filename,'r') as f:\n",
    "            for line in f:\n",
    "                if target_string in line:\n",
    "                    splits=line.split(' ')\n",
    "                    energy=splits[0]\n",
    "                    precalcEnergy[strip_all_but_numbers(filename)]=0.0367493*float(energy.replace(target_string,''))\n",
    "                    #print(precalcEnergy[strip_all_but_numbers(filename)])\n",
    "                    break\n",
    "        continue\n",
    "    else:\n",
    "        continue"
   ]
  },
  {
   "cell_type": "code",
   "execution_count": 8,
   "metadata": {},
   "outputs": [
    {
     "data": {
      "text/plain": [
       "<module 'matplotlib.pyplot' from '/usr/local/lib/python3.6/dist-packages/matplotlib/pyplot.py'>"
      ]
     },
     "execution_count": 8,
     "metadata": {},
     "output_type": "execute_result"
    },
    {
     "data": {
      "image/png": "[encoded data removed]",
      "text/plain": [
       "<Figure size 432x288 with 1 Axes>"
      ]
     },
     "metadata": {
      "needs_background": "light"
     },
     "output_type": "display_data"
    }
   ],
   "source": [
    "plt.scatter(*zip(*precalcEnergy.items()),color=\"orange\",label=\"Training Data - Reported\")\n",
    "plt.scatter(*zip(*mapping.items()),color=\"blue\",label=\"ML Trajectory\")\n",
    "plt.legend()\n",
    "plt.xlabel(\"frame number\")\n",
    "plt.ylabel(\"energy [A.U. Hartree]\")\n",
    "plt"
   ]
  },
  {
   "cell_type": "code",
   "execution_count": 9,
   "metadata": {},
   "outputs": [
    {
     "name": "stdout",
     "output_type": "stream",
     "text": [
      "%i doesnt exist\n",
      "%i doesnt exist\n"
     ]
    }
   ],
   "source": [
    "differences={}\n",
    "for i in mapping:\n",
    "    i=int(i)\n",
    "    try:\n",
    "        differences[i]=mapping[i]-precalcEnergy[i]\n",
    "    except:\n",
    "        print(\"%i doesnt exist\")\n",
    "    "
   ]
  },
  {
   "cell_type": "code",
   "execution_count": 10,
   "metadata": {},
   "outputs": [
    {
     "data": {
      "text/plain": [
       "{1: -1055.5729342479947,\n",
       " 10: -1055.0741858085767,\n",
       " 100: -1055.1464458826938,\n",
       " 101: -1055.1398724667893,\n",
       " 102: -1055.1498015902039,\n",
       " 103: -1055.2079674921777,\n",
       " 104: -1055.2084849364876,\n",
       " 105: -1055.114460750059,\n",
       " 106: -1055.1096506733757,\n",
       " 107: -1055.109224649098,\n",
       " 108: -1055.1621386646611,\n",
       " 109: -1055.0572990100027,\n",
       " 11: -1055.1197890356334,\n",
       " 110: -1055.0561726409576,\n",
       " 111: -1055.106383827369,\n",
       " 112: -1055.1186109636064,\n",
       " 113: -1055.063655702561,\n",
       " 114: -1055.0576836206837,\n",
       " 115: -1055.088864159655,\n",
       " 116: -1055.2312464466208,\n",
       " 117: -1055.239077847083,\n",
       " 118: -1055.1061889597415,\n",
       " 119: -1055.1214273088085,\n",
       " 12: -1055.0752865343375,\n",
       " 120: -1055.0722937985654,\n",
       " 121: -1055.1219688468343,\n",
       " 122: -1054.97436475697,\n",
       " 123: -1055.1334718771673,\n",
       " 124: -1055.1654804599507,\n",
       " 125: -1055.0373503777198,\n",
       " 126: -1055.0802113284924,\n",
       " 127: -1055.149393097747,\n",
       " 128: -1055.012226447587,\n",
       " 129: -1055.0713793571238,\n",
       " 13: -1055.1636468809952,\n",
       " 130: -1055.090348688268,\n",
       " 131: -1055.0786650521563,\n",
       " 132: -1055.0583878274826,\n",
       " 133: -1055.0366405257525,\n",
       " 134: -1055.132463510346,\n",
       " 135: -1055.0362314120148,\n",
       " 136: -1054.9450594066464,\n",
       " 137: -1055.0701218219958,\n",
       " 138: -1055.1301680903612,\n",
       " 139: -1055.046011650269,\n",
       " 14: -1055.0887260619957,\n",
       " 140: -1054.9524054145356,\n",
       " 141: -1055.0798680612825,\n",
       " 142: -1055.0947097134078,\n",
       " 143: -1055.173628569507,\n",
       " 144: -1055.095510588014,\n",
       " 145: -1055.0981059651976,\n",
       " 146: -1055.094994455424,\n",
       " 147: -1055.1230639540554,\n",
       " 148: -1055.0360858927036,\n",
       " 149: -1055.1113991725585,\n",
       " 15: -1055.1588029848504,\n",
       " 150: -1055.2070124902805,\n",
       " 151: -1055.1415022846572,\n",
       " 152: -1055.1452410792083,\n",
       " 153: -1055.0710115806937,\n",
       " 154: -1055.0878224225496,\n",
       " 155: -1055.1419761005898,\n",
       " 156: -1055.0329874990114,\n",
       " 157: -1054.9732751955023,\n",
       " 158: -1055.0643665231185,\n",
       " 159: -1055.0344549057775,\n",
       " 16: -1055.1239839029372,\n",
       " 160: -1054.932930658389,\n",
       " 161: -1055.0694557693016,\n",
       " 162: -1055.041868702669,\n",
       " 163: -1055.0020556476748,\n",
       " 164: -1054.9863074905534,\n",
       " 165: -1055.106179126314,\n",
       " 166: -1054.9729013114513,\n",
       " 167: -1055.061546236886,\n",
       " 168: -1055.0961705405018,\n",
       " 169: -1055.049324398082,\n",
       " 17: -1055.175781973569,\n",
       " 170: -1055.0863688525435,\n",
       " 171: -1055.1361750364943,\n",
       " 172: -1055.1214438971147,\n",
       " 173: -1055.0252967531576,\n",
       " 174: -1055.0446849764376,\n",
       " 175: -1055.0645245775133,\n",
       " 176: -1055.0921583767322,\n",
       " 177: -1055.1598240224503,\n",
       " 178: -1055.0986095219266,\n",
       " 179: -1054.9298605345598,\n",
       " 18: -1055.2064318358557,\n",
       " 180: -1055.1105222865644,\n",
       " 181: -1055.0854309254064,\n",
       " 182: -1054.9667888875572,\n",
       " 183: -1055.0925493007564,\n",
       " 184: -1055.0473566615722,\n",
       " 185: -1054.9916108982843,\n",
       " 186: -1055.001987329495,\n",
       " 187: -1055.0748330860401,\n",
       " 188: -1055.1005353715802,\n",
       " 189: -1055.0273366362494,\n",
       " 19: -1055.0696532725553,\n",
       " 190: -1055.0510275245817,\n",
       " 191: -1055.0337025461454,\n",
       " 192: -1055.060236249926,\n",
       " 193: -1055.1067625210108,\n",
       " 194: -1055.1156137197006,\n",
       " 195: -1055.0686229640676,\n",
       " 196: -1055.0090504078194,\n",
       " 197: -1054.9697736713783,\n",
       " 198: -1055.0090194635782,\n",
       " 199: -1055.1019678330583,\n",
       " 2: -1055.8549112024202,\n",
       " 20: -1055.1776113095452,\n",
       " 21: -1055.1216211102874,\n",
       " 22: -1055.2032319293849,\n",
       " 23: -1055.0967521305793,\n",
       " 24: -1055.0998382539708,\n",
       " 25: -1055.0271511287262,\n",
       " 26: -1055.2490438718128,\n",
       " 27: -1055.1532939085516,\n",
       " 28: -1055.1312648650896,\n",
       " 29: -1055.1132217306465,\n",
       " 3: -1055.6360212636464,\n",
       " 30: -1055.1054557813916,\n",
       " 31: -1055.1456528567683,\n",
       " 32: -1055.1230866050798,\n",
       " 33: -1055.246037400177,\n",
       " 34: -1055.1879113157315,\n",
       " 35: -1055.1505334292967,\n",
       " 36: -1055.158009750647,\n",
       " 37: -1055.2006931576166,\n",
       " 38: -1055.139362135688,\n",
       " 39: -1055.1193628411645,\n",
       " 4: -1055.5256143545564,\n",
       " 40: -1055.1781662328726,\n",
       " 41: -1055.1787832377981,\n",
       " 42: -1055.2030296110079,\n",
       " 43: -1055.1198416542688,\n",
       " 44: -1055.145015763309,\n",
       " 45: -1055.1906636529125,\n",
       " 46: -1055.1536508927782,\n",
       " 47: -1055.050605163807,\n",
       " 48: -1055.119900522729,\n",
       " 49: -1055.1528094861173,\n",
       " 5: -1055.4230771353145,\n",
       " 50: -1055.1609337975372,\n",
       " 51: -1055.0389717776454,\n",
       " 52: -1055.061660742151,\n",
       " 53: -1055.171293792258,\n",
       " 54: -1055.2477770893386,\n",
       " 55: -1055.2341818112027,\n",
       " 56: -1055.1680329276555,\n",
       " 57: -1055.1477734168816,\n",
       " 58: -1055.1706433374247,\n",
       " 59: -1055.1293779514883,\n",
       " 6: -1055.3412344733108,\n",
       " 60: -1055.1217557903135,\n",
       " 61: -1055.1181831470483,\n",
       " 62: -1055.224242987055,\n",
       " 63: -1055.16516914391,\n",
       " 64: -1055.082501941096,\n",
       " 65: -1055.2446449791698,\n",
       " 66: -1055.1198338003135,\n",
       " 67: -1055.236859152342,\n",
       " 68: -1055.1737816939842,\n",
       " 69: -1055.1838816972852,\n",
       " 7: -1055.2002187624764,\n",
       " 70: -1055.0306680506308,\n",
       " 71: -1055.053691452242,\n",
       " 72: -1055.1335879478534,\n",
       " 73: -1055.1140710525215,\n",
       " 74: -1055.0539813450632,\n",
       " 75: -1055.0256933408116,\n",
       " 76: -1055.0950806124333,\n",
       " 77: -1055.097073418901,\n",
       " 78: -1055.0959358009875,\n",
       " 79: -1055.1303978755036,\n",
       " 8: -1055.1085457700865,\n",
       " 80: -1055.103045799143,\n",
       " 81: -1055.0920749417046,\n",
       " 82: -1055.1143407975305,\n",
       " 83: -1055.0829707783578,\n",
       " 84: -1055.0828321276856,\n",
       " 85: -1055.1652529956823,\n",
       " 86: -1055.0414647367827,\n",
       " 87: -1055.159911351771,\n",
       " 88: -1055.1092050875018,\n",
       " 89: -1055.0475414252428,\n",
       " 9: -1055.1332682487723,\n",
       " 90: -1055.105067994697,\n",
       " 91: -1055.1300383137436,\n",
       " 92: -1055.1021523240663,\n",
       " 93: -1055.0964207856105,\n",
       " 94: -1055.0684920914127,\n",
       " 95: -1055.0287056200395,\n",
       " 96: -1055.048782493017,\n",
       " 97: -1055.05900795724,\n",
       " 98: -1055.1828796034488,\n",
       " 99: -1055.2027159517163}"
      ]
     },
     "execution_count": 10,
     "metadata": {},
     "output_type": "execute_result"
    }
   ],
   "source": [
    "differences"
   ]
  },
  {
   "cell_type": "code",
   "execution_count": 11,
   "metadata": {},
   "outputs": [
    {
     "data": {
      "text/plain": [
       "<module 'matplotlib.pyplot' from '/usr/local/lib/python3.6/dist-packages/matplotlib/pyplot.py'>"
      ]
     },
     "execution_count": 11,
     "metadata": {},
     "output_type": "execute_result"
    },
    {
     "data": {
      "image/png": "[encoded data removed]",
      "text/plain": [
       "<Figure size 432x288 with 1 Axes>"
      ]
     },
     "metadata": {
      "needs_background": "light"
     },
     "output_type": "display_data"
    }
   ],
   "source": [
    "plt.scatter(*zip(*differences.items()))\n",
    "plt"
   ]
  },
  {
   "cell_type": "markdown",
   "metadata": {},
   "source": [
    "# Read slurm file for run energy"
   ]
  },
  {
   "cell_type": "code",
   "execution_count": 12,
   "metadata": {},
   "outputs": [],
   "source": [
    "filename=\"../data/slurm/unbiased5_slurm.out\"\n",
    "target_string=\"### NNP EW SUMMARY ###\"\n",
    "target_number=493\n",
    "energy_list=[]\n",
    "with open(filename,'r') as f:\n",
    "    lines=f.readlines()\n",
    "    energy_list.append(lines[target_number-1].split())\n",
    "    for ind in range(target_number,len(lines)):\n",
    "        if(target_string in lines[ind]):\n",
    "            pass\n",
    "        elif(\"Loop time\" in lines[ind]):\n",
    "            break\n",
    "        else:\n",
    "            energy_list.append(lines[ind].split())"
   ]
  },
  {
   "cell_type": "code",
   "execution_count": 13,
   "metadata": {},
   "outputs": [
    {
     "ename": "KeyError",
     "evalue": "'Step'",
     "output_type": "error",
     "traceback": [
      "\u001b[0;31m---------------------------------------------------------------------------\u001b[0m",
      "\u001b[0;31mKeyError\u001b[0m                                  Traceback (most recent call last)",
      "\u001b[0;32m/usr/local/lib/python3.6/dist-packages/pandas/core/indexes/base.py\u001b[0m in \u001b[0;36mget_loc\u001b[0;34m(self, key, method, tolerance)\u001b[0m\n\u001b[1;32m   2894\u001b[0m             \u001b[0;32mtry\u001b[0m\u001b[0;34m:\u001b[0m\u001b[0;34m\u001b[0m\u001b[0;34m\u001b[0m\u001b[0m\n\u001b[0;32m-> 2895\u001b[0;31m                 \u001b[0;32mreturn\u001b[0m \u001b[0mself\u001b[0m\u001b[0;34m.\u001b[0m\u001b[0m_engine\u001b[0m\u001b[0;34m.\u001b[0m\u001b[0mget_loc\u001b[0m\u001b[0;34m(\u001b[0m\u001b[0mcasted_key\u001b[0m\u001b[0;34m)\u001b[0m\u001b[0;34m\u001b[0m\u001b[0;34m\u001b[0m\u001b[0m\n\u001b[0m\u001b[1;32m   2896\u001b[0m             \u001b[0;32mexcept\u001b[0m \u001b[0mKeyError\u001b[0m \u001b[0;32mas\u001b[0m \u001b[0merr\u001b[0m\u001b[0;34m:\u001b[0m\u001b[0;34m\u001b[0m\u001b[0;34m\u001b[0m\u001b[0m\n",
      "\u001b[0;32mpandas/_libs/index.pyx\u001b[0m in \u001b[0;36mpandas._libs.index.IndexEngine.get_loc\u001b[0;34m()\u001b[0m\n",
      "\u001b[0;32mpandas/_libs/index.pyx\u001b[0m in \u001b[0;36mpandas._libs.index.IndexEngine.get_loc\u001b[0;34m()\u001b[0m\n",
      "\u001b[0;32mpandas/_libs/hashtable_class_helper.pxi\u001b[0m in \u001b[0;36mpandas._libs.hashtable.PyObjectHashTable.get_item\u001b[0;34m()\u001b[0m\n",
      "\u001b[0;32mpandas/_libs/hashtable_class_helper.pxi\u001b[0m in \u001b[0;36mpandas._libs.hashtable.PyObjectHashTable.get_item\u001b[0;34m()\u001b[0m\n",
      "\u001b[0;31mKeyError\u001b[0m: 'Step'",
      "\nThe above exception was the direct cause of the following exception:\n",
      "\u001b[0;31mKeyError\u001b[0m                                  Traceback (most recent call last)",
      "\u001b[0;32m<ipython-input-13-63d9eaeab82e>\u001b[0m in \u001b[0;36m<module>\u001b[0;34m\u001b[0m\n\u001b[1;32m      2\u001b[0m \u001b[0mheader\u001b[0m\u001b[0;34m=\u001b[0m\u001b[0menergy_list\u001b[0m\u001b[0;34m.\u001b[0m\u001b[0mpop\u001b[0m\u001b[0;34m(\u001b[0m\u001b[0;36m0\u001b[0m\u001b[0;34m)\u001b[0m\u001b[0;34m\u001b[0m\u001b[0;34m\u001b[0m\u001b[0m\n\u001b[1;32m      3\u001b[0m \u001b[0mdf\u001b[0m \u001b[0;34m=\u001b[0m \u001b[0mpd\u001b[0m\u001b[0;34m.\u001b[0m\u001b[0mDataFrame\u001b[0m\u001b[0;34m(\u001b[0m\u001b[0menergy_list\u001b[0m\u001b[0;34m,\u001b[0m \u001b[0mcolumns\u001b[0m\u001b[0;34m=\u001b[0m\u001b[0mheader\u001b[0m\u001b[0;34m)\u001b[0m\u001b[0;34m\u001b[0m\u001b[0;34m\u001b[0m\u001b[0m\n\u001b[0;32m----> 4\u001b[0;31m \u001b[0mdf\u001b[0m\u001b[0;34m[\u001b[0m\u001b[0;34m'Step'\u001b[0m\u001b[0;34m]\u001b[0m \u001b[0;34m=\u001b[0m \u001b[0mdf\u001b[0m\u001b[0;34m[\u001b[0m\u001b[0;34m'Step'\u001b[0m\u001b[0;34m]\u001b[0m\u001b[0;34m.\u001b[0m\u001b[0mastype\u001b[0m\u001b[0;34m(\u001b[0m\u001b[0mint\u001b[0m\u001b[0;34m)\u001b[0m\u001b[0;34m\u001b[0m\u001b[0;34m\u001b[0m\u001b[0m\n\u001b[0m\u001b[1;32m      5\u001b[0m \u001b[0mdf\u001b[0m\u001b[0;34m[\u001b[0m\u001b[0;34m'TotEng'\u001b[0m\u001b[0;34m]\u001b[0m \u001b[0;34m=\u001b[0m \u001b[0;36m0.0367493\u001b[0m\u001b[0;34m*\u001b[0m\u001b[0mdf\u001b[0m\u001b[0;34m[\u001b[0m\u001b[0;34m'TotEng'\u001b[0m\u001b[0;34m]\u001b[0m\u001b[0;34m.\u001b[0m\u001b[0mastype\u001b[0m\u001b[0;34m(\u001b[0m\u001b[0mfloat\u001b[0m\u001b[0;34m)\u001b[0m\u001b[0;34m\u001b[0m\u001b[0;34m\u001b[0m\u001b[0m\n\u001b[1;32m      6\u001b[0m \u001b[0mdf\u001b[0m\u001b[0;34m\u001b[0m\u001b[0;34m\u001b[0m\u001b[0m\n",
      "\u001b[0;32m/usr/local/lib/python3.6/dist-packages/pandas/core/frame.py\u001b[0m in \u001b[0;36m__getitem__\u001b[0;34m(self, key)\u001b[0m\n\u001b[1;32m   2904\u001b[0m             \u001b[0;32mif\u001b[0m \u001b[0mself\u001b[0m\u001b[0;34m.\u001b[0m\u001b[0mcolumns\u001b[0m\u001b[0;34m.\u001b[0m\u001b[0mnlevels\u001b[0m \u001b[0;34m>\u001b[0m \u001b[0;36m1\u001b[0m\u001b[0;34m:\u001b[0m\u001b[0;34m\u001b[0m\u001b[0;34m\u001b[0m\u001b[0m\n\u001b[1;32m   2905\u001b[0m                 \u001b[0;32mreturn\u001b[0m \u001b[0mself\u001b[0m\u001b[0;34m.\u001b[0m\u001b[0m_getitem_multilevel\u001b[0m\u001b[0;34m(\u001b[0m\u001b[0mkey\u001b[0m\u001b[0;34m)\u001b[0m\u001b[0;34m\u001b[0m\u001b[0;34m\u001b[0m\u001b[0m\n\u001b[0;32m-> 2906\u001b[0;31m             \u001b[0mindexer\u001b[0m \u001b[0;34m=\u001b[0m \u001b[0mself\u001b[0m\u001b[0;34m.\u001b[0m\u001b[0mcolumns\u001b[0m\u001b[0;34m.\u001b[0m\u001b[0mget_loc\u001b[0m\u001b[0;34m(\u001b[0m\u001b[0mkey\u001b[0m\u001b[0;34m)\u001b[0m\u001b[0;34m\u001b[0m\u001b[0;34m\u001b[0m\u001b[0m\n\u001b[0m\u001b[1;32m   2907\u001b[0m             \u001b[0;32mif\u001b[0m \u001b[0mis_integer\u001b[0m\u001b[0;34m(\u001b[0m\u001b[0mindexer\u001b[0m\u001b[0;34m)\u001b[0m\u001b[0;34m:\u001b[0m\u001b[0;34m\u001b[0m\u001b[0;34m\u001b[0m\u001b[0m\n\u001b[1;32m   2908\u001b[0m                 \u001b[0mindexer\u001b[0m \u001b[0;34m=\u001b[0m \u001b[0;34m[\u001b[0m\u001b[0mindexer\u001b[0m\u001b[0;34m]\u001b[0m\u001b[0;34m\u001b[0m\u001b[0;34m\u001b[0m\u001b[0m\n",
      "\u001b[0;32m/usr/local/lib/python3.6/dist-packages/pandas/core/indexes/base.py\u001b[0m in \u001b[0;36mget_loc\u001b[0;34m(self, key, method, tolerance)\u001b[0m\n\u001b[1;32m   2895\u001b[0m                 \u001b[0;32mreturn\u001b[0m \u001b[0mself\u001b[0m\u001b[0;34m.\u001b[0m\u001b[0m_engine\u001b[0m\u001b[0;34m.\u001b[0m\u001b[0mget_loc\u001b[0m\u001b[0;34m(\u001b[0m\u001b[0mcasted_key\u001b[0m\u001b[0;34m)\u001b[0m\u001b[0;34m\u001b[0m\u001b[0;34m\u001b[0m\u001b[0m\n\u001b[1;32m   2896\u001b[0m             \u001b[0;32mexcept\u001b[0m \u001b[0mKeyError\u001b[0m \u001b[0;32mas\u001b[0m \u001b[0merr\u001b[0m\u001b[0;34m:\u001b[0m\u001b[0;34m\u001b[0m\u001b[0;34m\u001b[0m\u001b[0m\n\u001b[0;32m-> 2897\u001b[0;31m                 \u001b[0;32mraise\u001b[0m \u001b[0mKeyError\u001b[0m\u001b[0;34m(\u001b[0m\u001b[0mkey\u001b[0m\u001b[0;34m)\u001b[0m \u001b[0;32mfrom\u001b[0m \u001b[0merr\u001b[0m\u001b[0;34m\u001b[0m\u001b[0;34m\u001b[0m\u001b[0m\n\u001b[0m\u001b[1;32m   2898\u001b[0m \u001b[0;34m\u001b[0m\u001b[0m\n\u001b[1;32m   2899\u001b[0m         \u001b[0;32mif\u001b[0m \u001b[0mtolerance\u001b[0m \u001b[0;32mis\u001b[0m \u001b[0;32mnot\u001b[0m \u001b[0;32mNone\u001b[0m\u001b[0;34m:\u001b[0m\u001b[0;34m\u001b[0m\u001b[0;34m\u001b[0m\u001b[0m\n",
      "\u001b[0;31mKeyError\u001b[0m: 'Step'"
     ]
    }
   ],
   "source": [
    "import pandas as pd\n",
    "header=energy_list.pop(0)\n",
    "df = pd.DataFrame(energy_list, columns=header)\n",
    "df['Step'] = df['Step'].astype(int)\n",
    "df['TotEng'] = 0.0367493*df['TotEng'].astype(float)\n",
    "df"
   ]
  },
  {
   "cell_type": "code",
   "execution_count": null,
   "metadata": {},
   "outputs": [],
   "source": [
    "df['TotEng'][0]"
   ]
  },
  {
   "cell_type": "code",
   "execution_count": null,
   "metadata": {},
   "outputs": [],
   "source": [
    "\n",
    "plt.scatter(df['Step'][0::50],df['TotEng'][0::50])\n",
    "plt.xlabel(\"frame number\")\n",
    "plt.ylabel(\"energy [A.U. Hartree]\")\n",
    "plt.show()"
   ]
  },
  {
   "cell_type": "code",
   "execution_count": null,
   "metadata": {},
   "outputs": [],
   "source": [
    "factor={}\n",
    "for i in mapping:\n",
    "    i=int(i)\n",
    "    try:\n",
    "        factor[i]=df['TotEng'][50*(i-1)]/mapping[i]\n",
    "    except:\n",
    "        print(\"%i doesnt exist\")"
   ]
  },
  {
   "cell_type": "code",
   "execution_count": null,
   "metadata": {},
   "outputs": [],
   "source": [
    "plt.scatter(*zip(*factor.items()),color=\"orange\")\n",
    "plt.ylabel(\"N2P2 enery/CP2K calculation\")\n",
    "plt.xlabel(\"frame number\")\n",
    "plt.title(\"comparing n2p2 and cp2k energy\")\n",
    "plt"
   ]
  },
  {
   "cell_type": "code",
   "execution_count": null,
   "metadata": {},
   "outputs": [],
   "source": [
    "df['Cp2k']=[0]*len(df)\n",
    "df['Cp2k'] = df['Cp2k'].astype(float)\n",
    "df"
   ]
  },
  {
   "cell_type": "code",
   "execution_count": null,
   "metadata": {},
   "outputs": [],
   "source": [
    "print(mapping)"
   ]
  },
  {
   "cell_type": "code",
   "execution_count": null,
   "metadata": {},
   "outputs": [],
   "source": [
    "for i in mapping:\n",
    "    df.at[50*(i-1),'Cp2k']=mapping[i]\n",
    "df"
   ]
  },
  {
   "cell_type": "markdown",
   "metadata": {},
   "source": [
    "# Plot CP2K v/s N2P2 energy"
   ]
  },
  {
   "cell_type": "code",
   "execution_count": null,
   "metadata": {},
   "outputs": [],
   "source": [
    "plt.scatter(df['Cp2k'][0::50],df['TotEng'][0::50],c=df['Step'][::50],picker=True)\n",
    "plt.xlabel(\"CP2K energy\")\n",
    "plt.ylabel(\"N2P2 energy\")\n",
    "\n",
    "#plt.rcParams['figure.dpi'] = 200\n",
    "#plt.rcParams['figure.figsize'] = [14, 16]\n",
    "clb=plt.colorbar()\n",
    "clb.ax.set_title(\"frame number\")\n",
    "plt.title(\"N2P2(reported) energy v/s CP2K calculation\",y=1.08)\n",
    "#plt.colorbar.setlabel(\"timestep\")\n",
    "plt.show()"
   ]
  },
  {
   "cell_type": "markdown",
   "metadata": {},
   "source": [
    "# Plot CP2K, N2p2 energy v/s frame"
   ]
  },
  {
   "cell_type": "code",
   "execution_count": null,
   "metadata": {},
   "outputs": [],
   "source": [
    "plt.scatter(df['Step'][0::50],df['TotEng'][0::50],color=\"blue\",label='n2p2')\n",
    "plt.scatter(df['Step'][0::50],df['Cp2k'][0::50],color=\"orange\",label='cp2k')\n",
    "plt.xlabel(\"frame number\")\n",
    "plt.ylabel(\"energy [A.U. Hartree]\")\n",
    "plt.legend()\n",
    "plt.title(\"Total energy from CP2K calculation and N2P2(reported in output)\")\n",
    "plt.show()"
   ]
  },
  {
   "cell_type": "markdown",
   "metadata": {},
   "source": [
    "# Plot Cp2k, n2p2 relative energy v/s frame\n",
    "Relative energy is energy - lowest energy recorded"
   ]
  },
  {
   "cell_type": "code",
   "execution_count": null,
   "metadata": {},
   "outputs": [],
   "source": [
    "from statistics import median\n",
    "n2p2Ener=[]\n",
    "cp2kEner=[]\n",
    "n2p2min=min(df['TotEng'][0::50])\n",
    "cp2kmin=min(df['Cp2k'][0::50])\n",
    "for i in df['TotEng'][0::50]:\n",
    "    n2p2Ener.append(i-n2p2min)\n",
    "    \n",
    "for i in df['Cp2k'][0::50]:\n",
    "    cp2kEner.append(i-cp2kmin)"
   ]
  },
  {
   "cell_type": "code",
   "execution_count": null,
   "metadata": {},
   "outputs": [],
   "source": [
    "plt.scatter(df['Step'][0::50],n2p2Ener,color=\"blue\",label='n2p2')\n",
    "plt.scatter(df['Step'][0::50],cp2kEner,color=\"orange\",label=\"cp2k\")\n",
    "plt.xlabel(\"frame number\")\n",
    "plt.ylabel(\"energy [A.U. Hartree]\")\n",
    "plt.title(\"cp2k and n2p2 relative energies(min)\")\n",
    "plt.legend()\n",
    "plt.show()"
   ]
  },
  {
   "cell_type": "code",
   "execution_count": null,
   "metadata": {},
   "outputs": [],
   "source": [
    "plt.scatter(cp2kEner,n2p2Ener,c=df['Step'][::50],picker=True)\n",
    "plt.xlabel(\"CP2K energy\")\n",
    "plt.ylabel(\"N2P2 energy\")\n",
    "\n",
    "#plt.rcParams['figure.dpi'] = 200\n",
    "#plt.rcParams['figure.figsize'] = [14, 16]\n",
    "plt.colorbar()\n",
    "#plt.colorbar.setlabel(\"timestep\")\n",
    "plt.show()"
   ]
  },
  {
   "cell_type": "code",
   "execution_count": null,
   "metadata": {},
   "outputs": [],
   "source": []
  }
 ],
 "metadata": {
  "kernelspec": {
   "display_name": "Python 3",
   "language": "python",
   "name": "python3"
  },
  "language_info": {
   "codemirror_mode": {
    "name": "ipython",
    "version": 3
   },
   "file_extension": ".py",
   "mimetype": "text/x-python",
   "name": "python",
   "nbconvert_exporter": "python",
   "pygments_lexer": "ipython3",
   "version": "3.6.9"
  }
 },
 "nbformat": 4,
 "nbformat_minor": 2
}
