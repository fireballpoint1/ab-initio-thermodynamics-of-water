{
 "cells": [
  {
   "cell_type": "code",
   "execution_count": 28,
   "metadata": {},
   "outputs": [],
   "source": [
    "import re\n",
    "def strip_all_but_numbers(stub):\n",
    "    return int(re.sub('\\D', '', stub))"
   ]
  },
  {
   "cell_type": "markdown",
   "metadata": {},
   "source": [
    "# Read all CP2K output files for energy"
   ]
  },
  {
   "cell_type": "code",
   "execution_count": 29,
   "metadata": {},
   "outputs": [
    {
     "name": "stdout",
     "output_type": "stream",
     "text": [
      "<class 'str'>\n"
     ]
    }
   ],
   "source": [
    "import os\n",
    "\n",
    "directory = \"./output\"\n",
    "print(type(directory))\n",
    "target_string=\"ENERGY| Total FORCE_EVAL ( QS ) energy (a.u.):\"\n",
    "mapping={}\n",
    "\n",
    "for file in os.listdir(directory):\n",
    "    filename = os.fsdecode(directory+\"/\"+file)\n",
    "    if filename.endswith(\".out\"): \n",
    "        with open(filename,'r') as f:\n",
    "            for line in f:\n",
    "                if target_string in line:\n",
    "                    mapping[strip_all_but_numbers(filename)]=float(line.replace(target_string,''))\n",
    "                    break\n",
    "        continue\n",
    "    else:\n",
    "        continue"
   ]
  },
  {
   "cell_type": "code",
   "execution_count": 30,
   "metadata": {},
   "outputs": [
    {
     "data": {
      "text/plain": [
       "[1,\n",
       " 2,\n",
       " 3,\n",
       " 4,\n",
       " 5,\n",
       " 6,\n",
       " 7,\n",
       " 8,\n",
       " 9,\n",
       " 10,\n",
       " 11,\n",
       " 12,\n",
       " 13,\n",
       " 14,\n",
       " 15,\n",
       " 16,\n",
       " 17,\n",
       " 18,\n",
       " 19,\n",
       " 20,\n",
       " 21,\n",
       " 22,\n",
       " 23,\n",
       " 24,\n",
       " 25,\n",
       " 26,\n",
       " 27,\n",
       " 28,\n",
       " 29,\n",
       " 30,\n",
       " 31,\n",
       " 32,\n",
       " 33,\n",
       " 34,\n",
       " 35,\n",
       " 36,\n",
       " 37,\n",
       " 38,\n",
       " 39,\n",
       " 40,\n",
       " 41,\n",
       " 42,\n",
       " 43,\n",
       " 44,\n",
       " 45,\n",
       " 46,\n",
       " 47,\n",
       " 48,\n",
       " 49,\n",
       " 50,\n",
       " 51,\n",
       " 52,\n",
       " 53,\n",
       " 54,\n",
       " 55,\n",
       " 56,\n",
       " 57,\n",
       " 58,\n",
       " 59,\n",
       " 60,\n",
       " 61,\n",
       " 62,\n",
       " 63,\n",
       " 64,\n",
       " 65,\n",
       " 66,\n",
       " 67,\n",
       " 68,\n",
       " 69,\n",
       " 70,\n",
       " 71,\n",
       " 72,\n",
       " 73,\n",
       " 74,\n",
       " 75,\n",
       " 76,\n",
       " 77,\n",
       " 78,\n",
       " 79,\n",
       " 80,\n",
       " 81,\n",
       " 82,\n",
       " 83,\n",
       " 84,\n",
       " 85,\n",
       " 86,\n",
       " 87,\n",
       " 88,\n",
       " 89,\n",
       " 90,\n",
       " 91,\n",
       " 92,\n",
       " 93,\n",
       " 94,\n",
       " 95,\n",
       " 96,\n",
       " 97,\n",
       " 98,\n",
       " 99,\n",
       " 100,\n",
       " 101,\n",
       " 102,\n",
       " 103,\n",
       " 104,\n",
       " 105,\n",
       " 106,\n",
       " 107,\n",
       " 108,\n",
       " 109,\n",
       " 110,\n",
       " 111,\n",
       " 112,\n",
       " 113,\n",
       " 114,\n",
       " 115,\n",
       " 116,\n",
       " 117,\n",
       " 118,\n",
       " 119,\n",
       " 120,\n",
       " 121,\n",
       " 122,\n",
       " 123,\n",
       " 124,\n",
       " 125,\n",
       " 126,\n",
       " 127,\n",
       " 128,\n",
       " 129,\n",
       " 130,\n",
       " 131,\n",
       " 132,\n",
       " 133,\n",
       " 134,\n",
       " 135,\n",
       " 136,\n",
       " 137,\n",
       " 138,\n",
       " 139,\n",
       " 140,\n",
       " 141,\n",
       " 142,\n",
       " 143,\n",
       " 144,\n",
       " 145,\n",
       " 146,\n",
       " 147,\n",
       " 148,\n",
       " 149,\n",
       " 150,\n",
       " 151,\n",
       " 152,\n",
       " 153,\n",
       " 154,\n",
       " 155,\n",
       " 156,\n",
       " 157,\n",
       " 158,\n",
       " 159,\n",
       " 160,\n",
       " 161,\n",
       " 162,\n",
       " 163,\n",
       " 164,\n",
       " 165,\n",
       " 166,\n",
       " 167,\n",
       " 168,\n",
       " 169,\n",
       " 170,\n",
       " 171,\n",
       " 172,\n",
       " 173,\n",
       " 174,\n",
       " 175,\n",
       " 176,\n",
       " 177,\n",
       " 178,\n",
       " 179,\n",
       " 180,\n",
       " 181,\n",
       " 182,\n",
       " 183,\n",
       " 184,\n",
       " 185,\n",
       " 186,\n",
       " 187,\n",
       " 188,\n",
       " 189,\n",
       " 190,\n",
       " 191,\n",
       " 192,\n",
       " 193,\n",
       " 194,\n",
       " 195,\n",
       " 196,\n",
       " 197,\n",
       " 198,\n",
       " 199,\n",
       " 200,\n",
       " 201]"
      ]
     },
     "execution_count": 30,
     "metadata": {},
     "output_type": "execute_result"
    }
   ],
   "source": [
    "temp=list(mapping.keys())\n",
    "temp.sort()\n",
    "temp"
   ]
  },
  {
   "cell_type": "code",
   "execution_count": 31,
   "metadata": {},
   "outputs": [
    {
     "data": {
      "text/plain": [
       "<module 'matplotlib.pyplot' from '/home/mayank/anaconda3/lib/python3.7/site-packages/matplotlib/pyplot.py'>"
      ]
     },
     "execution_count": 31,
     "metadata": {},
     "output_type": "execute_result"
    },
    {
     "data": {
      "image/png": "[encoded data removed]",
      "text/plain": [
       "<Figure size 432x288 with 1 Axes>"
      ]
     },
     "metadata": {
      "needs_background": "light"
     },
     "output_type": "display_data"
    }
   ],
   "source": [
    "import matplotlib.pyplot as plt\n",
    "plt.scatter(*zip(*mapping.items()))\n",
    "plt"
   ]
  },
  {
   "cell_type": "code",
   "execution_count": 32,
   "metadata": {},
   "outputs": [],
   "source": [
    "import collections\n",
    "od = collections.OrderedDict(sorted(mapping.items()))"
   ]
  },
  {
   "cell_type": "code",
   "execution_count": 33,
   "metadata": {},
   "outputs": [
    {
     "data": {
      "text/plain": [
       "<module 'matplotlib.pyplot' from '/home/mayank/anaconda3/lib/python3.7/site-packages/matplotlib/pyplot.py'>"
      ]
     },
     "execution_count": 33,
     "metadata": {},
     "output_type": "execute_result"
    },
    {
     "data": {
      "image/png": "[encoded data removed]",
      "text/plain": [
       "<Figure size 432x288 with 1 Axes>"
      ]
     },
     "metadata": {
      "needs_background": "light"
     },
     "output_type": "display_data"
    }
   ],
   "source": [
    "plt.plot(*zip(*od.items()))\n",
    "plt"
   ]
  },
  {
   "cell_type": "code",
   "execution_count": null,
   "metadata": {},
   "outputs": [],
   "source": []
  },
  {
   "cell_type": "code",
   "execution_count": 34,
   "metadata": {},
   "outputs": [
    {
     "name": "stdout",
     "output_type": "stream",
     "text": [
      "<class 'str'>\n"
     ]
    }
   ],
   "source": [
    "directory = \"../coordinates_training/\"\n",
    "print(type(directory))\n",
    "target_string=\"TotEnergy=\"\n",
    "precalcEnergy={}\n",
    "\n",
    "for file in os.listdir(directory):\n",
    "    filename = os.fsdecode(directory+file)\n",
    "    if filename.endswith(\".xyz\"): \n",
    "        with open(filename,'r') as f:\n",
    "            for line in f:\n",
    "                if target_string in line:\n",
    "                    splits=line.split(' ')\n",
    "                    energy=splits[0]\n",
    "                    precalcEnergy[strip_all_but_numbers(filename)]=0.0367493*float(energy.replace(target_string,''))\n",
    "                    #print(precalcEnergy[strip_all_but_numbers(filename)])\n",
    "                    break\n",
    "        continue\n",
    "    else:\n",
    "        continue"
   ]
  },
  {
   "cell_type": "code",
   "execution_count": 35,
   "metadata": {},
   "outputs": [
    {
     "data": {
      "text/plain": [
       "<module 'matplotlib.pyplot' from '/home/mayank/anaconda3/lib/python3.7/site-packages/matplotlib/pyplot.py'>"
      ]
     },
     "execution_count": 35,
     "metadata": {},
     "output_type": "execute_result"
    },
    {
     "data": {
      "image/png": "[encoded data removed]",
      "text/plain": [
       "<Figure size 432x288 with 1 Axes>"
      ]
     },
     "metadata": {
      "needs_background": "light"
     },
     "output_type": "display_data"
    }
   ],
   "source": [
    "plt.scatter(*zip(*precalcEnergy.items()),color=\"orange\",label=\"Training Data - Reported\")\n",
    "plt.scatter(*zip(*mapping.items()),color=\"blue\",label=\"ML Trajectory\")\n",
    "plt.legend()\n",
    "plt.xlabel(\"frame number\")\n",
    "plt.ylabel(\"energy [A.U. Hartree]\")\n",
    "plt"
   ]
  },
  {
   "cell_type": "code",
   "execution_count": 36,
   "metadata": {},
   "outputs": [
    {
     "name": "stdout",
     "output_type": "stream",
     "text": [
      "%i doesnt exist\n",
      "%i doesnt exist\n"
     ]
    }
   ],
   "source": [
    "differences={}\n",
    "for i in mapping:\n",
    "    i=int(i)\n",
    "    try:\n",
    "        differences[i]=mapping[i]-precalcEnergy[i]\n",
    "    except:\n",
    "        print(\"%i doesnt exist\")\n",
    "    "
   ]
  },
  {
   "cell_type": "code",
   "execution_count": 37,
   "metadata": {},
   "outputs": [
    {
     "data": {
      "text/plain": [
       "{176: -1055.0921583767322,\n",
       " 114: -1055.0576836206837,\n",
       " 124: -1055.1654804599507,\n",
       " 8: -1055.1085457700865,\n",
       " 51: -1055.0389717776454,\n",
       " 186: -1055.001987329495,\n",
       " 188: -1055.1005353715802,\n",
       " 91: -1055.1300383137436,\n",
       " 107: -1055.109224649098,\n",
       " 116: -1055.2312464466208,\n",
       " 132: -1055.0583878274826,\n",
       " 33: -1055.246037400177,\n",
       " 19: -1055.0696532725553,\n",
       " 55: -1055.2341818112027,\n",
       " 31: -1055.1456528567683,\n",
       " 123: -1055.1334718771673,\n",
       " 160: -1054.932930658389,\n",
       " 136: -1054.9450594066464,\n",
       " 28: -1055.1312648650896,\n",
       " 44: -1055.145015763309,\n",
       " 161: -1055.0694557693016,\n",
       " 191: -1055.0337025461454,\n",
       " 151: -1055.1415022846572,\n",
       " 195: -1055.0686229640676,\n",
       " 115: -1055.088864159655,\n",
       " 99: -1055.2027159517163,\n",
       " 1: -1055.5729342479947,\n",
       " 67: -1055.236859152342,\n",
       " 62: -1055.224242987055,\n",
       " 79: -1055.1303978755036,\n",
       " 82: -1055.1143407975305,\n",
       " 85: -1055.1652529956823,\n",
       " 105: -1055.114460750059,\n",
       " 58: -1055.1706433374247,\n",
       " 185: -1054.9916108982843,\n",
       " 54: -1055.2477770893386,\n",
       " 174: -1055.0446849764376,\n",
       " 14: -1055.0887260619957,\n",
       " 112: -1055.1186109636064,\n",
       " 69: -1055.1838816972852,\n",
       " 41: -1055.1787832377981,\n",
       " 87: -1055.159911351771,\n",
       " 133: -1055.0366405257525,\n",
       " 196: -1055.0090504078194,\n",
       " 80: -1055.103045799143,\n",
       " 43: -1055.1198416542688,\n",
       " 32: -1055.1230866050798,\n",
       " 61: -1055.1181831470483,\n",
       " 147: -1055.1230639540554,\n",
       " 88: -1055.1092050875018,\n",
       " 180: -1055.1105222865644,\n",
       " 25: -1055.0271511287262,\n",
       " 76: -1055.0950806124333,\n",
       " 40: -1055.1781662328726,\n",
       " 150: -1055.2070124902805,\n",
       " 170: -1055.0863688525435,\n",
       " 2: -1055.8549112024202,\n",
       " 125: -1055.0373503777198,\n",
       " 108: -1055.1621386646611,\n",
       " 146: -1055.094994455424,\n",
       " 30: -1055.1054557813916,\n",
       " 49: -1055.1528094861173,\n",
       " 48: -1055.119900522729,\n",
       " 181: -1055.0854309254064,\n",
       " 178: -1055.0986095219266,\n",
       " 45: -1055.1906636529125,\n",
       " 143: -1055.173628569507,\n",
       " 137: -1055.0701218219958,\n",
       " 134: -1055.132463510346,\n",
       " 194: -1055.1156137197006,\n",
       " 182: -1054.9667888875572,\n",
       " 35: -1055.1505334292967,\n",
       " 56: -1055.1680329276555,\n",
       " 157: -1054.9732751955023,\n",
       " 64: -1055.082501941096,\n",
       " 175: -1055.0645245775133,\n",
       " 90: -1055.105067994697,\n",
       " 89: -1055.0475414252428,\n",
       " 50: -1055.1609337975372,\n",
       " 149: -1055.1113991725585,\n",
       " 3: -1055.6360212636464,\n",
       " 92: -1055.1021523240663,\n",
       " 144: -1055.095510588014,\n",
       " 96: -1055.048782493017,\n",
       " 130: -1055.090348688268,\n",
       " 29: -1055.1132217306465,\n",
       " 83: -1055.0829707783578,\n",
       " 38: -1055.139362135688,\n",
       " 168: -1055.0961705405018,\n",
       " 165: -1055.106179126314,\n",
       " 60: -1055.1217557903135,\n",
       " 153: -1055.0710115806937,\n",
       " 5: -1055.4230771353145,\n",
       " 47: -1055.050605163807,\n",
       " 100: -1055.1464458826938,\n",
       " 53: -1055.171293792258,\n",
       " 20: -1055.1776113095452,\n",
       " 145: -1055.0981059651976,\n",
       " 10: -1055.0741858085767,\n",
       " 159: -1055.0344549057775,\n",
       " 184: -1055.0473566615722,\n",
       " 37: -1055.2006931576166,\n",
       " 71: -1055.053691452242,\n",
       " 26: -1055.2490438718128,\n",
       " 179: -1054.9298605345598,\n",
       " 110: -1055.0561726409576,\n",
       " 106: -1055.1096506733757,\n",
       " 78: -1055.0959358009875,\n",
       " 119: -1055.1214273088085,\n",
       " 36: -1055.158009750647,\n",
       " 102: -1055.1498015902039,\n",
       " 97: -1055.05900795724,\n",
       " 190: -1055.0510275245817,\n",
       " 6: -1055.3412344733108,\n",
       " 138: -1055.1301680903612,\n",
       " 66: -1055.1198338003135,\n",
       " 57: -1055.1477734168816,\n",
       " 171: -1055.1361750364943,\n",
       " 65: -1055.2446449791698,\n",
       " 156: -1055.0329874990114,\n",
       " 117: -1055.239077847083,\n",
       " 198: -1055.0090194635782,\n",
       " 93: -1055.0964207856105,\n",
       " 113: -1055.063655702561,\n",
       " 42: -1055.2030296110079,\n",
       " 189: -1055.0273366362494,\n",
       " 167: -1055.061546236886,\n",
       " 187: -1055.0748330860401,\n",
       " 127: -1055.149393097747,\n",
       " 84: -1055.0828321276856,\n",
       " 111: -1055.106383827369,\n",
       " 70: -1055.0306680506308,\n",
       " 98: -1055.1828796034488,\n",
       " 104: -1055.2084849364876,\n",
       " 59: -1055.1293779514883,\n",
       " 39: -1055.1193628411645,\n",
       " 142: -1055.0947097134078,\n",
       " 131: -1055.0786650521563,\n",
       " 77: -1055.097073418901,\n",
       " 162: -1055.041868702669,\n",
       " 140: -1054.9524054145356,\n",
       " 148: -1055.0360858927036,\n",
       " 155: -1055.1419761005898,\n",
       " 12: -1055.0752865343375,\n",
       " 135: -1055.0362314120148,\n",
       " 9: -1055.1332682487723,\n",
       " 73: -1055.1140710525215,\n",
       " 173: -1055.0252967531576,\n",
       " 163: -1055.0020556476748,\n",
       " 128: -1055.012226447587,\n",
       " 129: -1055.0713793571238,\n",
       " 120: -1055.0722937985654,\n",
       " 13: -1055.1636468809952,\n",
       " 152: -1055.1452410792083,\n",
       " 18: -1055.2064318358557,\n",
       " 154: -1055.0878224225496,\n",
       " 118: -1055.1061889597415,\n",
       " 192: -1055.060236249926,\n",
       " 164: -1054.9863074905534,\n",
       " 177: -1055.1598240224503,\n",
       " 68: -1055.1737816939842,\n",
       " 72: -1055.1335879478534,\n",
       " 103: -1055.2079674921777,\n",
       " 141: -1055.0798680612825,\n",
       " 23: -1055.0967521305793,\n",
       " 75: -1055.0256933408116,\n",
       " 74: -1055.0539813450632,\n",
       " 22: -1055.2032319293849,\n",
       " 193: -1055.1067625210108,\n",
       " 166: -1054.9729013114513,\n",
       " 172: -1055.1214438971147,\n",
       " 27: -1055.1532939085516,\n",
       " 121: -1055.1219688468343,\n",
       " 11: -1055.1197890356334,\n",
       " 94: -1055.0684920914127,\n",
       " 86: -1055.0414647367827,\n",
       " 101: -1055.1398724667893,\n",
       " 139: -1055.046011650269,\n",
       " 46: -1055.1536508927782,\n",
       " 199: -1055.1019678330583,\n",
       " 15: -1055.1588029848504,\n",
       " 52: -1055.061660742151,\n",
       " 24: -1055.0998382539708,\n",
       " 95: -1055.0287056200395,\n",
       " 126: -1055.0802113284924,\n",
       " 16: -1055.1239839029372,\n",
       " 158: -1055.0643665231185,\n",
       " 7: -1055.2002187624764,\n",
       " 17: -1055.175781973569,\n",
       " 169: -1055.049324398082,\n",
       " 63: -1055.16516914391,\n",
       " 183: -1055.0925493007564,\n",
       " 4: -1055.5256143545564,\n",
       " 34: -1055.1879113157315,\n",
       " 122: -1054.97436475697,\n",
       " 109: -1055.0572990100027,\n",
       " 81: -1055.0920749417046,\n",
       " 197: -1054.9697736713783,\n",
       " 21: -1055.1216211102874}"
      ]
     },
     "execution_count": 37,
     "metadata": {},
     "output_type": "execute_result"
    }
   ],
   "source": [
    "differences"
   ]
  },
  {
   "cell_type": "code",
   "execution_count": 38,
   "metadata": {},
   "outputs": [
    {
     "data": {
      "text/plain": [
       "<module 'matplotlib.pyplot' from '/home/mayank/anaconda3/lib/python3.7/site-packages/matplotlib/pyplot.py'>"
      ]
     },
     "execution_count": 38,
     "metadata": {},
     "output_type": "execute_result"
    },
    {
     "data": {
      "image/png": "[encoded data removed]",
      "text/plain": [
       "<Figure size 432x288 with 1 Axes>"
      ]
     },
     "metadata": {
      "needs_background": "light"
     },
     "output_type": "display_data"
    }
   ],
   "source": [
    "plt.scatter(*zip(*differences.items()))\n",
    "plt"
   ]
  },
  {
   "cell_type": "markdown",
   "metadata": {},
   "source": [
    "# Read slurm file for run energy"
   ]
  },
  {
   "cell_type": "code",
   "execution_count": 39,
   "metadata": {},
   "outputs": [],
   "source": [
    "filename=\"../slurm-out7\"\n",
    "target_string=\"### NNP EW SUMMARY ###\"\n",
    "target_number=493\n",
    "energy_list=[]\n",
    "with open(filename,'r') as f:\n",
    "    lines=f.readlines()\n",
    "    energy_list.append(lines[target_number-1].split())\n",
    "    for ind in range(target_number,len(lines)):\n",
    "        if(target_string in lines[ind]):\n",
    "            pass\n",
    "        elif(\"Loop time\" in lines[ind]):\n",
    "            break\n",
    "        else:\n",
    "            energy_list.append(lines[ind].split())"
   ]
  },
  {
   "cell_type": "code",
   "execution_count": 40,
   "metadata": {},
   "outputs": [
    {
     "data": {
      "text/html": [
       "<div>\n",
       "<style scoped>\n",
       "    .dataframe tbody tr th:only-of-type {\n",
       "        vertical-align: middle;\n",
       "    }\n",
       "\n",
       "    .dataframe tbody tr th {\n",
       "        vertical-align: top;\n",
       "    }\n",
       "\n",
       "    .dataframe thead th {\n",
       "        text-align: right;\n",
       "    }\n",
       "</style>\n",
       "<table border=\"1\" class=\"dataframe\">\n",
       "  <thead>\n",
       "    <tr style=\"text-align: right;\">\n",
       "      <th></th>\n",
       "      <th>Step</th>\n",
       "      <th>Temp</th>\n",
       "      <th>E_pair</th>\n",
       "      <th>E_mol</th>\n",
       "      <th>TotEng</th>\n",
       "      <th>Press</th>\n",
       "    </tr>\n",
       "  </thead>\n",
       "  <tbody>\n",
       "    <tr>\n",
       "      <td>0</td>\n",
       "      <td>0</td>\n",
       "      <td>0</td>\n",
       "      <td>-30039.2</td>\n",
       "      <td>0</td>\n",
       "      <td>-1103.919573</td>\n",
       "      <td>719.23759</td>\n",
       "    </tr>\n",
       "    <tr>\n",
       "      <td>1</td>\n",
       "      <td>1</td>\n",
       "      <td>8.1409265</td>\n",
       "      <td>-30039.407</td>\n",
       "      <td>0</td>\n",
       "      <td>-1103.919793</td>\n",
       "      <td>689.44014</td>\n",
       "    </tr>\n",
       "    <tr>\n",
       "      <td>2</td>\n",
       "      <td>2</td>\n",
       "      <td>28.416286</td>\n",
       "      <td>-30039.924</td>\n",
       "      <td>0</td>\n",
       "      <td>-1103.920381</td>\n",
       "      <td>605.33679</td>\n",
       "    </tr>\n",
       "    <tr>\n",
       "      <td>3</td>\n",
       "      <td>3</td>\n",
       "      <td>50.908637</td>\n",
       "      <td>-30040.492</td>\n",
       "      <td>0</td>\n",
       "      <td>-1103.920859</td>\n",
       "      <td>480.95995</td>\n",
       "    </tr>\n",
       "    <tr>\n",
       "      <td>4</td>\n",
       "      <td>4</td>\n",
       "      <td>65.547515</td>\n",
       "      <td>-30040.856</td>\n",
       "      <td>0</td>\n",
       "      <td>-1103.920969</td>\n",
       "      <td>334.70744</td>\n",
       "    </tr>\n",
       "    <tr>\n",
       "      <td>...</td>\n",
       "      <td>...</td>\n",
       "      <td>...</td>\n",
       "      <td>...</td>\n",
       "      <td>...</td>\n",
       "      <td>...</td>\n",
       "      <td>...</td>\n",
       "    </tr>\n",
       "    <tr>\n",
       "      <td>9996</td>\n",
       "      <td>9996</td>\n",
       "      <td>294.68341</td>\n",
       "      <td>-30033.818</td>\n",
       "      <td>0</td>\n",
       "      <td>-1103.454437</td>\n",
       "      <td>11.31899</td>\n",
       "    </tr>\n",
       "    <tr>\n",
       "      <td>9997</td>\n",
       "      <td>9997</td>\n",
       "      <td>300.14723</td>\n",
       "      <td>-30033.918</td>\n",
       "      <td>0</td>\n",
       "      <td>-1103.453150</td>\n",
       "      <td>35.206049</td>\n",
       "    </tr>\n",
       "    <tr>\n",
       "      <td>9998</td>\n",
       "      <td>9998</td>\n",
       "      <td>306.58696</td>\n",
       "      <td>-30034.042</td>\n",
       "      <td>0</td>\n",
       "      <td>-1103.451864</td>\n",
       "      <td>55.06749</td>\n",
       "    </tr>\n",
       "    <tr>\n",
       "      <td>9999</td>\n",
       "      <td>9999</td>\n",
       "      <td>312.22894</td>\n",
       "      <td>-30034.147</td>\n",
       "      <td>0</td>\n",
       "      <td>-1103.450615</td>\n",
       "      <td>69.953712</td>\n",
       "    </tr>\n",
       "    <tr>\n",
       "      <td>10000</td>\n",
       "      <td>10000</td>\n",
       "      <td>315.57529</td>\n",
       "      <td>-30034.195</td>\n",
       "      <td>0</td>\n",
       "      <td>-1103.449329</td>\n",
       "      <td>79.431301</td>\n",
       "    </tr>\n",
       "  </tbody>\n",
       "</table>\n",
       "<p>10001 rows × 6 columns</p>\n",
       "</div>"
      ],
      "text/plain": [
       "        Step       Temp      E_pair E_mol       TotEng      Press\n",
       "0          0          0    -30039.2     0 -1103.919573  719.23759\n",
       "1          1  8.1409265  -30039.407     0 -1103.919793  689.44014\n",
       "2          2  28.416286  -30039.924     0 -1103.920381  605.33679\n",
       "3          3  50.908637  -30040.492     0 -1103.920859  480.95995\n",
       "4          4  65.547515  -30040.856     0 -1103.920969  334.70744\n",
       "...      ...        ...         ...   ...          ...        ...\n",
       "9996    9996  294.68341  -30033.818     0 -1103.454437   11.31899\n",
       "9997    9997  300.14723  -30033.918     0 -1103.453150  35.206049\n",
       "9998    9998  306.58696  -30034.042     0 -1103.451864   55.06749\n",
       "9999    9999  312.22894  -30034.147     0 -1103.450615  69.953712\n",
       "10000  10000  315.57529  -30034.195     0 -1103.449329  79.431301\n",
       "\n",
       "[10001 rows x 6 columns]"
      ]
     },
     "execution_count": 40,
     "metadata": {},
     "output_type": "execute_result"
    }
   ],
   "source": [
    "import pandas as pd\n",
    "header=energy_list.pop(0)\n",
    "df = pd.DataFrame(energy_list, columns=header)\n",
    "df['Step'] = df['Step'].astype(int)\n",
    "df['TotEng'] = 0.0367493*df['TotEng'].astype(float)\n",
    "df"
   ]
  },
  {
   "cell_type": "code",
   "execution_count": 41,
   "metadata": {},
   "outputs": [
    {
     "data": {
      "text/plain": [
       "-1103.91957256"
      ]
     },
     "execution_count": 41,
     "metadata": {},
     "output_type": "execute_result"
    }
   ],
   "source": [
    "df['TotEng'][0]"
   ]
  },
  {
   "cell_type": "code",
   "execution_count": 42,
   "metadata": {},
   "outputs": [
    {
     "data": {
      "image/png": "[encoded data removed]",
      "text/plain": [
       "<Figure size 432x288 with 1 Axes>"
      ]
     },
     "metadata": {
      "needs_background": "light"
     },
     "output_type": "display_data"
    }
   ],
   "source": [
    "\n",
    "plt.scatter(df['Step'][0::50],df['TotEng'][0::50])\n",
    "plt.xlabel(\"frame number\")\n",
    "plt.ylabel(\"energy [A.U. Hartree]\")\n",
    "plt.show()"
   ]
  },
  {
   "cell_type": "code",
   "execution_count": 43,
   "metadata": {},
   "outputs": [],
   "source": [
    "factor={}\n",
    "for i in mapping:\n",
    "    i=int(i)\n",
    "    try:\n",
    "        factor[i]=df['TotEng'][50*(i-1)]/mapping[i]\n",
    "    except:\n",
    "        print(\"%i doesnt exist\")"
   ]
  },
  {
   "cell_type": "code",
   "execution_count": 83,
   "metadata": {},
   "outputs": [
    {
     "data": {
      "text/plain": [
       "<module 'matplotlib.pyplot' from '/home/mayank/anaconda3/lib/python3.7/site-packages/matplotlib/pyplot.py'>"
      ]
     },
     "execution_count": 83,
     "metadata": {},
     "output_type": "execute_result"
    },
    {
     "data": {
      "image/png": "[encoded data removed]",
      "text/plain": [
       "<Figure size 432x288 with 1 Axes>"
      ]
     },
     "metadata": {
      "needs_background": "light"
     },
     "output_type": "display_data"
    }
   ],
   "source": [
    "plt.scatter(*zip(*factor.items()),color=\"orange\")\n",
    "plt.ylabel(\"N2P2 enery/CP2K calculation\")\n",
    "plt.xlabel(\"frame number\")\n",
    "plt.title(\"comparing n2p2 and cp2k energy\")\n",
    "plt"
   ]
  },
  {
   "cell_type": "code",
   "execution_count": 45,
   "metadata": {},
   "outputs": [
    {
     "data": {
      "text/html": [
       "<div>\n",
       "<style scoped>\n",
       "    .dataframe tbody tr th:only-of-type {\n",
       "        vertical-align: middle;\n",
       "    }\n",
       "\n",
       "    .dataframe tbody tr th {\n",
       "        vertical-align: top;\n",
       "    }\n",
       "\n",
       "    .dataframe thead th {\n",
       "        text-align: right;\n",
       "    }\n",
       "</style>\n",
       "<table border=\"1\" class=\"dataframe\">\n",
       "  <thead>\n",
       "    <tr style=\"text-align: right;\">\n",
       "      <th></th>\n",
       "      <th>Step</th>\n",
       "      <th>Temp</th>\n",
       "      <th>E_pair</th>\n",
       "      <th>E_mol</th>\n",
       "      <th>TotEng</th>\n",
       "      <th>Press</th>\n",
       "      <th>Cp2k</th>\n",
       "    </tr>\n",
       "  </thead>\n",
       "  <tbody>\n",
       "    <tr>\n",
       "      <td>0</td>\n",
       "      <td>0</td>\n",
       "      <td>0</td>\n",
       "      <td>-30039.2</td>\n",
       "      <td>0</td>\n",
       "      <td>-1103.919573</td>\n",
       "      <td>719.23759</td>\n",
       "      <td>0.0</td>\n",
       "    </tr>\n",
       "    <tr>\n",
       "      <td>1</td>\n",
       "      <td>1</td>\n",
       "      <td>8.1409265</td>\n",
       "      <td>-30039.407</td>\n",
       "      <td>0</td>\n",
       "      <td>-1103.919793</td>\n",
       "      <td>689.44014</td>\n",
       "      <td>0.0</td>\n",
       "    </tr>\n",
       "    <tr>\n",
       "      <td>2</td>\n",
       "      <td>2</td>\n",
       "      <td>28.416286</td>\n",
       "      <td>-30039.924</td>\n",
       "      <td>0</td>\n",
       "      <td>-1103.920381</td>\n",
       "      <td>605.33679</td>\n",
       "      <td>0.0</td>\n",
       "    </tr>\n",
       "    <tr>\n",
       "      <td>3</td>\n",
       "      <td>3</td>\n",
       "      <td>50.908637</td>\n",
       "      <td>-30040.492</td>\n",
       "      <td>0</td>\n",
       "      <td>-1103.920859</td>\n",
       "      <td>480.95995</td>\n",
       "      <td>0.0</td>\n",
       "    </tr>\n",
       "    <tr>\n",
       "      <td>4</td>\n",
       "      <td>4</td>\n",
       "      <td>65.547515</td>\n",
       "      <td>-30040.856</td>\n",
       "      <td>0</td>\n",
       "      <td>-1103.920969</td>\n",
       "      <td>334.70744</td>\n",
       "      <td>0.0</td>\n",
       "    </tr>\n",
       "    <tr>\n",
       "      <td>...</td>\n",
       "      <td>...</td>\n",
       "      <td>...</td>\n",
       "      <td>...</td>\n",
       "      <td>...</td>\n",
       "      <td>...</td>\n",
       "      <td>...</td>\n",
       "      <td>...</td>\n",
       "    </tr>\n",
       "    <tr>\n",
       "      <td>9996</td>\n",
       "      <td>9996</td>\n",
       "      <td>294.68341</td>\n",
       "      <td>-30033.818</td>\n",
       "      <td>0</td>\n",
       "      <td>-1103.454437</td>\n",
       "      <td>11.31899</td>\n",
       "      <td>0.0</td>\n",
       "    </tr>\n",
       "    <tr>\n",
       "      <td>9997</td>\n",
       "      <td>9997</td>\n",
       "      <td>300.14723</td>\n",
       "      <td>-30033.918</td>\n",
       "      <td>0</td>\n",
       "      <td>-1103.453150</td>\n",
       "      <td>35.206049</td>\n",
       "      <td>0.0</td>\n",
       "    </tr>\n",
       "    <tr>\n",
       "      <td>9998</td>\n",
       "      <td>9998</td>\n",
       "      <td>306.58696</td>\n",
       "      <td>-30034.042</td>\n",
       "      <td>0</td>\n",
       "      <td>-1103.451864</td>\n",
       "      <td>55.06749</td>\n",
       "      <td>0.0</td>\n",
       "    </tr>\n",
       "    <tr>\n",
       "      <td>9999</td>\n",
       "      <td>9999</td>\n",
       "      <td>312.22894</td>\n",
       "      <td>-30034.147</td>\n",
       "      <td>0</td>\n",
       "      <td>-1103.450615</td>\n",
       "      <td>69.953712</td>\n",
       "      <td>0.0</td>\n",
       "    </tr>\n",
       "    <tr>\n",
       "      <td>10000</td>\n",
       "      <td>10000</td>\n",
       "      <td>315.57529</td>\n",
       "      <td>-30034.195</td>\n",
       "      <td>0</td>\n",
       "      <td>-1103.449329</td>\n",
       "      <td>79.431301</td>\n",
       "      <td>0.0</td>\n",
       "    </tr>\n",
       "  </tbody>\n",
       "</table>\n",
       "<p>10001 rows × 7 columns</p>\n",
       "</div>"
      ],
      "text/plain": [
       "        Step       Temp      E_pair E_mol       TotEng      Press  Cp2k\n",
       "0          0          0    -30039.2     0 -1103.919573  719.23759   0.0\n",
       "1          1  8.1409265  -30039.407     0 -1103.919793  689.44014   0.0\n",
       "2          2  28.416286  -30039.924     0 -1103.920381  605.33679   0.0\n",
       "3          3  50.908637  -30040.492     0 -1103.920859  480.95995   0.0\n",
       "4          4  65.547515  -30040.856     0 -1103.920969  334.70744   0.0\n",
       "...      ...        ...         ...   ...          ...        ...   ...\n",
       "9996    9996  294.68341  -30033.818     0 -1103.454437   11.31899   0.0\n",
       "9997    9997  300.14723  -30033.918     0 -1103.453150  35.206049   0.0\n",
       "9998    9998  306.58696  -30034.042     0 -1103.451864   55.06749   0.0\n",
       "9999    9999  312.22894  -30034.147     0 -1103.450615  69.953712   0.0\n",
       "10000  10000  315.57529  -30034.195     0 -1103.449329  79.431301   0.0\n",
       "\n",
       "[10001 rows x 7 columns]"
      ]
     },
     "execution_count": 45,
     "metadata": {},
     "output_type": "execute_result"
    }
   ],
   "source": [
    "df['Cp2k']=[0]*len(df)\n",
    "df['Cp2k'] = df['Cp2k'].astype(float)\n",
    "df"
   ]
  },
  {
   "cell_type": "code",
   "execution_count": 51,
   "metadata": {},
   "outputs": [
    {
     "name": "stdout",
     "output_type": "stream",
     "text": [
      "{176: -1095.6116058130322, 114: -1095.6197029160758, 124: -1095.6910598844486, 8: -1095.6437682109045, 51: -1095.5643656181785, 186: -1095.538419557269, 188: -1095.6436137102592, 91: -1095.6525025000806, 107: -1095.667731813889, 116: -1095.7539531783377, 132: -1095.5739453503777, 33: -1095.770526472944, 19: -1095.6058877890953, 55: -1095.7616122979416, 31: -1095.6792498760474, 123: -1095.6404289613833, 160: -1095.499910374295, 201: -1095.4923740461163, 136: -1095.5051037946564, 28: -1095.6917943438596, 44: -1095.698280272962, 161: -1095.5995917395066, 191: -1095.5769216346434, 151: -1095.7088211966022, 195: -1095.6419544289856, 115: -1095.597116289203, 99: -1095.7255634332523, 1: -1096.1164440234556, 67: -1095.76353003105, 62: -1095.7476692700661, 79: -1095.6877003982406, 82: -1095.6370960383235, 85: -1095.6761352726312, 105: -1095.674372473096, 58: -1095.6945223718117, 185: -1095.5264415915642, 54: -1095.8012293879146, 174: -1095.5618980552977, 14: -1095.6186422713868, 112: -1095.6761795512755, 69: -1095.7173805959333, 41: -1095.739487643236, 87: -1095.6902167362489, 133: -1095.6027132689346, 196: -1095.5463194171543, 80: -1095.618530558424, 43: -1095.6830071603279, 32: -1095.6838509118768, 61: -1095.6445897982892, 147: -1095.6505910914534, 88: -1095.6727281642497, 180: -1095.6338908731746, 25: -1095.5542431544122, 76: -1095.6185440122374, 40: -1095.7038647251027, 150: -1095.7266616802374, 170: -1095.6175474003894, 2: -1096.3976926067553, 125: -1095.6011600990078, 108: -1095.6757308349922, 146: -1095.661877888164, 30: -1095.6285175113467, 49: -1095.6789000933784, 48: -1095.6821627309942, 181: -1095.6253422094114, 178: -1095.6222904775866, 45: -1095.7110812707324, 143: -1095.73456265807, 137: -1095.625173450108, 134: -1095.6551103407041, 194: -1095.6552754759587, 182: -1095.539636731687, 35: -1095.6683050975166, 56: -1095.6703246882366, 157: -1095.5032072070924, 64: -1095.636344884731, 175: -1095.5920267253873, 90: -1095.671076794097, 89: -1095.6102923991978, 50: -1095.722849459903, 149: -1095.6776027432486, 3: -1096.1804630013553, 92: -1095.6356299081203, 144: -1095.6463606686568, 96: -1095.5756025738829, 130: -1095.621949853064, 29: -1095.6685519184525, 83: -1095.6427590237467, 38: -1095.673901039526, 168: -1095.6246263327107, 165: -1095.640131143831, 60: -1095.6873250680856, 153: -1095.6364110766997, 5: -1095.9625816045686, 47: -1095.612112173957, 100: -1095.6671736646058, 53: -1095.68233445869, 20: -1095.7482262662072, 145: -1095.6269689396506, 10: -1095.6338869581245, 159: -1095.5624678689214, 184: -1095.6201295371302, 37: -1095.7546044549495, 71: -1095.564422322075, 26: -1095.7626345721717, 179: -1095.4985384356187, 200: -1095.6214470455766, 110: -1095.5788536481646, 106: -1095.6273135636677, 78: -1095.6116899326375, 119: -1095.6331276251756, 36: -1095.6854159828479, 102: -1095.6680370345898, 97: -1095.585476714798, 190: -1095.5873667766268, 6: -1095.8825293684608, 138: -1095.6491201460972, 66: -1095.6789910602215, 57: -1095.7003470396946, 171: -1095.6455583094962, 65: -1095.7646451249418, 156: -1095.5974660575594, 117: -1095.758466851996, 198: -1095.530711547122, 93: -1095.6288197777094, 113: -1095.623204710007, 42: -1095.7571290647568, 189: -1095.6017364033185, 167: -1095.596194653638, 187: -1095.6466240203022, 127: -1095.665953509039, 84: -1095.6193485113565, 111: -1095.6275125441439, 70: -1095.5950532659567, 98: -1095.6865546076817, 104: -1095.7330173734285, 59: -1095.6391022579944, 39: -1095.6853481210126, 142: -1095.630310304523, 131: -1095.6454988733412, 77: -1095.6562490534589, 162: -1095.607918661285, 140: -1095.5145235655446, 148: -1095.5585401567296, 155: -1095.6654442778029, 12: -1095.6387537521496, 135: -1095.6059882725217, 9: -1095.6445672627833, 73: -1095.6388563246464, 173: -1095.5969976516346, 163: -1095.5686204639837, 128: -1095.580568092551, 129: -1095.6396805778577, 120: -1095.6279135708553, 13: -1095.6780321012202, 152: -1095.6679323762194, 18: -1095.7246996196257, 154: -1095.6096471710666, 118: -1095.6704554748285, 192: -1095.633505241034, 164: -1095.5557762365484, 177: -1095.6827538224184, 68: -1095.7360067854563, 72: -1095.6856790523573, 103: -1095.7146757836326, 141: -1095.5970723203104, 23: -1095.6624643631283, 75: -1095.5899120818085, 74: -1095.6194153854112, 22: -1095.7623425176819, 193: -1095.6439367171517, 166: -1095.5333503092543, 172: -1095.6506016009537, 27: -1095.6811837615405, 121: -1095.6439791793164, 11: -1095.6392107474235, 94: -1095.5973811578688, 86: -1095.6061726109626, 101: -1095.6617953359373, 139: -1095.607270235151, 46: -1095.718484817057, 199: -1095.6346751517842, 15: -1095.6837642861224, 52: -1095.6208161645939, 24: -1095.6301013767538, 95: -1095.5926145644376, 126: -1095.5989833126584, 16: -1095.6504875723301, 158: -1095.6253877075223, 7: -1095.7449397948653, 17: -1095.7383738230549, 169: -1095.6153251126361, 63: -1095.686988012539, 183: -1095.6260820087605, 4: -1096.0602179371624, 34: -1095.7470274164236, 122: -1095.5350419679262, 109: -1095.6112738836246, 81: -1095.6444846626396, 197: -1095.5391674488014, 21: -1095.6815912647114}\n"
     ]
    }
   ],
   "source": [
    "print(mapping)"
   ]
  },
  {
   "cell_type": "code",
   "execution_count": 55,
   "metadata": {},
   "outputs": [
    {
     "data": {
      "text/html": [
       "<div>\n",
       "<style scoped>\n",
       "    .dataframe tbody tr th:only-of-type {\n",
       "        vertical-align: middle;\n",
       "    }\n",
       "\n",
       "    .dataframe tbody tr th {\n",
       "        vertical-align: top;\n",
       "    }\n",
       "\n",
       "    .dataframe thead th {\n",
       "        text-align: right;\n",
       "    }\n",
       "</style>\n",
       "<table border=\"1\" class=\"dataframe\">\n",
       "  <thead>\n",
       "    <tr style=\"text-align: right;\">\n",
       "      <th></th>\n",
       "      <th>Step</th>\n",
       "      <th>Temp</th>\n",
       "      <th>E_pair</th>\n",
       "      <th>E_mol</th>\n",
       "      <th>TotEng</th>\n",
       "      <th>Press</th>\n",
       "      <th>Cp2k</th>\n",
       "    </tr>\n",
       "  </thead>\n",
       "  <tbody>\n",
       "    <tr>\n",
       "      <td>0</td>\n",
       "      <td>0</td>\n",
       "      <td>0</td>\n",
       "      <td>-30039.2</td>\n",
       "      <td>0</td>\n",
       "      <td>-1103.919573</td>\n",
       "      <td>719.23759</td>\n",
       "      <td>-1096.116444</td>\n",
       "    </tr>\n",
       "    <tr>\n",
       "      <td>1</td>\n",
       "      <td>1</td>\n",
       "      <td>8.1409265</td>\n",
       "      <td>-30039.407</td>\n",
       "      <td>0</td>\n",
       "      <td>-1103.919793</td>\n",
       "      <td>689.44014</td>\n",
       "      <td>0.000000</td>\n",
       "    </tr>\n",
       "    <tr>\n",
       "      <td>2</td>\n",
       "      <td>2</td>\n",
       "      <td>28.416286</td>\n",
       "      <td>-30039.924</td>\n",
       "      <td>0</td>\n",
       "      <td>-1103.920381</td>\n",
       "      <td>605.33679</td>\n",
       "      <td>0.000000</td>\n",
       "    </tr>\n",
       "    <tr>\n",
       "      <td>3</td>\n",
       "      <td>3</td>\n",
       "      <td>50.908637</td>\n",
       "      <td>-30040.492</td>\n",
       "      <td>0</td>\n",
       "      <td>-1103.920859</td>\n",
       "      <td>480.95995</td>\n",
       "      <td>0.000000</td>\n",
       "    </tr>\n",
       "    <tr>\n",
       "      <td>4</td>\n",
       "      <td>4</td>\n",
       "      <td>65.547515</td>\n",
       "      <td>-30040.856</td>\n",
       "      <td>0</td>\n",
       "      <td>-1103.920969</td>\n",
       "      <td>334.70744</td>\n",
       "      <td>0.000000</td>\n",
       "    </tr>\n",
       "    <tr>\n",
       "      <td>...</td>\n",
       "      <td>...</td>\n",
       "      <td>...</td>\n",
       "      <td>...</td>\n",
       "      <td>...</td>\n",
       "      <td>...</td>\n",
       "      <td>...</td>\n",
       "      <td>...</td>\n",
       "    </tr>\n",
       "    <tr>\n",
       "      <td>9996</td>\n",
       "      <td>9996</td>\n",
       "      <td>294.68341</td>\n",
       "      <td>-30033.818</td>\n",
       "      <td>0</td>\n",
       "      <td>-1103.454437</td>\n",
       "      <td>11.31899</td>\n",
       "      <td>0.000000</td>\n",
       "    </tr>\n",
       "    <tr>\n",
       "      <td>9997</td>\n",
       "      <td>9997</td>\n",
       "      <td>300.14723</td>\n",
       "      <td>-30033.918</td>\n",
       "      <td>0</td>\n",
       "      <td>-1103.453150</td>\n",
       "      <td>35.206049</td>\n",
       "      <td>0.000000</td>\n",
       "    </tr>\n",
       "    <tr>\n",
       "      <td>9998</td>\n",
       "      <td>9998</td>\n",
       "      <td>306.58696</td>\n",
       "      <td>-30034.042</td>\n",
       "      <td>0</td>\n",
       "      <td>-1103.451864</td>\n",
       "      <td>55.06749</td>\n",
       "      <td>0.000000</td>\n",
       "    </tr>\n",
       "    <tr>\n",
       "      <td>9999</td>\n",
       "      <td>9999</td>\n",
       "      <td>312.22894</td>\n",
       "      <td>-30034.147</td>\n",
       "      <td>0</td>\n",
       "      <td>-1103.450615</td>\n",
       "      <td>69.953712</td>\n",
       "      <td>0.000000</td>\n",
       "    </tr>\n",
       "    <tr>\n",
       "      <td>10000</td>\n",
       "      <td>10000</td>\n",
       "      <td>315.57529</td>\n",
       "      <td>-30034.195</td>\n",
       "      <td>0</td>\n",
       "      <td>-1103.449329</td>\n",
       "      <td>79.431301</td>\n",
       "      <td>-1095.492374</td>\n",
       "    </tr>\n",
       "  </tbody>\n",
       "</table>\n",
       "<p>10001 rows × 7 columns</p>\n",
       "</div>"
      ],
      "text/plain": [
       "        Step       Temp      E_pair E_mol       TotEng      Press         Cp2k\n",
       "0          0          0    -30039.2     0 -1103.919573  719.23759 -1096.116444\n",
       "1          1  8.1409265  -30039.407     0 -1103.919793  689.44014     0.000000\n",
       "2          2  28.416286  -30039.924     0 -1103.920381  605.33679     0.000000\n",
       "3          3  50.908637  -30040.492     0 -1103.920859  480.95995     0.000000\n",
       "4          4  65.547515  -30040.856     0 -1103.920969  334.70744     0.000000\n",
       "...      ...        ...         ...   ...          ...        ...          ...\n",
       "9996    9996  294.68341  -30033.818     0 -1103.454437   11.31899     0.000000\n",
       "9997    9997  300.14723  -30033.918     0 -1103.453150  35.206049     0.000000\n",
       "9998    9998  306.58696  -30034.042     0 -1103.451864   55.06749     0.000000\n",
       "9999    9999  312.22894  -30034.147     0 -1103.450615  69.953712     0.000000\n",
       "10000  10000  315.57529  -30034.195     0 -1103.449329  79.431301 -1095.492374\n",
       "\n",
       "[10001 rows x 7 columns]"
      ]
     },
     "execution_count": 55,
     "metadata": {},
     "output_type": "execute_result"
    }
   ],
   "source": [
    "for i in mapping:\n",
    "    df.at[50*(i-1),'Cp2k']=mapping[i]\n",
    "df"
   ]
  },
  {
   "cell_type": "markdown",
   "metadata": {},
   "source": [
    "# Plot CP2K v/s N2P2 energy"
   ]
  },
  {
   "cell_type": "code",
   "execution_count": 86,
   "metadata": {},
   "outputs": [
    {
     "data": {
      "image/png": "[encoded data removed]",
      "text/plain": [
       "<Figure size 432x288 with 2 Axes>"
      ]
     },
     "metadata": {
      "needs_background": "light"
     },
     "output_type": "display_data"
    }
   ],
   "source": [
    "plt.scatter(df['Cp2k'][0::50],df['TotEng'][0::50],c=df['Step'][::50],picker=True)\n",
    "plt.xlabel(\"CP2K energy\")\n",
    "plt.ylabel(\"N2P2 energy\")\n",
    "\n",
    "#plt.rcParams['figure.dpi'] = 200\n",
    "#plt.rcParams['figure.figsize'] = [14, 16]\n",
    "clb=plt.colorbar()\n",
    "clb.ax.set_title(\"frame number\")\n",
    "plt.title(\"N2P2(reported) energy v/s CP2K calculation\",y=1.08)\n",
    "#plt.colorbar.setlabel(\"timestep\")\n",
    "plt.show()"
   ]
  },
  {
   "cell_type": "markdown",
   "metadata": {},
   "source": [
    "# Plot CP2K, N2p2 energy v/s frame"
   ]
  },
  {
   "cell_type": "code",
   "execution_count": 88,
   "metadata": {},
   "outputs": [
    {
     "data": {
      "image/png": "[encoded data removed]",
      "text/plain": [
       "<Figure size 432x288 with 1 Axes>"
      ]
     },
     "metadata": {
      "needs_background": "light"
     },
     "output_type": "display_data"
    }
   ],
   "source": [
    "plt.scatter(df['Step'][0::50],df['TotEng'][0::50],color=\"blue\",label='n2p2')\n",
    "plt.scatter(df['Step'][0::50],df['Cp2k'][0::50],color=\"orange\",label='cp2k')\n",
    "plt.xlabel(\"frame number\")\n",
    "plt.ylabel(\"energy [A.U. Hartree]\")\n",
    "plt.legend()\n",
    "plt.title(\"Total energy from CP2K calculation and N2P2(reported in output)\")\n",
    "plt.show()"
   ]
  },
  {
   "cell_type": "markdown",
   "metadata": {},
   "source": [
    "# Plot Cp2k, n2p2 relative energy v/s frame\n",
    "Relative energy is energy - lowest energy recorded"
   ]
  },
  {
   "cell_type": "code",
   "execution_count": 79,
   "metadata": {},
   "outputs": [],
   "source": [
    "from statistics import median\n",
    "n2p2Ener=[]\n",
    "cp2kEner=[]\n",
    "n2p2min=min(df['TotEng'][0::50])\n",
    "cp2kmin=min(df['Cp2k'][0::50])\n",
    "for i in df['TotEng'][0::50]:\n",
    "    n2p2Ener.append(i-n2p2min)\n",
    "    \n",
    "for i in df['Cp2k'][0::50]:\n",
    "    cp2kEner.append(i-cp2kmin)"
   ]
  },
  {
   "cell_type": "code",
   "execution_count": 80,
   "metadata": {},
   "outputs": [
    {
     "data": {
      "image/png": "[encoded data removed]",
      "text/plain": [
       "<Figure size 432x288 with 1 Axes>"
      ]
     },
     "metadata": {
      "needs_background": "light"
     },
     "output_type": "display_data"
    }
   ],
   "source": [
    "plt.scatter(df['Step'][0::50],n2p2Ener,color=\"blue\",label='n2p2')\n",
    "plt.scatter(df['Step'][0::50],cp2kEner,color=\"orange\",label=\"cp2k\")\n",
    "plt.xlabel(\"frame number\")\n",
    "plt.ylabel(\"energy [A.U. Hartree]\")\n",
    "plt.title(\"cp2k and n2p2 relative energies(min)\")\n",
    "plt.legend()\n",
    "plt.show()"
   ]
  },
  {
   "cell_type": "code",
   "execution_count": 81,
   "metadata": {},
   "outputs": [
    {
     "data": {
      "image/png": "[encoded data removed]",
      "text/plain": [
       "<Figure size 432x288 with 2 Axes>"
      ]
     },
     "metadata": {
      "needs_background": "light"
     },
     "output_type": "display_data"
    }
   ],
   "source": [
    "plt.scatter(cp2kEner,n2p2Ener,c=df['Step'][::50],picker=True)\n",
    "plt.xlabel(\"CP2K energy\")\n",
    "plt.ylabel(\"N2P2 energy\")\n",
    "\n",
    "#plt.rcParams['figure.dpi'] = 200\n",
    "#plt.rcParams['figure.figsize'] = [14, 16]\n",
    "plt.colorbar()\n",
    "#plt.colorbar.setlabel(\"timestep\")\n",
    "plt.show()"
   ]
  },
  {
   "cell_type": "code",
   "execution_count": null,
   "metadata": {},
   "outputs": [],
   "source": []
  }
 ],
 "metadata": {
  "kernelspec": {
   "display_name": "Python 3",
   "language": "python",
   "name": "python3"
  },
  "language_info": {
   "codemirror_mode": {
    "name": "ipython",
    "version": 3
   },
   "file_extension": ".py",
   "mimetype": "text/x-python",
   "name": "python",
   "nbconvert_exporter": "python",
   "pygments_lexer": "ipython3",
   "version": "3.7.4"
  }
 },
 "nbformat": 4,
 "nbformat_minor": 2
}
