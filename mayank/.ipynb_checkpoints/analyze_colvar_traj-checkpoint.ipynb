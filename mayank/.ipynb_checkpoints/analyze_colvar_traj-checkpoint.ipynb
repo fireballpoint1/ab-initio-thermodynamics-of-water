{
 "cells": [
  {
   "cell_type": "code",
   "execution_count": 39,
   "metadata": {},
   "outputs": [],
   "source": [
    "import pandas as pd\n",
    "import seaborn as sns\n",
    "import numpy as np \n",
    "\n",
    "headers=['time','sort.1','sort.128','bias']"
   ]
  },
  {
   "cell_type": "code",
   "execution_count": 27,
   "metadata": {},
   "outputs": [],
   "source": [
    "data = pd.read_csv('COLVARnvt_7',sep=' ',names=headers,skiprows=1)"
   ]
  },
  {
   "cell_type": "code",
   "execution_count": 31,
   "metadata": {},
   "outputs": [
    {
     "data": {
      "text/html": [
       "<div>\n",
       "<style scoped>\n",
       "    .dataframe tbody tr th:only-of-type {\n",
       "        vertical-align: middle;\n",
       "    }\n",
       "\n",
       "    .dataframe tbody tr th {\n",
       "        vertical-align: top;\n",
       "    }\n",
       "\n",
       "    .dataframe thead th {\n",
       "        text-align: right;\n",
       "    }\n",
       "</style>\n",
       "<table border=\"1\" class=\"dataframe\">\n",
       "  <thead>\n",
       "    <tr style=\"text-align: right;\">\n",
       "      <th></th>\n",
       "      <th>time</th>\n",
       "      <th>sort.1</th>\n",
       "      <th>sort.128</th>\n",
       "      <th>bias</th>\n",
       "    </tr>\n",
       "  </thead>\n",
       "  <tbody>\n",
       "    <tr>\n",
       "      <th>NaN</th>\n",
       "      <td>0.000</td>\n",
       "      <td>0.023096</td>\n",
       "      <td>0.023415</td>\n",
       "      <td>4.986755</td>\n",
       "    </tr>\n",
       "    <tr>\n",
       "      <th>NaN</th>\n",
       "      <td>0.005</td>\n",
       "      <td>0.023101</td>\n",
       "      <td>0.023402</td>\n",
       "      <td>4.986974</td>\n",
       "    </tr>\n",
       "    <tr>\n",
       "      <th>NaN</th>\n",
       "      <td>0.010</td>\n",
       "      <td>0.023097</td>\n",
       "      <td>0.023411</td>\n",
       "      <td>4.986830</td>\n",
       "    </tr>\n",
       "    <tr>\n",
       "      <th>NaN</th>\n",
       "      <td>0.015</td>\n",
       "      <td>0.023103</td>\n",
       "      <td>0.023412</td>\n",
       "      <td>4.986803</td>\n",
       "    </tr>\n",
       "    <tr>\n",
       "      <th>NaN</th>\n",
       "      <td>0.020</td>\n",
       "      <td>0.023098</td>\n",
       "      <td>0.023402</td>\n",
       "      <td>4.986979</td>\n",
       "    </tr>\n",
       "  </tbody>\n",
       "</table>\n",
       "</div>"
      ],
      "text/plain": [
       "      time    sort.1  sort.128      bias\n",
       "NaN  0.000  0.023096  0.023415  4.986755\n",
       "NaN  0.005  0.023101  0.023402  4.986974\n",
       "NaN  0.010  0.023097  0.023411  4.986830\n",
       "NaN  0.015  0.023103  0.023412  4.986803\n",
       "NaN  0.020  0.023098  0.023402  4.986979"
      ]
     },
     "execution_count": 31,
     "metadata": {},
     "output_type": "execute_result"
    }
   ],
   "source": [
    "data.head()"
   ]
  },
  {
   "cell_type": "code",
   "execution_count": 33,
   "metadata": {},
   "outputs": [
    {
     "data": {
      "text/html": [
       "<div>\n",
       "<style scoped>\n",
       "    .dataframe tbody tr th:only-of-type {\n",
       "        vertical-align: middle;\n",
       "    }\n",
       "\n",
       "    .dataframe tbody tr th {\n",
       "        vertical-align: top;\n",
       "    }\n",
       "\n",
       "    .dataframe thead th {\n",
       "        text-align: right;\n",
       "    }\n",
       "</style>\n",
       "<table border=\"1\" class=\"dataframe\">\n",
       "  <thead>\n",
       "    <tr style=\"text-align: right;\">\n",
       "      <th></th>\n",
       "      <th>time</th>\n",
       "      <th>sort.1</th>\n",
       "      <th>sort.128</th>\n",
       "      <th>bias</th>\n",
       "    </tr>\n",
       "  </thead>\n",
       "  <tbody>\n",
       "    <tr>\n",
       "      <th>NaN</th>\n",
       "      <td>0.000</td>\n",
       "      <td>0.023096</td>\n",
       "      <td>0.023415</td>\n",
       "      <td>4.986755</td>\n",
       "    </tr>\n",
       "    <tr>\n",
       "      <th>NaN</th>\n",
       "      <td>0.005</td>\n",
       "      <td>0.023101</td>\n",
       "      <td>0.023402</td>\n",
       "      <td>4.986974</td>\n",
       "    </tr>\n",
       "    <tr>\n",
       "      <th>NaN</th>\n",
       "      <td>0.010</td>\n",
       "      <td>0.023097</td>\n",
       "      <td>0.023411</td>\n",
       "      <td>4.986830</td>\n",
       "    </tr>\n",
       "    <tr>\n",
       "      <th>NaN</th>\n",
       "      <td>0.015</td>\n",
       "      <td>0.023103</td>\n",
       "      <td>0.023412</td>\n",
       "      <td>4.986803</td>\n",
       "    </tr>\n",
       "    <tr>\n",
       "      <th>NaN</th>\n",
       "      <td>0.020</td>\n",
       "      <td>0.023098</td>\n",
       "      <td>0.023402</td>\n",
       "      <td>4.986979</td>\n",
       "    </tr>\n",
       "  </tbody>\n",
       "</table>\n",
       "</div>"
      ],
      "text/plain": [
       "      time    sort.1  sort.128      bias\n",
       "NaN  0.000  0.023096  0.023415  4.986755\n",
       "NaN  0.005  0.023101  0.023402  4.986974\n",
       "NaN  0.010  0.023097  0.023411  4.986830\n",
       "NaN  0.015  0.023103  0.023412  4.986803\n",
       "NaN  0.020  0.023098  0.023402  4.986979"
      ]
     },
     "execution_count": 33,
     "metadata": {},
     "output_type": "execute_result"
    }
   ],
   "source": [
    "data.dropna()\n",
    "data.head()"
   ]
  },
  {
   "cell_type": "code",
   "execution_count": 32,
   "metadata": {},
   "outputs": [
    {
     "name": "stdout",
     "output_type": "stream",
     "text": [
      "time\n",
      "sort.1\n",
      "sort.128\n",
      "bias\n"
     ]
    }
   ],
   "source": [
    "for col in data:\n",
    "    print(col)"
   ]
  },
  {
   "cell_type": "code",
   "execution_count": 35,
   "metadata": {},
   "outputs": [
    {
     "data": {
      "text/plain": [
       "NaN    4.986755\n",
       "NaN    4.986974\n",
       "NaN    4.986830\n",
       "NaN    4.986803\n",
       "NaN    4.986979\n",
       "         ...   \n",
       "NaN    4.982769\n",
       "NaN    4.982796\n",
       "NaN    4.982718\n",
       "NaN    4.982805\n",
       "NaN    4.982828\n",
       "Name: bias, Length: 1001, dtype: float64"
      ]
     },
     "execution_count": 35,
     "metadata": {},
     "output_type": "execute_result"
    }
   ],
   "source": [
    "data['bias']"
   ]
  },
  {
   "cell_type": "code",
   "execution_count": 37,
   "metadata": {},
   "outputs": [
    {
     "name": "stderr",
     "output_type": "stream",
     "text": [
      "/usr/local/lib/python3.6/dist-packages/pandas/core/indexes/base.py:2897: FutureWarning: elementwise comparison failed; returning scalar instead, but in the future will perform elementwise comparison\n",
      "  return self._engine.get_loc(key)\n"
     ]
    },
    {
     "data": {
      "image/png": "[encoded data removed]",
      "text/plain": [
       "<Figure size 432x288 with 1 Axes>"
      ]
     },
     "metadata": {
      "needs_background": "light"
     },
     "output_type": "display_data"
    }
   ],
   "source": [
    "ax = sns.countplot(x=\"bias\",data=data)"
   ]
  },
  {
   "cell_type": "code",
   "execution_count": 42,
   "metadata": {},
   "outputs": [
    {
     "data": {
      "image/png": "[encoded data removed]",
      "text/plain": [
       "<Figure size 432x288 with 1 Axes>"
      ]
     },
     "metadata": {
      "needs_background": "light"
     },
     "output_type": "display_data"
    }
   ],
   "source": [
    "import matplotlib.pyplot as plt\n",
    "plt.title(\"bias by config\")\n",
    "plt.xlabel('config')\n",
    "plt.ylabel('bias')\n",
    "plt.plot(np.arange(len(data['bias'])),data['bias'])\n",
    "# plt.legend(['proton_count','oh_count','h2o_count','total'])\n",
    "plt.show()"
   ]
  },
  {
   "cell_type": "code",
   "execution_count": 52,
   "metadata": {},
   "outputs": [
    {
     "data": {
      "text/plain": [
       "(array([ 10.,  24.,  23.,  52.,  54.,  69.,  56.,  54.,  48.,  82., 110.,\n",
       "         79.,  97.,  61.,  12.,  14.,   9.,   7.,   7.,   6.,   8.,   4.,\n",
       "          3.,   5.,   5.,   6.,   4.,   4.,   4.,   6.,   7.,   7.,   7.,\n",
       "          4.,   2.,   5.,   0.,   2.,   4.,   2.,   3.,   4.,   1.,   5.,\n",
       "          1.,   1.,   3.,   1.,   2.,   2.,   1.,   3.,   4.,   2.,   3.,\n",
       "          2.]),\n",
       " array([4.981473, 4.981573, 4.981673, 4.981773, 4.981873, 4.981973,\n",
       "        4.982073, 4.982173, 4.982273, 4.982373, 4.982473, 4.982573,\n",
       "        4.982673, 4.982773, 4.982873, 4.982973, 4.983073, 4.983173,\n",
       "        4.983273, 4.983373, 4.983473, 4.983573, 4.983673, 4.983773,\n",
       "        4.983873, 4.983973, 4.984073, 4.984173, 4.984273, 4.984373,\n",
       "        4.984473, 4.984573, 4.984673, 4.984773, 4.984873, 4.984973,\n",
       "        4.985073, 4.985173, 4.985273, 4.985373, 4.985473, 4.985573,\n",
       "        4.985673, 4.985773, 4.985873, 4.985973, 4.986073, 4.986173,\n",
       "        4.986273, 4.986373, 4.986473, 4.986573, 4.986673, 4.986773,\n",
       "        4.986873, 4.986973, 4.987073]),\n",
       " <a list of 56 Patch objects>)"
      ]
     },
     "execution_count": 52,
     "metadata": {},
     "output_type": "execute_result"
    },
    {
     "data": {
      "image/png": "[encoded data removed]",
      "text/plain": [
       "<Figure size 432x288 with 1 Axes>"
      ]
     },
     "metadata": {
      "needs_background": "light"
     },
     "output_type": "display_data"
    }
   ],
   "source": [
    "plt.title(\"Frequency count bias\")\n",
    "plt.xlabel(\"proton count\")\n",
    "plt.ylabel(\"configuration count\")\n",
    "plt.hist(data['bias'], bins=np.arange(data['bias'].min(), data['bias'].max()+0.0001,0.0001))\n",
    "# syntax bins=(min,max+bin_size,bin_size)"
   ]
  }
 ],
 "metadata": {
  "kernelspec": {
   "display_name": "Python 3",
   "language": "python",
   "name": "python3"
  },
  "language_info": {
   "codemirror_mode": {
    "name": "ipython",
    "version": 3
   },
   "file_extension": ".py",
   "mimetype": "text/x-python",
   "name": "python",
   "nbconvert_exporter": "python",
   "pygments_lexer": "ipython3",
   "version": "3.6.9"
  }
 },
 "nbformat": 4,
 "nbformat_minor": 2
}
