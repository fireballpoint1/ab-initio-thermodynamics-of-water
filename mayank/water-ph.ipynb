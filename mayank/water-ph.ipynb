{
 "cells": [
  {
   "cell_type": "code",
   "execution_count": 1,
   "metadata": {},
   "outputs": [],
   "source": [
    "import numpy as np"
   ]
  },
  {
   "cell_type": "code",
   "execution_count": 2,
   "metadata": {},
   "outputs": [],
   "source": [
    "class Atom:\n",
    "    def __init__(self,x,y,z,element,charge,notused,fx,fy,fz):\n",
    "        self.x=float(x)\n",
    "        self.y=float(y)\n",
    "        self.z=float(z)\n",
    "        self.element=str(element)\n",
    "        self.charge=float(charge)\n",
    "        self.notused=int(float(notused))\n",
    "        self.fx=float(fx)\n",
    "        self.fy=float(fy)\n",
    "        self.fz=float(fz)\n",
    "    \n",
    "    @classmethod\n",
    "    def from_lammps(cls, element, x, y, z,notused):\n",
    "        obj = object.__new__(cls)\n",
    "        obj.x = float(x)\n",
    "        obj.y = float(y)\n",
    "        obj.z = float(z)\n",
    "        obj.element = str(element)\n",
    "        obj.notused = notused\n",
    "        return obj\n",
    "    \n",
    "    def scan_vicinity(self,config,cutoff,boxl):\n",
    "        pivot=np.array([self.x,self.y,self.z])\n",
    "        config=np.array(config)\n",
    "        for ind,i in enumerate(config):\n",
    "            #print(str(ind)+\" element= \"+i.element,type(i.notused))\n",
    "            if(i.notused!=0):\n",
    "                pass\n",
    "            elif(i.element==\"O\"):\n",
    "                i_vector=np.array([i.x,i.y,i.z])\n",
    "                #print(\"O at\"+str(ind))\n",
    "                direction=pivot-i_vector\n",
    "                direction[0]=direction[0]-(boxl*np.round(direction[0]/boxl))\n",
    "                direction[1]=direction[1]-(boxl*np.round(direction[1]/boxl))\n",
    "                direction[2]=direction[2]-(boxl*np.round(direction[2]/boxl))\n",
    "                dist=np.linalg.norm(direction)\n",
    "                if(dist<cutoff):\n",
    "                    #can set notused = 1 here. Need to ponder\n",
    "                    \n",
    "                    return False\n",
    "        return True\n",
    "                "
   ]
  },
  {
   "cell_type": "code",
   "execution_count": 3,
   "metadata": {},
   "outputs": [],
   "source": [
    "def parse(f_name):\n",
    "    config=[]\n",
    "    with open(f_name,'r') as f:\n",
    "        temp=[]\n",
    "        for i in f.readlines():\n",
    "            i=str(i)\n",
    "            #print(i)\n",
    "            if(\"begin\" in i):\n",
    "                temp=[]\n",
    "            elif(\"end\" in i):\n",
    "                config.append(temp)\n",
    "                break # need to remove for a whole file\n",
    "            elif(i.startswith(\"atom\")):\n",
    "                a=i.split()\n",
    "                temp.append(Atom(a[1],a[2],a[3],a[4],a[5],a[6],a[7],a[8],a[9]))\n",
    "    #for j in config:\n",
    "    #    for i in j:\n",
    "    #        print(i.element,type(i.element))\n",
    "    return config                  "
   ]
  },
  {
   "cell_type": "code",
   "execution_count": 4,
   "metadata": {},
   "outputs": [],
   "source": [
    "def parse_lammps_output(f_name):\n",
    "    atoms=['O','H']\n",
    "    config=[]\n",
    "    with open(f_name,'r') as f:\n",
    "        temp=[]\n",
    "        for ind,i in enumerate(f.readlines()):\n",
    "            i=str(i)\n",
    "            if(\"ITEM: TIMESTEP\" in i):\n",
    "                if(ind>0):\n",
    "                    config.append(temp)\n",
    "                temp=[]\n",
    "            elif(any(i.startswith(a) for a in atoms)):\n",
    "                a=i.split()\n",
    "                #print(a)\n",
    "                temp.append(Atom.from_lammps(a[0],a[1],a[2],a[3],0))\n",
    "    return config\n"
   ]
  },
  {
   "cell_type": "code",
   "execution_count": 5,
   "metadata": {},
   "outputs": [],
   "source": [
    "def pH(proton_count,boxl,Na):\n",
    "    print(\"Proton Count = \"+str(proton_count))\n",
    "    n=proton_count/Na\n",
    "    vol=1000*(boxl**3)\n",
    "    #Molarity=n/vol\n",
    "    #print(\"molarity=\",Molarity)\n",
    "    return -1*(np.log10(n)-np.log10(vol))"
   ]
  },
  {
   "cell_type": "code",
   "execution_count": 21,
   "metadata": {},
   "outputs": [],
   "source": [
    "from sys import argv as a\n",
    "import numpy as np\n",
    "import matplotlib.pyplot as plt\n",
    "\n",
    "def main():\n",
    "    cutoff=1.15 # 2.173185 # needs to be atomic units since the coordinates are in atomic units\n",
    "    boxl_atomic=46.937#23.465110\n",
    "    Na=6.0221409e+23\n",
    "    atomic_to_angstron=0.5291772083\n",
    "    boxl_angstron=boxl_atomic*atomic_to_angstron\n",
    "    boxl_meters=boxl_angstron**-8\n",
    "    \n",
    "    \n",
    "    #config=parse(\"../training-set/input.data\")\n",
    "    config=parse_lammps_output(\"./out6.lammpstrj\")\n",
    "    #print(config[0])\n",
    "    \n",
    "    \n",
    "    config=config[:100]\n",
    "    print(\"config size\",np.shape(config))\n",
    "    protons=[]\n",
    "    \n",
    "    \n",
    "    for ind,j in enumerate(config):\n",
    "        proton_count=0\n",
    "        for ind2,i in enumerate(j):\n",
    "            if(i.element==\"H\"):\n",
    "                #print(\"H at\"+str(ind2))\n",
    "                if(i.scan_vicinity(j,cutoff,boxl_atomic)):\n",
    "                    proton_count=proton_count+1\n",
    "                    #print(\"atom number %d is a proton and the element is %s\"%(ind2 ,i.element))\n",
    "                    #print(i.x,i.y,i.z)\n",
    "        protons.append(proton_count)\n",
    "    ph=[]\n",
    "    for i,prot in enumerate(protons):\n",
    "        ph_temp=pH(prot,boxl_atomic*(10**-10),Na)\n",
    "        #print(i,\". pH = \",ph_temp)\n",
    "        ph.append(ph_temp)\n",
    "    return protons,ph\n",
    "    \n",
    "    \n",
    "    \n",
    "    #    print(\"pH of config-\"+str(ind)+\" = \"+str(pH(proton_count,boxl_meters,Na)))"
   ]
  },
  {
   "cell_type": "code",
   "execution_count": 23,
   "metadata": {},
   "outputs": [
    {
     "name": "stdout",
     "output_type": "stream",
     "text": [
      "config size (100, 192)\n",
      "Proton Count = 7\n",
      "Proton Count = 7\n",
      "Proton Count = 7\n",
      "Proton Count = 7\n",
      "Proton Count = 7\n",
      "Proton Count = 7\n",
      "Proton Count = 7\n",
      "Proton Count = 7\n",
      "Proton Count = 8\n",
      "Proton Count = 19\n",
      "Proton Count = 19\n",
      "Proton Count = 19\n",
      "Proton Count = 19\n",
      "Proton Count = 19\n",
      "Proton Count = 19\n",
      "Proton Count = 19\n",
      "Proton Count = 10\n",
      "Proton Count = 10\n",
      "Proton Count = 10\n",
      "Proton Count = 10\n",
      "Proton Count = 10\n",
      "Proton Count = 10\n",
      "Proton Count = 9\n",
      "Proton Count = 9\n",
      "Proton Count = 9\n",
      "Proton Count = 9\n",
      "Proton Count = 8\n",
      "Proton Count = 9\n",
      "Proton Count = 9\n",
      "Proton Count = 9\n",
      "Proton Count = 9\n",
      "Proton Count = 9\n",
      "Proton Count = 9\n",
      "Proton Count = 7\n",
      "Proton Count = 7\n",
      "Proton Count = 7\n",
      "Proton Count = 7\n",
      "Proton Count = 7\n",
      "Proton Count = 7\n",
      "Proton Count = 7\n",
      "Proton Count = 9\n",
      "Proton Count = 9\n",
      "Proton Count = 9\n",
      "Proton Count = 9\n",
      "Proton Count = 9\n",
      "Proton Count = 8\n",
      "Proton Count = 8\n",
      "Proton Count = 8\n",
      "Proton Count = 8\n",
      "Proton Count = 8\n",
      "Proton Count = 8\n",
      "Proton Count = 8\n",
      "Proton Count = 8\n",
      "Proton Count = 8\n",
      "Proton Count = 8\n",
      "Proton Count = 8\n",
      "Proton Count = 8\n",
      "Proton Count = 8\n",
      "Proton Count = 8\n",
      "Proton Count = 8\n",
      "Proton Count = 7\n",
      "Proton Count = 7\n",
      "Proton Count = 7\n",
      "Proton Count = 7\n",
      "Proton Count = 7\n",
      "Proton Count = 7\n",
      "Proton Count = 10\n",
      "Proton Count = 10\n",
      "Proton Count = 10\n",
      "Proton Count = 10\n",
      "Proton Count = 9\n",
      "Proton Count = 10\n",
      "Proton Count = 12\n",
      "Proton Count = 12\n",
      "Proton Count = 12\n",
      "Proton Count = 12\n",
      "Proton Count = 12\n",
      "Proton Count = 7\n",
      "Proton Count = 7\n",
      "Proton Count = 6\n",
      "Proton Count = 6\n",
      "Proton Count = 7\n",
      "Proton Count = 7\n",
      "Proton Count = 7\n",
      "Proton Count = 10\n",
      "Proton Count = 10\n",
      "Proton Count = 9\n",
      "Proton Count = 9\n",
      "Proton Count = 10\n",
      "Proton Count = 10\n",
      "Proton Count = 7\n",
      "Proton Count = 7\n",
      "Proton Count = 7\n",
      "Proton Count = 7\n",
      "Proton Count = 9\n",
      "Proton Count = 9\n",
      "Proton Count = 9\n",
      "Proton Count = 9\n",
      "Proton Count = 9\n",
      "Proton Count = 9\n",
      "protons by config=  [ 7  7  7  7  7  7  7  7  8 19 19 19 19 19 19 19 10 10 10 10 10 10  9  9\n",
      "  9  9  8  9  9  9  9  9  9  7  7  7  7  7  7  7  9  9  9  9  9  8  8  8\n",
      "  8  8  8  8  8  8  8  8  8  8  8  8  7  7  7  7  7  7 10 10 10 10  9 10\n",
      " 12 12 12 12 12  7  7  6  6  7  7  7 10 10  9  9 10 10  7  7  7  7  9  9\n",
      "  9  9  9  9]\n",
      "pH by config=  [0.94919886 0.94919886 0.94919886 0.94919886 0.94919886 0.94919886\n",
      " 0.94919886 0.94919886 0.89120691 0.5155433  0.5155433  0.5155433\n",
      " 0.5155433  0.5155433  0.5155433  0.5155433  0.7942969  0.7942969\n",
      " 0.7942969  0.7942969  0.7942969  0.7942969  0.84005439 0.84005439\n",
      " 0.84005439 0.84005439 0.89120691 0.84005439 0.84005439 0.84005439\n",
      " 0.84005439 0.84005439 0.84005439 0.94919886 0.94919886 0.94919886\n",
      " 0.94919886 0.94919886 0.94919886 0.94919886 0.84005439 0.84005439\n",
      " 0.84005439 0.84005439 0.84005439 0.89120691 0.89120691 0.89120691\n",
      " 0.89120691 0.89120691 0.89120691 0.89120691 0.89120691 0.89120691\n",
      " 0.89120691 0.89120691 0.89120691 0.89120691 0.89120691 0.89120691\n",
      " 0.94919886 0.94919886 0.94919886 0.94919886 0.94919886 0.94919886\n",
      " 0.7942969  0.7942969  0.7942969  0.7942969  0.84005439 0.7942969\n",
      " 0.71511565 0.71511565 0.71511565 0.71511565 0.71511565 0.94919886\n",
      " 0.94919886 1.01614565 1.01614565 0.94919886 0.94919886 0.94919886\n",
      " 0.7942969  0.7942969  0.84005439 0.84005439 0.7942969  0.7942969\n",
      " 0.94919886 0.94919886 0.94919886 0.94919886 0.84005439 0.84005439\n",
      " 0.84005439 0.84005439 0.84005439 0.84005439]\n"
     ]
    }
   ],
   "source": [
    "if __name__ == \"__main__\":\n",
    "    protons,ph=main()\n",
    "    protons=np.array(protons)\n",
    "    ph=np.array(ph)\n",
    "    print(\"protons by config= \",protons)\n",
    "    print(\"pH by config= \",ph)\n",
    " "
   ]
  },
  {
   "cell_type": "code",
   "execution_count": 24,
   "metadata": {},
   "outputs": [
    {
     "data": {
      "image/png": "[encoded data removed]",
      "text/plain": [
       "<Figure size 432x288 with 1 Axes>"
      ]
     },
     "metadata": {
      "needs_background": "light"
     },
     "output_type": "display_data"
    }
   ],
   "source": [
    "plt.title(\"number of protons in configurations\")\n",
    "plt.xlabel('Config Index')\n",
    "plt.ylabel('Number of protons')\n",
    "plt.plot(np.arange(len(protons)),protons)\n",
    "plt.show()"
   ]
  },
  {
   "cell_type": "code",
   "execution_count": 25,
   "metadata": {},
   "outputs": [
    {
     "data": {
      "text/plain": [
       "(array([ 2., 30., 17., 24., 15.,  0.,  5.,  0.,  0.,  0.,  0.,  0.,  7.]),\n",
       " array([ 6,  7,  8,  9, 10, 11, 12, 13, 14, 15, 16, 17, 18, 19]),\n",
       " <a list of 13 Patch objects>)"
      ]
     },
     "execution_count": 25,
     "metadata": {},
     "output_type": "execute_result"
    },
    {
     "data": {
      "image/png": "[encoded data removed]",
      "text/plain": [
       "<Figure size 432x288 with 1 Axes>"
      ]
     },
     "metadata": {
      "needs_background": "light"
     },
     "output_type": "display_data"
    }
   ],
   "source": [
    "plt.title(\"Frequency count of protons in a config\")\n",
    "plt.xlabel(\"proton count\")\n",
    "plt.ylabel(\"configuration count\")\n",
    "plt.hist(protons, bins=np.arange(protons.min(), protons.max()+1))\n"
   ]
  },
  {
   "cell_type": "code",
   "execution_count": 26,
   "metadata": {},
   "outputs": [
    {
     "data": {
      "image/png": "[encoded data removed]",
      "text/plain": [
       "<Figure size 432x288 with 1 Axes>"
      ]
     },
     "metadata": {
      "needs_background": "light"
     },
     "output_type": "display_data"
    }
   ],
   "source": [
    "plt.title(\"pH by configurations\")\n",
    "plt.xlabel('Config Index')\n",
    "plt.ylabel('pH')\n",
    "plt.plot(np.arange(len(ph)),ph)\n",
    "plt.show()"
   ]
  },
  {
   "cell_type": "code",
   "execution_count": null,
   "metadata": {},
   "outputs": [],
   "source": [
    "disassociation const "
   ]
  }
 ],
 "metadata": {
  "kernelspec": {
   "display_name": "Python 3",
   "language": "python",
   "name": "python3"
  },
  "language_info": {
   "codemirror_mode": {
    "name": "ipython",
    "version": 3
   },
   "file_extension": ".py",
   "mimetype": "text/x-python",
   "name": "python",
   "nbconvert_exporter": "python",
   "pygments_lexer": "ipython3",
   "version": "3.6.9"
  }
 },
 "nbformat": 4,
 "nbformat_minor": 2
}
