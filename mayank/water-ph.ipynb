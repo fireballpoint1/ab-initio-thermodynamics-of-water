{
 "cells": [
  {
   "cell_type": "code",
   "execution_count": 1,
   "metadata": {},
   "outputs": [],
   "source": [
    "import numpy as np"
   ]
  },
  {
   "cell_type": "code",
   "execution_count": 2,
   "metadata": {},
   "outputs": [],
   "source": [
    "class Atom:\n",
    "    def __init__(self,x,y,z,element,charge,notused,fx,fy,fz):\n",
    "        self.x=float(x)\n",
    "        self.y=float(y)\n",
    "        self.z=float(z)\n",
    "        self.element=str(element)\n",
    "        self.charge=float(charge)\n",
    "        self.notused=int(float(notused))\n",
    "        self.fx=float(fx)\n",
    "        self.fy=float(fy)\n",
    "        self.fz=float(fz)\n",
    "    \n",
    "    def scan_vicinity(self,config,cutoff,boxl):\n",
    "        pivot=np.array([self.x,self.y,self.z])\n",
    "        config=np.array(config)\n",
    "        for ind,i in enumerate(config):\n",
    "            #print(str(ind)+\" element= \"+i.element,type(i.notused))\n",
    "            if(i.notused!=0):\n",
    "                pass\n",
    "            elif(i.element==\"O\"):\n",
    "                i_vector=np.array([i.x,i.y,i.z])\n",
    "                #print(\"O at\"+str(ind))\n",
    "                direction=pivot-i_vector\n",
    "                direction[0]=direction[0]-(boxl*np.round(direction[0]/boxl))\n",
    "                direction[1]=direction[1]-(boxl*np.round(direction[1]/boxl))\n",
    "                direction[2]=direction[2]-(boxl*np.round(direction[2]/boxl))\n",
    "                dist=np.linalg.norm(direction)\n",
    "                if(dist<cutoff):\n",
    "                    #can set notused = 1 here. Need to ponder\n",
    "                    \n",
    "                    return False\n",
    "        return True\n",
    "                "
   ]
  },
  {
   "cell_type": "code",
   "execution_count": 15,
   "metadata": {},
   "outputs": [],
   "source": [
    "def parse(f_name):\n",
    "    config=[]\n",
    "    with open(f_name,'r') as f:\n",
    "        temp=[]\n",
    "        for i in f.readlines():\n",
    "            i=str(i)\n",
    "            #print(i)\n",
    "            if(\"begin\" in i):\n",
    "                temp=[]\n",
    "            elif(\"end\" in i):\n",
    "                config.append(temp)\n",
    "                break # need to remove for a whole file\n",
    "            elif(i.startswith(\"atom\")):\n",
    "                a=i.split()\n",
    "                temp.append(Atom(a[1],a[2],a[3],a[4],a[5],a[6],a[7],a[8],a[9]))\n",
    "    #for j in config:\n",
    "    #    for i in j:\n",
    "    #        print(i.element,type(i.element))\n",
    "    return config                  "
   ]
  },
  {
   "cell_type": "code",
   "execution_count": 4,
   "metadata": {},
   "outputs": [],
   "source": [
    "def pH(proton_count,boxl,Na):\n",
    "    print(\"Proton Count = \"+str(proton_count))\n",
    "    n=proton_count/Na\n",
    "    vol=boxl**3\n",
    "    Molarity=n/vol\n",
    "    print(Molarity)\n",
    "    return -1*(np.log10(Molarity))"
   ]
  },
  {
   "cell_type": "code",
   "execution_count": 34,
   "metadata": {},
   "outputs": [],
   "source": [
    "def main():\n",
    "    cutoff=2.173185 # needs to be atomic units since the coordinates are in atomic units\n",
    "    boxl_atomic=23.465110\n",
    "    Na=6.0221409e+23\n",
    "    atomic_to_angstron=0.5291772083\n",
    "    boxl_angstron=boxl_atomic*atomic_to_angstron\n",
    "    boxl_meters=boxl_angstron**-8\n",
    "    config=parse(\"../training-set/input.data\")\n",
    "    print(\"config size\",np.shape(config))\n",
    "    for ind,j in enumerate(config):\n",
    "        proton_count=0\n",
    "        for ind2,i in enumerate(j):\n",
    "            if(i.element==\"H\"):\n",
    "                #print(\"H at\"+str(ind2))\n",
    "                if(i.scan_vicinity(j,cutoff,boxl_angstron)):\n",
    "                    proton_count=proton_count+1\n",
    "                    print(\"atom number %d is a proton and the element is %s\"%(ind2 ,i.element))\n",
    "                    print(i.x,i.y,i.z)\n",
    "        print(\"pH of config-\"+str(ind)+\" = \"+str(pH(proton_count,boxl_meters,Na)))"
   ]
  },
  {
   "cell_type": "code",
   "execution_count": 35,
   "metadata": {},
   "outputs": [
    {
     "name": "stdout",
     "output_type": "stream",
     "text": [
      "config size (1, 192)\n",
      "atom number 50 is a proton and the element is H\n",
      "20.5757 16.2917 16.9078\n",
      "atom number 190 is a proton and the element is H\n",
      "10.61 17.8367 7.87629\n",
      "Proton Count = 2\n",
      "599.5818662961775\n",
      "pH of config-0 = -2.7778484896088695\n"
     ]
    }
   ],
   "source": [
    "if __name__ == \"__main__\":\n",
    "    main()"
   ]
  },
  {
   "cell_type": "code",
   "execution_count": null,
   "metadata": {},
   "outputs": [],
   "source": []
  }
 ],
 "metadata": {
  "kernelspec": {
   "display_name": "Python 3",
   "language": "python",
   "name": "python3"
  },
  "language_info": {
   "codemirror_mode": {
    "name": "ipython",
    "version": 3
   },
   "file_extension": ".py",
   "mimetype": "text/x-python",
   "name": "python",
   "nbconvert_exporter": "python",
   "pygments_lexer": "ipython3",
   "version": "3.5.2"
  }
 },
 "nbformat": 4,
 "nbformat_minor": 2
}
