{
 "cells": [
  {
   "cell_type": "code",
   "execution_count": 1,
   "metadata": {},
   "outputs": [],
   "source": [
    "import numpy as np\n",
    "import time\n",
    "import math"
   ]
  },
  {
   "cell_type": "code",
   "execution_count": 2,
   "metadata": {},
   "outputs": [],
   "source": [
    "class Config: \n",
    "    def __init__(self,atoms,pH,pOH,proton_count,conjugate_base_count,timestep,totalEnergy,pressure,temperature):\n",
    "        self.atoms=atoms\n",
    "        self.pH=pH\n",
    "        self.pOH=pOH\n",
    "        self.proton_count=proton_count\n",
    "        self.conjugate_base_count=conjugate_base_count\n",
    "        self.timestep=timestep\n",
    "        self.totalEnergy=totalEnergy\n",
    "        self.pressure=pressure\n",
    "        self.temperature=temperature"
   ]
  },
  {
   "cell_type": "code",
   "execution_count": 41,
   "metadata": {},
   "outputs": [],
   "source": [
    "class Atom:\n",
    "    def __init__(self,x,y,z,element,charge,notused,fx,fy,fz,hydrogens,oxygen):\n",
    "        self.x=float(x)\n",
    "        self.y=float(y)\n",
    "        self.z=float(z)\n",
    "        self.element=str(element)\n",
    "        self.charge=float(charge)\n",
    "        self.notused=int(float(notused))\n",
    "        self.fx=float(fx)\n",
    "        self.fy=float(fy)\n",
    "        self.fz=float(fz)\n",
    "        self.hydrogens=hydrogens\n",
    "        self.oxygen=oxygen\n",
    "    \n",
    "    @classmethod\n",
    "    def from_lammps(cls, element, x, y, z,notused):\n",
    "        obj = object.__new__(cls)\n",
    "        obj.x = float(x)\n",
    "        obj.y = float(y)\n",
    "        obj.z = float(z)\n",
    "        obj.element = str(element)\n",
    "        obj.notused = notused\n",
    "        obj.hydrogens=[]\n",
    "        obj.oxygen=None\n",
    "        return obj\n",
    "\n",
    "    \n",
    "    def scan_vicinity(self,config,cutoff,boxl):\n",
    "        pivot=np.array([self.x,self.y,self.z])\n",
    "        config=np.array(config)\n",
    "        for ind,i in enumerate(config):\n",
    "            #print(str(ind)+\" element= \"+i.element,type(i.notused))\n",
    "            if(i.element==\"O\"):\n",
    "                i_vector=np.array([i.x,i.y,i.z])\n",
    "                #print(\"O at\"+str(ind))\n",
    "                direction=pivot-i_vector\n",
    "                direction[0]=direction[0]-(boxl*np.round(direction[0]/boxl))\n",
    "                direction[1]=direction[1]-(boxl*np.round(direction[1]/boxl))\n",
    "                direction[2]=direction[2]-(boxl*np.round(direction[2]/boxl))\n",
    "                dist=np.linalg.norm(direction)\n",
    "                if(dist<cutoff):\n",
    "                    #can set notused = 1 here. Need to ponder\n",
    "                    \n",
    "                    return False\n",
    "        return True\n",
    "    \n",
    "    def calc_dist(self,pivot,i_vector,boxl):\n",
    "        direction=pivot-i_vector\n",
    "        direction[0]=direction[0]-(boxl*np.round(direction[0]/boxl))\n",
    "        direction[1]=direction[1]-(boxl*np.round(direction[1]/boxl))\n",
    "        direction[2]=direction[2]-(boxl*np.round(direction[2]/boxl))\n",
    "        dist=np.linalg.norm(direction)\n",
    "        return dist\n",
    "    \n",
    "    #     def calc_dist(self,i_vector,boxl):\n",
    "    #         direction=np.array([self.x,self.y,self.z])-i_vector\n",
    "    #         direction[0]=direction[0]-(boxl*np.round(direction[0]/boxl))\n",
    "    #         direction[1]=direction[1]-(boxl*np.round(direction[1]/boxl))\n",
    "    #         direction[2]=direction[2]-(boxl*np.round(direction[2]/boxl))\n",
    "    #         dist=np.linalg.norm(direction)\n",
    "    #         return dist\n",
    "    \n",
    "    def scan_H_OH(self,config,cutoff,boxl):\n",
    "        pivot=np.array([self.x,self.y,self.z]) \n",
    "        config=np.array(config)\n",
    "        for ind,i in enumerate(config):\n",
    "            \n",
    "            #print(\"==========================\")\n",
    "            #print(i.element,i.oxygen,i.hydrogens)\n",
    "            if(i.element==\"H\"):\n",
    "                i_vector=np.array([i.x,i.y,i.z])\n",
    "                dist=self.calc_dist(pivot,i_vector,boxl)\n",
    "                if(dist<cutoff):\n",
    "                    if(len(self.hydrogens)<2 and (not (i,dist) in self.hydrogens)):\n",
    "                        self.hydrogens.append((i,dist))\n",
    "                        #print(\"before sorting: \",i.hydrogens)\n",
    "                        self.hydrogens.sort(key=lambda tup: tup[1])\n",
    "                        #print(\"after sorting: \",i.hydrogens)\n",
    "                        i.oxygen=self\n",
    "                        #print(i.element,i.oxygen,i.hydrogens)\n",
    "                        #time.sleep(2)\n",
    "                    elif(dist<self.hydrogens[-1][1] and (not (i,dist) in self.hydrogens)):\n",
    "                        print(\"dist = %s and farthest hydrogen %s\" %(dist, self.hydrogens[-1][1]))\n",
    "                        self.hydrogens[-1][0].oxygen=None\n",
    "                        self.hydrogens.pop()\n",
    "                        self.hydrogens.append((i,dist))\n",
    "                        #print(\"before sorting: \",i.hydrogens)\n",
    "                        self.hydrogens.sort(key=lambda tup: tup[1])\n",
    "                        #print(\"after sorting: \",i.hydrogens)\n",
    "                        i.oxygen=self\n",
    "                        #print(i.element,i.oxygen,i.hydrogens)\n",
    "                        #time.sleep(2)\n",
    "                    else:\n",
    "                        #print(\"RAN INTO ERROR:\",i,i.hydrogens)\n",
    "                        pass\n",
    "            \n",
    "                        \n",
    "                        \n",
    "        \n",
    "                "
   ]
  },
  {
   "cell_type": "code",
   "execution_count": 42,
   "metadata": {},
   "outputs": [],
   "source": [
    "def parse(f_name):\n",
    "    config=[]\n",
    "    with open(f_name,'r') as f:\n",
    "        temp=[]\n",
    "        for i in f.readlines():\n",
    "            i=str(i)\n",
    "            #print(i)\n",
    "            if(\"begin\" in i):\n",
    "                temp=[]\n",
    "            elif(\"end\" in i):\n",
    "                config.append(Config(temp,None,None,None,None))\n",
    "                break # need to remove for a whole file\n",
    "            elif(i.startswith(\"atom\")):\n",
    "                a=i.split()\n",
    "                temp.append(Atom(a[1],a[2],a[3],a[4],a[5],a[6],a[7],a[8],a[9]))\n",
    "    return config                  "
   ]
  },
  {
   "cell_type": "code",
   "execution_count": 43,
   "metadata": {},
   "outputs": [],
   "source": [
    "def parse_lammps_output(f_name):\n",
    "    atoms=['O','H']\n",
    "    config=[]\n",
    "    with open(f_name,'r') as f:\n",
    "        temp=[]\n",
    "        for ind,i in enumerate(f.readlines()):\n",
    "            i=str(i)\n",
    "            if(\"ITEM: TIMESTEP\" in i):\n",
    "                if(ind>0):\n",
    "                    config.append(Config(temp,None,None,None,None))\n",
    "                temp=[]\n",
    "            elif(any(i.startswith(a) for a in atoms)):\n",
    "                a=i.split()\n",
    "                #print(a)\n",
    "                temp.append(Atom.from_lammps(a[0],a[1],a[2],a[3],0))\n",
    "    return config\n"
   ]
  },
  {
   "cell_type": "code",
   "execution_count": 44,
   "metadata": {},
   "outputs": [],
   "source": [
    "def check_if_number(s):\n",
    "    try:\n",
    "        if(float(s).is_integer()):\n",
    "            return True\n",
    "        else:\n",
    "            False\n",
    "    except:\n",
    "        return False"
   ]
  },
  {
   "cell_type": "code",
   "execution_count": 45,
   "metadata": {},
   "outputs": [],
   "source": [
    "def parse_xyz_output(f_name,auto_timestep):\n",
    "    if(auto_timestep):\n",
    "        print(\"Using auto timestep assignment in order\")\n",
    "    atoms=['H','O']\n",
    "    config=[]\n",
    "    element='X'\n",
    "    timestep=-1\n",
    "    flag=False\n",
    "    with open(f_name,'r') as f:\n",
    "        temp=[]\n",
    "        for ind,i in enumerate(f.readlines()):\n",
    "            i=str(i)\n",
    "            if(\"Atoms. Timestep:\" in i ) or (\"Lattice\" in i):\n",
    "                if(flag):\n",
    "                    config.append(Config(temp,None,None,None,None,timestep,None,None,None))\n",
    "                    a=i.split(\":\")\n",
    "                    if(not auto_timestep):\n",
    "                        timestep=a[-1].strip()\n",
    "                    else:\n",
    "                        timestep+=1\n",
    "                else:\n",
    "                    if(not auto_timestep):\n",
    "                        a=i.split(\":\")\n",
    "                        timestep=a[-1].strip()\n",
    "                    else:\n",
    "                        timestep+=1\n",
    "                        \n",
    "                temp=[]\n",
    "            elif((any(i.startswith(atom) for atom in atoms)) and (not check_if_number(i))):\n",
    "                flag=True\n",
    "                a=i.split()\n",
    "                # Since elements are not marked with number here, need to assign element manually, hence passing the element\n",
    "                if(a[0]==atoms[0]):\n",
    "                    element=\"H\"\n",
    "                elif(a[0]==atoms[1]):\n",
    "                    element=\"O\"\n",
    "                temp.append(Atom.from_lammps(element,a[1],a[2],a[3],0))\n",
    "        config.append(Config(temp,None,None,None,None,timestep,None,None,None))\n",
    "    return config"
   ]
  },
  {
   "cell_type": "code",
   "execution_count": 46,
   "metadata": {},
   "outputs": [],
   "source": [
    "def parse_biased_xyz(f_name):\n",
    "    atoms=['O','H']\n",
    "    config=[]\n",
    "    element='X'\n",
    "    timestep=-1\n",
    "    flag=False\n",
    "    with open(f_name,'r') as f:\n",
    "        temp=[]\n",
    "        for ind,i in enumerate(f.readlines()):\n",
    "            i=str(i)\n",
    "            if(\"Atoms. Timestep:\" in i ):\n",
    "                \n",
    "                if(flag):\n",
    "                    config.append(Config(temp,None,None,None,None,timestep,None,None,None))\n",
    "                    a=i.split(\":\")\n",
    "                    timestep=a[-1].strip()\n",
    "                else:\n",
    "                    a=i.split(\":\")\n",
    "                    timestep=a[-1].strip()\n",
    "                temp=[]\n",
    "            elif((any(i.startswith(atom) for atom in atoms)) and (not check_if_number(i))):\n",
    "                flag=True\n",
    "                a=i.split()\n",
    "                # Since elements are not marked with number here, need to assign element manually, hence passing the element\n",
    "                if(a[0]==atoms[0]):\n",
    "                    element=\"H\"\n",
    "                elif(a[0]==atoms[1]):\n",
    "                    element=\"O\"\n",
    "                temp.append(Atom.from_lammps(element,a[1],a[2],a[3],0))\n",
    "        config.append(Config(temp,None,None,None,None,timestep,None,None,None))\n",
    "    return config"
   ]
  },
  {
   "cell_type": "code",
   "execution_count": 47,
   "metadata": {},
   "outputs": [],
   "source": [
    "def pH(proton_count,boxl,Na):\n",
    "    print(\"Proton Count = \"+str(proton_count))\n",
    "    n=proton_count/Na\n",
    "    vol=1000*(boxl**3)\n",
    "    #Molarity=n/vol\n",
    "    #print(\"molarity=\",Molarity)\n",
    "    return -1*(np.log10(n)-np.log10(vol))"
   ]
  },
  {
   "cell_type": "code",
   "execution_count": 48,
   "metadata": {},
   "outputs": [],
   "source": [
    "from sys import argv as a\n",
    "import numpy as np\n",
    "import matplotlib.pyplot as plt\n",
    "import json"
   ]
  },
  {
   "cell_type": "markdown",
   "metadata": {},
   "source": [
    "# Parse File"
   ]
  },
  {
   "cell_type": "code",
   "execution_count": 49,
   "metadata": {},
   "outputs": [
    {
     "name": "stdout",
     "output_type": "stream",
     "text": [
      "Using auto timestep assignment in order\n"
     ]
    }
   ],
   "source": [
    "#config=parse(\"../training-set/input.data\")\n",
    "configs=parse_xyz_output(\"./trajectory_wrapped.xyz\",True)\n",
    "# configs=parse_biased_xyz(\"./out_biased6.xyz\")\n",
    "#config=parse_lammps_output(\"./out6.lammpstrj\")\n"
   ]
  },
  {
   "cell_type": "code",
   "execution_count": 113,
   "metadata": {},
   "outputs": [
    {
     "name": "stdout",
     "output_type": "stream",
     "text": [
      "config size (16,)\n",
      "<__main__.Config object at 0x7f3525e454a8>\n"
     ]
    }
   ],
   "source": [
    "config=configs[::100]\n",
    "print(\"config size\",np.shape(config))\n",
    "print(config[0])\n",
    "protons=[]"
   ]
  },
  {
   "cell_type": "markdown",
   "metadata": {},
   "source": [
    "# Set Constants"
   ]
  },
  {
   "cell_type": "code",
   "execution_count": 114,
   "metadata": {},
   "outputs": [],
   "source": [
    "cutoff=2.17#1.15#11.3383# 2.173185 # needs to be atomic units since the coordinates are in atomic units\n",
    "boxl_atomic=23.46511#46.937#23.465110\n",
    "Na=6.0221409e+23\n",
    "atomic_to_angstron=0.5291772083\n",
    "boxl_angstron=boxl_atomic*atomic_to_angstron\n",
    "boxl_meters=boxl_angstron**-8"
   ]
  },
  {
   "cell_type": "markdown",
   "metadata": {},
   "source": [
    "# Proton Count"
   ]
  },
  {
   "cell_type": "code",
   "execution_count": 115,
   "metadata": {
    "scrolled": true
   },
   "outputs": [
    {
     "name": "stdout",
     "output_type": "stream",
     "text": [
      "0\n",
      "100\n",
      "dist = 1.882269313886829 and farthest hydrogen 1.980724965662825\n",
      "200\n",
      "dist = 1.232617288739696 and farthest hydrogen 1.9710979685606695\n",
      "300\n",
      "dist = 1.6039542342598179 and farthest hydrogen 2.072150606399063\n",
      "dist = 1.7021898017027948 and farthest hydrogen 1.9470019826389504\n",
      "400\n",
      "dist = 1.643250517754368 and farthest hydrogen 1.9064018795888762\n",
      "dist = 1.6899269371780559 and farthest hydrogen 1.829410303895766\n",
      "500\n",
      "600\n",
      "700\n",
      "dist = 2.0479610299270816 and farthest hydrogen 2.161384498278822\n",
      "dist = 1.9602108515249068 and farthest hydrogen 2.09092518271219\n",
      "800\n",
      "dist = 1.7245035280914904 and farthest hydrogen 1.9251846852964507\n",
      "dist = 1.7845141848973902 and farthest hydrogen 2.1339567311686514\n",
      "dist = 1.6895756922967367 and farthest hydrogen 2.067957253523388\n",
      "900\n",
      "1000\n",
      "dist = 1.5069703510686607 and farthest hydrogen 1.9449529016405513\n",
      "dist = 1.2632995067283137 and farthest hydrogen 1.7606539120735798\n",
      "dist = 1.5047516115625192 and farthest hydrogen 1.8523579000830266\n",
      "dist = 0.8768841773575357 and farthest hydrogen 1.830021971179582\n",
      "dist = 1.8182575353893087 and farthest hydrogen 1.9331631783168224\n",
      "dist = 1.568610559125497 and farthest hydrogen 1.8182575353893087\n",
      "dist = 1.5275269689926918 and farthest hydrogen 1.8535339164148041\n",
      "dist = 1.7714167989493632 and farthest hydrogen 2.0318665959161777\n",
      "dist = 1.7560240556723592 and farthest hydrogen 1.946555320200276\n",
      "dist = 1.711625506353537 and farthest hydrogen 2.0618162545678014\n",
      "dist = 1.6792952437257747 and farthest hydrogen 1.917708644003046\n",
      "dist = 1.5262033413015448 and farthest hydrogen 1.7759001442085638\n",
      "dist = 2.0585840367896098 and farthest hydrogen 2.1329718985959483\n",
      "dist = 1.4630840975145623 and farthest hydrogen 1.796070605961803\n",
      "dist = 1.6820074066721593 and farthest hydrogen 2.138422342288818\n",
      "dist = 1.790949348809174 and farthest hydrogen 2.133346971310576\n",
      "dist = 1.8644908958278643 and farthest hydrogen 2.0666296677682703\n",
      "dist = 1.955190723203236 and farthest hydrogen 2.0283703002718707\n",
      "dist = 1.942330768973195 and farthest hydrogen 2.137182393807325\n",
      "dist = 1.7938384180298972 and farthest hydrogen 2.009431785256716\n",
      "dist = 1.8274649873526974 and farthest hydrogen 2.0068278908765453\n",
      "dist = 1.7923728713635476 and farthest hydrogen 1.8274649873526974\n",
      "1100\n",
      "1200\n",
      "dist = 1.7859473787320823 and farthest hydrogen 2.1662117930848743\n",
      "dist = 1.784744456464566 and farthest hydrogen 1.79192087328096\n",
      "1300\n",
      "1400\n",
      "1500\n",
      "dist = 1.742044432298156 and farthest hydrogen 1.99174146975354\n"
     ]
    }
   ],
   "source": [
    "for ind,j in enumerate(config):\n",
    "    #print(\"number of atoms = \",len(j))\n",
    "    print(j.timestep)\n",
    "    proton_count=0\n",
    "    oh_count=0\n",
    "    h2o_count=0\n",
    "    for ind2,i in enumerate(j.atoms):\n",
    "        #print(i.__dict__)\n",
    "        if(i.element==\"O\"):\n",
    "            #print(\"H at\"+str(ind2))\n",
    "            #print(config)\n",
    "            i.scan_H_OH(j.atoms,cutoff,boxl_atomic)\n",
    "    for ind2,i in enumerate(j.atoms):\n",
    "        if(i.element==\"H\"): \n",
    "            if(i.oxygen==None):\n",
    "                proton_count+=1\n",
    "        elif(i.element==\"O\" and len(i.hydrogens)==1):\n",
    "            oh_count+=1\n",
    "        elif(i.element==\"O\" and len(i.hydrogens)==2):\n",
    "            h2o_count+=1\n",
    "        #else:\n",
    "        #    print(\"something happened here\",i,json.dumps(i.__dict__))\n",
    "    j.proton_count=proton_count\n",
    "    j.conjugate_base_count=oh_count\n",
    "    total=proton_count+2*oh_count+3*h2o_count\n",
    "    protons.append((proton_count,oh_count,h2o_count,total))\n",
    "    #print(protons[-1])"
   ]
  },
  {
   "cell_type": "code",
   "execution_count": 171,
   "metadata": {},
   "outputs": [
    {
     "name": "stdout",
     "output_type": "stream",
     "text": [
      "22 3 (22, 3, 60, 208)\n",
      "H oxygen= 0 hydrogens= 0\n",
      "H oxygen= 0 hydrogens= 0\n",
      "H oxygen= 1 hydrogens= 0\n",
      "H oxygen= 1 hydrogens= 0\n",
      "H oxygen= 1 hydrogens= 0\n",
      "H oxygen= 1 hydrogens= 0\n",
      "H oxygen= 0 hydrogens= 0\n",
      "H oxygen= 1 hydrogens= 0\n",
      "H oxygen= 1 hydrogens= 0\n",
      "H oxygen= 1 hydrogens= 0\n",
      "H oxygen= 1 hydrogens= 0\n",
      "H oxygen= 1 hydrogens= 0\n",
      "H oxygen= 1 hydrogens= 0\n",
      "H oxygen= 1 hydrogens= 0\n",
      "H oxygen= 1 hydrogens= 0\n",
      "H oxygen= 1 hydrogens= 0\n",
      "H oxygen= 1 hydrogens= 0\n",
      "H oxygen= 1 hydrogens= 0\n",
      "H oxygen= 1 hydrogens= 0\n",
      "H oxygen= 1 hydrogens= 0\n",
      "H oxygen= 1 hydrogens= 0\n",
      "H oxygen= 1 hydrogens= 0\n",
      "H oxygen= 0 hydrogens= 0\n",
      "H oxygen= 1 hydrogens= 0\n",
      "H oxygen= 1 hydrogens= 0\n",
      "H oxygen= 0 hydrogens= 0\n",
      "H oxygen= 0 hydrogens= 0\n",
      "H oxygen= 0 hydrogens= 0\n",
      "H oxygen= 1 hydrogens= 0\n",
      "H oxygen= 1 hydrogens= 0\n",
      "H oxygen= 1 hydrogens= 0\n",
      "H oxygen= 0 hydrogens= 0\n",
      "H oxygen= 1 hydrogens= 0\n",
      "H oxygen= 1 hydrogens= 0\n",
      "H oxygen= 1 hydrogens= 0\n",
      "H oxygen= 1 hydrogens= 0\n",
      "H oxygen= 1 hydrogens= 0\n",
      "H oxygen= 1 hydrogens= 0\n",
      "H oxygen= 1 hydrogens= 0\n",
      "H oxygen= 1 hydrogens= 0\n",
      "H oxygen= 1 hydrogens= 0\n",
      "H oxygen= 1 hydrogens= 0\n",
      "H oxygen= 1 hydrogens= 0\n",
      "H oxygen= 1 hydrogens= 0\n",
      "H oxygen= 1 hydrogens= 0\n",
      "H oxygen= 1 hydrogens= 0\n",
      "H oxygen= 1 hydrogens= 0\n",
      "H oxygen= 1 hydrogens= 0\n",
      "H oxygen= 1 hydrogens= 0\n",
      "H oxygen= 1 hydrogens= 0\n",
      "H oxygen= 1 hydrogens= 0\n",
      "H oxygen= 1 hydrogens= 0\n",
      "H oxygen= 1 hydrogens= 0\n",
      "H oxygen= 1 hydrogens= 0\n",
      "H oxygen= 1 hydrogens= 0\n",
      "H oxygen= 0 hydrogens= 0\n",
      "H oxygen= 1 hydrogens= 0\n",
      "H oxygen= 1 hydrogens= 0\n",
      "H oxygen= 0 hydrogens= 0\n",
      "H oxygen= 0 hydrogens= 0\n",
      "H oxygen= 1 hydrogens= 0\n",
      "H oxygen= 1 hydrogens= 0\n",
      "H oxygen= 1 hydrogens= 0\n",
      "H oxygen= 1 hydrogens= 0\n",
      "H oxygen= 1 hydrogens= 0\n",
      "H oxygen= 0 hydrogens= 0\n",
      "H oxygen= 1 hydrogens= 0\n",
      "H oxygen= 1 hydrogens= 0\n",
      "H oxygen= 1 hydrogens= 0\n",
      "H oxygen= 1 hydrogens= 0\n",
      "H oxygen= 1 hydrogens= 0\n",
      "H oxygen= 1 hydrogens= 0\n",
      "H oxygen= 1 hydrogens= 0\n",
      "H oxygen= 1 hydrogens= 0\n",
      "H oxygen= 0 hydrogens= 0\n",
      "H oxygen= 1 hydrogens= 0\n",
      "H oxygen= 0 hydrogens= 0\n",
      "H oxygen= 1 hydrogens= 0\n",
      "H oxygen= 1 hydrogens= 0\n",
      "H oxygen= 1 hydrogens= 0\n",
      "H oxygen= 1 hydrogens= 0\n",
      "H oxygen= 0 hydrogens= 0\n",
      "H oxygen= 1 hydrogens= 0\n",
      "H oxygen= 0 hydrogens= 0\n",
      "H oxygen= 1 hydrogens= 0\n",
      "H oxygen= 1 hydrogens= 0\n",
      "H oxygen= 1 hydrogens= 0\n",
      "H oxygen= 0 hydrogens= 0\n",
      "H oxygen= 1 hydrogens= 0\n",
      "H oxygen= 1 hydrogens= 0\n",
      "H oxygen= 0 hydrogens= 0\n",
      "H oxygen= 1 hydrogens= 0\n",
      "H oxygen= 1 hydrogens= 0\n",
      "H oxygen= 1 hydrogens= 0\n",
      "H oxygen= 1 hydrogens= 0\n",
      "H oxygen= 0 hydrogens= 0\n",
      "H oxygen= 1 hydrogens= 0\n",
      "H oxygen= 1 hydrogens= 0\n",
      "H oxygen= 1 hydrogens= 0\n",
      "H oxygen= 1 hydrogens= 0\n",
      "H oxygen= 1 hydrogens= 0\n",
      "H oxygen= 1 hydrogens= 0\n",
      "H oxygen= 1 hydrogens= 0\n",
      "H oxygen= 1 hydrogens= 0\n",
      "H oxygen= 1 hydrogens= 0\n",
      "H oxygen= 1 hydrogens= 0\n",
      "H oxygen= 0 hydrogens= 0\n",
      "H oxygen= 1 hydrogens= 0\n",
      "H oxygen= 1 hydrogens= 0\n",
      "H oxygen= 1 hydrogens= 0\n",
      "H oxygen= 1 hydrogens= 0\n",
      "H oxygen= 1 hydrogens= 0\n",
      "H oxygen= 1 hydrogens= 0\n",
      "H oxygen= 1 hydrogens= 0\n",
      "H oxygen= 1 hydrogens= 0\n",
      "H oxygen= 1 hydrogens= 0\n",
      "H oxygen= 0 hydrogens= 0\n",
      "H oxygen= 1 hydrogens= 0\n",
      "H oxygen= 1 hydrogens= 0\n",
      "H oxygen= 1 hydrogens= 0\n",
      "H oxygen= 1 hydrogens= 0\n",
      "H oxygen= 1 hydrogens= 0\n",
      "H oxygen= 1 hydrogens= 0\n",
      "H oxygen= 1 hydrogens= 0\n",
      "H oxygen= 0 hydrogens= 0\n",
      "H oxygen= 1 hydrogens= 0\n",
      "H oxygen= 1 hydrogens= 0\n",
      "H oxygen= 1 hydrogens= 0\n"
     ]
    }
   ],
   "source": [
    "def getlen(o):\n",
    "    if(o==None):\n",
    "        return 0\n",
    "    else:\n",
    "        return 1\n",
    "print(config[10].proton_count,config[10].conjugate_base_count,protons[10])\n",
    "for i in config[10].atoms:\n",
    "    if(i.element==\"H\"):\n",
    "        print(i.element,\"oxygen=\",str(getlen(i.oxygen)),\"hydrogens=\",len(i.hydrogens))"
   ]
  },
  {
   "cell_type": "markdown",
   "metadata": {},
   "source": [
    "# Parse slurm output"
   ]
  },
  {
   "cell_type": "code",
   "execution_count": 117,
   "metadata": {},
   "outputs": [],
   "source": [
    "def split_slurm_line(line):\n",
    "    a=line.split()\n",
    "    return len(a),a    "
   ]
  },
  {
   "cell_type": "code",
   "execution_count": 118,
   "metadata": {},
   "outputs": [
    {
     "ename": "FileNotFoundError",
     "evalue": "[Errno 2] No such file or directory: 'outbiased6_slurm.out'",
     "output_type": "error",
     "traceback": [
      "\u001b[0;31m---------------------------------------------------------------------------\u001b[0m",
      "\u001b[0;31mFileNotFoundError\u001b[0m                         Traceback (most recent call last)",
      "\u001b[0;32m<ipython-input-118-b7d1d1333d9c>\u001b[0m in \u001b[0;36m<module>\u001b[0;34m\u001b[0m\n\u001b[0;32m----> 1\u001b[0;31m \u001b[0;32mwith\u001b[0m \u001b[0mopen\u001b[0m\u001b[0;34m(\u001b[0m\u001b[0;34m\"outbiased6_slurm.out\"\u001b[0m\u001b[0;34m,\u001b[0m\u001b[0;34m'r'\u001b[0m\u001b[0;34m)\u001b[0m \u001b[0;32mas\u001b[0m \u001b[0mf\u001b[0m\u001b[0;34m:\u001b[0m\u001b[0;34m\u001b[0m\u001b[0;34m\u001b[0m\u001b[0m\n\u001b[0m\u001b[1;32m      2\u001b[0m     \u001b[0mtemp\u001b[0m\u001b[0;34m=\u001b[0m\u001b[0;34m[\u001b[0m\u001b[0;34m]\u001b[0m\u001b[0;34m\u001b[0m\u001b[0;34m\u001b[0m\u001b[0m\n\u001b[1;32m      3\u001b[0m     \u001b[0mflag\u001b[0m\u001b[0;34m=\u001b[0m\u001b[0;32mTrue\u001b[0m\u001b[0;34m\u001b[0m\u001b[0;34m\u001b[0m\u001b[0m\n\u001b[1;32m      4\u001b[0m     \u001b[0;32mfor\u001b[0m \u001b[0mline\u001b[0m \u001b[0;32min\u001b[0m \u001b[0mf\u001b[0m\u001b[0;34m:\u001b[0m\u001b[0;34m\u001b[0m\u001b[0;34m\u001b[0m\u001b[0m\n\u001b[1;32m      5\u001b[0m         \u001b[0;32mif\u001b[0m\u001b[0;34m(\u001b[0m\u001b[0;34m(\u001b[0m\u001b[0mflag\u001b[0m\u001b[0;34m)\u001b[0m\u001b[0;32mand\u001b[0m \u001b[0;34m(\u001b[0m\u001b[0;32mnot\u001b[0m \u001b[0;34m\"Step Temp E_pair E_mol TotEng Press\"\u001b[0m \u001b[0;32min\u001b[0m \u001b[0mline\u001b[0m\u001b[0;34m)\u001b[0m\u001b[0;34m)\u001b[0m\u001b[0;34m:\u001b[0m\u001b[0;34m\u001b[0m\u001b[0;34m\u001b[0m\u001b[0m\n",
      "\u001b[0;31mFileNotFoundError\u001b[0m: [Errno 2] No such file or directory: 'outbiased6_slurm.out'"
     ]
    }
   ],
   "source": [
    "\n",
    "with open(\"outbiased6_slurm.out\",'r') as f:\n",
    "    temp=[]\n",
    "    flag=True\n",
    "    for line in f:\n",
    "        if((flag)and (not \"Step Temp E_pair E_mol TotEng Press\" in line)):\n",
    "              pass\n",
    "        else:\n",
    "            flag=False\n",
    "            alen,a=split_slurm_line(line)\n",
    "            if(alen==6 and not(\"Step Temp E_pair E_mol TotEng Press\" in line)):\n",
    "                config_selection= next((x for x in config if x.timestep == a[0]), None)\n",
    "                if(config_selection!=None):\n",
    "                    #print(a)\n",
    "                    config_selection.temperature=float(a[1])\n",
    "                    config_selection.totalEnergy=float(a[4])\n",
    "                    config_selection.pressure=float(a[5])\n",
    "        #f.next\n",
    "        "
   ]
  },
  {
   "cell_type": "code",
   "execution_count": null,
   "metadata": {},
   "outputs": [],
   "source": [
    "for i in config:\n",
    "    print(i.timestep,len(i.atoms),i.pressure,i.temperature)"
   ]
  },
  {
   "cell_type": "markdown",
   "metadata": {},
   "source": [
    "# FEP (might be wrong since we're doing it on microstates)\n",
    "Doing all values in metal units i.e. eV, Angstron. \n",
    "- feps is a list of lists as [timestep0,timestep1,Freeenergy(eV)]"
   ]
  },
  {
   "cell_type": "code",
   "execution_count": 119,
   "metadata": {},
   "outputs": [
    {
     "name": "stdout",
     "output_type": "stream",
     "text": [
      "kb= 1.0000861767129996\n"
     ]
    }
   ],
   "source": [
    "kb=math.exp(8.6173e-5)\n",
    "print(\"kb=\",kb)\n",
    "Tc=300\n",
    "feps=[]"
   ]
  },
  {
   "cell_type": "code",
   "execution_count": 120,
   "metadata": {},
   "outputs": [
    {
     "ename": "TypeError",
     "evalue": "unsupported operand type(s) for -: 'NoneType' and 'NoneType'",
     "output_type": "error",
     "traceback": [
      "\u001b[0;31m---------------------------------------------------------------------------\u001b[0m",
      "\u001b[0;31mTypeError\u001b[0m                                 Traceback (most recent call last)",
      "\u001b[0;32m<ipython-input-120-def3398a24f9>\u001b[0m in \u001b[0;36m<module>\u001b[0;34m\u001b[0m\n\u001b[1;32m      2\u001b[0m     \u001b[0me0\u001b[0m\u001b[0;34m=\u001b[0m\u001b[0mconfig\u001b[0m\u001b[0;34m[\u001b[0m\u001b[0mind\u001b[0m\u001b[0;34m]\u001b[0m\u001b[0;34m.\u001b[0m\u001b[0mtotalEnergy\u001b[0m\u001b[0;34m\u001b[0m\u001b[0;34m\u001b[0m\u001b[0m\n\u001b[1;32m      3\u001b[0m     \u001b[0me1\u001b[0m\u001b[0;34m=\u001b[0m\u001b[0mconfig\u001b[0m\u001b[0;34m[\u001b[0m\u001b[0mind\u001b[0m\u001b[0;34m+\u001b[0m\u001b[0;36m1\u001b[0m\u001b[0;34m]\u001b[0m\u001b[0;34m.\u001b[0m\u001b[0mtotalEnergy\u001b[0m\u001b[0;34m\u001b[0m\u001b[0;34m\u001b[0m\u001b[0m\n\u001b[0;32m----> 4\u001b[0;31m     \u001b[0mexp\u001b[0m\u001b[0;34m=\u001b[0m\u001b[0mmath\u001b[0m\u001b[0;34m.\u001b[0m\u001b[0mexp\u001b[0m\u001b[0;34m(\u001b[0m\u001b[0;34m-\u001b[0m\u001b[0;36m1\u001b[0m\u001b[0;34m*\u001b[0m\u001b[0;34m(\u001b[0m\u001b[0me1\u001b[0m\u001b[0;34m-\u001b[0m\u001b[0me0\u001b[0m\u001b[0;34m)\u001b[0m\u001b[0;34m/\u001b[0m\u001b[0;34m(\u001b[0m\u001b[0mkb\u001b[0m\u001b[0;34m*\u001b[0m\u001b[0mTc\u001b[0m\u001b[0;34m)\u001b[0m\u001b[0;34m)\u001b[0m\u001b[0;34m\u001b[0m\u001b[0;34m\u001b[0m\u001b[0m\n\u001b[0m\u001b[1;32m      5\u001b[0m     \u001b[0mF\u001b[0m\u001b[0;34m=\u001b[0m\u001b[0;34m-\u001b[0m\u001b[0;36m1\u001b[0m\u001b[0;34m*\u001b[0m\u001b[0mkb\u001b[0m\u001b[0;34m*\u001b[0m\u001b[0mTc\u001b[0m\u001b[0;34m*\u001b[0m\u001b[0mnp\u001b[0m\u001b[0;34m.\u001b[0m\u001b[0mlog\u001b[0m\u001b[0;34m(\u001b[0m\u001b[0mexp\u001b[0m\u001b[0;34m)\u001b[0m\u001b[0;34m\u001b[0m\u001b[0;34m\u001b[0m\u001b[0m\n\u001b[1;32m      6\u001b[0m     \u001b[0mfeps\u001b[0m\u001b[0;34m.\u001b[0m\u001b[0mappend\u001b[0m\u001b[0;34m(\u001b[0m\u001b[0;34m[\u001b[0m\u001b[0mconfig\u001b[0m\u001b[0;34m[\u001b[0m\u001b[0mind\u001b[0m\u001b[0;34m]\u001b[0m\u001b[0;34m.\u001b[0m\u001b[0mtimestep\u001b[0m\u001b[0;34m,\u001b[0m\u001b[0mconfig\u001b[0m\u001b[0;34m[\u001b[0m\u001b[0mind\u001b[0m\u001b[0;34m+\u001b[0m\u001b[0;36m1\u001b[0m\u001b[0;34m]\u001b[0m\u001b[0;34m.\u001b[0m\u001b[0mtimestep\u001b[0m\u001b[0;34m,\u001b[0m\u001b[0mF\u001b[0m\u001b[0;34m]\u001b[0m\u001b[0;34m)\u001b[0m\u001b[0;34m\u001b[0m\u001b[0;34m\u001b[0m\u001b[0m\n",
      "\u001b[0;31mTypeError\u001b[0m: unsupported operand type(s) for -: 'NoneType' and 'NoneType'"
     ]
    }
   ],
   "source": [
    "for ind in range(len(config)-1):\n",
    "    e0=config[ind].totalEnergy\n",
    "    e1=config[ind+1].totalEnergy\n",
    "    exp=math.exp(-1*(e1-e0)/(kb*Tc))\n",
    "    F=-1*kb*Tc*np.log(exp)\n",
    "    feps.append([config[ind].timestep,config[ind+1].timestep,F])"
   ]
  },
  {
   "cell_type": "code",
   "execution_count": 121,
   "metadata": {},
   "outputs": [
    {
     "name": "stdout",
     "output_type": "stream",
     "text": [
      "[]\n"
     ]
    }
   ],
   "source": [
    "print(feps)"
   ]
  },
  {
   "cell_type": "code",
   "execution_count": null,
   "metadata": {},
   "outputs": [],
   "source": []
  },
  {
   "cell_type": "code",
   "execution_count": 122,
   "metadata": {},
   "outputs": [
    {
     "ename": "ValueError",
     "evalue": "min() arg is an empty sequence",
     "output_type": "error",
     "traceback": [
      "\u001b[0;31m---------------------------------------------------------------------------\u001b[0m",
      "\u001b[0;31mValueError\u001b[0m                                Traceback (most recent call last)",
      "\u001b[0;32m<ipython-input-122-a2c75575d76d>\u001b[0m in \u001b[0;36m<module>\u001b[0;34m\u001b[0m\n\u001b[1;32m      5\u001b[0m \u001b[0my_val\u001b[0m\u001b[0;34m=\u001b[0m\u001b[0;34m[\u001b[0m\u001b[0mfloat\u001b[0m\u001b[0;34m(\u001b[0m\u001b[0mx\u001b[0m\u001b[0;34m[\u001b[0m\u001b[0;34m-\u001b[0m\u001b[0;36m1\u001b[0m\u001b[0;34m]\u001b[0m\u001b[0;34m)\u001b[0m \u001b[0;32mfor\u001b[0m \u001b[0mx\u001b[0m \u001b[0;32min\u001b[0m \u001b[0mfeps\u001b[0m\u001b[0;34m]\u001b[0m\u001b[0;34m\u001b[0m\u001b[0;34m\u001b[0m\u001b[0m\n\u001b[1;32m      6\u001b[0m \u001b[0mplt\u001b[0m\u001b[0;34m.\u001b[0m\u001b[0mplot\u001b[0m\u001b[0;34m(\u001b[0m\u001b[0mx_val\u001b[0m\u001b[0;34m[\u001b[0m\u001b[0;34m:\u001b[0m\u001b[0;36m500\u001b[0m\u001b[0;34m]\u001b[0m\u001b[0;34m,\u001b[0m\u001b[0my_val\u001b[0m\u001b[0;34m[\u001b[0m\u001b[0;34m:\u001b[0m\u001b[0;36m500\u001b[0m\u001b[0;34m]\u001b[0m\u001b[0;34m)\u001b[0m\u001b[0;34m\u001b[0m\u001b[0;34m\u001b[0m\u001b[0m\n\u001b[0;32m----> 7\u001b[0;31m \u001b[0mplt\u001b[0m\u001b[0;34m.\u001b[0m\u001b[0mxticks\u001b[0m\u001b[0;34m(\u001b[0m\u001b[0mnp\u001b[0m\u001b[0;34m.\u001b[0m\u001b[0marange\u001b[0m\u001b[0;34m(\u001b[0m\u001b[0mmin\u001b[0m\u001b[0;34m(\u001b[0m\u001b[0mx_val\u001b[0m\u001b[0;34m)\u001b[0m\u001b[0;34m,\u001b[0m \u001b[0mmax\u001b[0m\u001b[0;34m(\u001b[0m\u001b[0mx_val\u001b[0m\u001b[0;34m)\u001b[0m\u001b[0;34m+\u001b[0m\u001b[0;36m1\u001b[0m\u001b[0;34m,\u001b[0m \u001b[0;36m1.0\u001b[0m\u001b[0;34m)\u001b[0m\u001b[0;34m)\u001b[0m\u001b[0;34m\u001b[0m\u001b[0;34m\u001b[0m\u001b[0m\n\u001b[0m\u001b[1;32m      8\u001b[0m \u001b[0mplt\u001b[0m\u001b[0;34m.\u001b[0m\u001b[0mshow\u001b[0m\u001b[0;34m(\u001b[0m\u001b[0;34m)\u001b[0m\u001b[0;34m\u001b[0m\u001b[0;34m\u001b[0m\u001b[0m\n",
      "\u001b[0;31mValueError\u001b[0m: min() arg is an empty sequence"
     ]
    },
    {
     "data": {
      "image/png": "[encoded data removed]",
      "text/plain": [
       "<Figure size 432x288 with 1 Axes>"
      ]
     },
     "metadata": {},
     "output_type": "display_data"
    }
   ],
   "source": [
    "import matplotlib.pyplot as plt\n",
    "import seaborn as sns\n",
    "sns.set_theme()\n",
    "x_val=[float(x[0])for x in feps]\n",
    "y_val=[float(x[-1]) for x in feps]\n",
    "plt.plot(x_val[:500],y_val[:500])\n",
    "plt.xticks(np.arange(min(x_val), max(x_val)+1, 1.0))\n",
    "plt.show()\n"
   ]
  },
  {
   "cell_type": "code",
   "execution_count": 123,
   "metadata": {},
   "outputs": [
    {
     "data": {
      "image/png": "[encoded data removed]",
      "text/plain": [
       "<Figure size 432x288 with 1 Axes>"
      ]
     },
     "metadata": {},
     "output_type": "display_data"
    }
   ],
   "source": [
    "import matplotlib.pyplot as plt\n",
    "\n",
    "plt.bar(x_val[500:5000],y_val[500:5000])\n",
    "plt.show()\n"
   ]
  },
  {
   "cell_type": "markdown",
   "metadata": {},
   "source": [
    "# pH calculation"
   ]
  },
  {
   "cell_type": "code",
   "execution_count": 124,
   "metadata": {},
   "outputs": [
    {
     "name": "stdout",
     "output_type": "stream",
     "text": [
      "Proton Count = 2\n",
      "Proton Count = 2\n",
      "Proton Count = 7\n",
      "Proton Count = 7\n",
      "Proton Count = 1\n",
      "Proton Count = 1\n",
      "Proton Count = 4\n",
      "Proton Count = 3\n",
      "Proton Count = 7\n",
      "Proton Count = 5\n",
      "Proton Count = 6\n",
      "Proton Count = 4\n",
      "Proton Count = 10\n",
      "Proton Count = 10\n",
      "Proton Count = 6\n",
      "Proton Count = 4\n",
      "Proton Count = 8\n",
      "Proton Count = 5\n",
      "Proton Count = 26\n",
      "Proton Count = 20\n",
      "Proton Count = 22\n",
      "Proton Count = 3\n",
      "Proton Count = 2\n",
      "Proton Count = 2\n",
      "Proton Count = 9\n",
      "Proton Count = 5\n",
      "Proton Count = 0\n",
      "Proton Count = 0\n",
      "Proton Count = 0\n",
      "Proton Count = 0\n",
      "Proton Count = 3\n",
      "Proton Count = 2\n"
     ]
    },
    {
     "name": "stderr",
     "output_type": "stream",
     "text": [
      "/usr/local/lib/python3.6/dist-packages/ipykernel_launcher.py:7: RuntimeWarning: divide by zero encountered in log10\n",
      "  import sys\n"
     ]
    }
   ],
   "source": [
    "ph=[]\n",
    "for i,prot in enumerate(protons):\n",
    "    ph_temp=pH(prot[0],boxl_atomic*(10**-10),Na)\n",
    "    poh_temp=pH(prot[1],boxl_atomic*(10**-10),Na)\n",
    "    #print(i,\". pH = \",ph_temp)\n",
    "    ph.append((ph_temp,poh_temp))\n",
    "    config[i].pH=ph_temp\n",
    "    config[i].pOH=poh_temp\n",
    "\n",
    "\n",
    "\n",
    "#    print(\"pH of config-\"+str(ind)+\" = \"+str(pH(proton_count,boxl_meters,Na)))"
   ]
  },
  {
   "cell_type": "code",
   "execution_count": 125,
   "metadata": {},
   "outputs": [],
   "source": [
    "# if __name__ == \"__main__\":\n",
    "#     protons,ph=main()\n",
    "#     protons=np.array(protons)\n",
    "#     ph=np.array(ph)\n",
    "#     #print(\"protons by config= \",protons)\n",
    "    \n",
    " "
   ]
  },
  {
   "cell_type": "code",
   "execution_count": 126,
   "metadata": {},
   "outputs": [
    {
     "name": "stdout",
     "output_type": "stream",
     "text": [
      "1 0 8\n"
     ]
    }
   ],
   "source": [
    "count_91=0\n",
    "count_90=0\n",
    "count_shorts=0\n",
    "for i in protons:\n",
    "    if(i[3]==191 and i[0]-i[1]==2):\n",
    "        count_91+=1\n",
    "    elif(i[3]==190 and i[0]-i[1]==4):\n",
    "        count_90+=1\n",
    "    elif(i[3]!=192):\n",
    "        count_shorts+=1\n",
    "        \n",
    "print(count_91,count_90,count_shorts)"
   ]
  },
  {
   "cell_type": "code",
   "execution_count": 127,
   "metadata": {},
   "outputs": [
    {
     "name": "stdout",
     "output_type": "stream",
     "text": [
      "pH,pOH by config=  [(0.5899887001485773, 0.5899887001485773), (0.045920655798301624, 0.045920655798301624), (0.8910186958125585, 0.8910186958125585), (0.28895870448459604, 0.41389744109289595), (0.045920655798301624, 0.1920486914765398), (0.11286744542891469, 0.28895870448459604), (-0.10898130418744145, -0.10898130418744145), (0.11286744542891469, 0.28895870448459604), (-0.012071291179385213, 0.1920486914765398), (-0.5239546521582596, -0.4100112998514227), (-0.45140398500964807, 0.41389744109289595), (0.5899887001485773, 0.5899887001485773), (-0.06322381362676666, 0.1920486914765398), (inf, inf), (inf, inf), (0.41389744109289595, 0.5899887001485773)]\n"
     ]
    }
   ],
   "source": [
    "print(\"pH,pOH by config= \",ph)"
   ]
  },
  {
   "cell_type": "code",
   "execution_count": 128,
   "metadata": {},
   "outputs": [
    {
     "name": "stdout",
     "output_type": "stream",
     "text": [
      "pKw by config= \n",
      "1.1799774002971546\n",
      "0.09184131159660325\n",
      "1.782037391625117\n",
      "0.702856145577492\n",
      "0.23796934727484143\n",
      "0.40182614991351073\n",
      "-0.2179626083748829\n",
      "0.40182614991351073\n",
      "0.1799774002971546\n",
      "-0.9339659520096824\n",
      "-0.03750654391675212\n",
      "1.1799774002971546\n",
      "0.12882487784977315\n",
      "inf\n",
      "inf\n",
      "1.0038861412414732\n"
     ]
    }
   ],
   "source": [
    "print(\"pKw by config= \")\n",
    "for i in ph:\n",
    "    print(i[0]+i[1])"
   ]
  },
  {
   "cell_type": "code",
   "execution_count": 129,
   "metadata": {},
   "outputs": [
    {
     "data": {
      "image/png": "[encoded data removed]",
      "text/plain": [
       "<Figure size 432x288 with 1 Axes>"
      ]
     },
     "metadata": {},
     "output_type": "display_data"
    }
   ],
   "source": [
    "plt.title(\"number of protons in configurations\")\n",
    "plt.xlabel('Config Index')\n",
    "plt.ylabel('Number of protons')\n",
    "plt.plot(np.arange(len(protons)),protons)\n",
    "plt.legend(['proton_count','oh_count','h2o_count','total'])\n",
    "plt.show()"
   ]
  },
  {
   "cell_type": "code",
   "execution_count": 130,
   "metadata": {},
   "outputs": [
    {
     "data": {
      "text/plain": [
       "(array([2., 1., 2., 1., 1., 0., 2., 2., 1., 1., 1., 0., 0., 0., 0., 0., 0.,\n",
       "        0., 0., 0., 0., 0., 1., 0., 0., 1.]),\n",
       " array([ 0,  1,  2,  3,  4,  5,  6,  7,  8,  9, 10, 11, 12, 13, 14, 15, 16,\n",
       "        17, 18, 19, 20, 21, 22, 23, 24, 25, 26]),\n",
       " <BarContainer object of 26 artists>)"
      ]
     },
     "execution_count": 130,
     "metadata": {},
     "output_type": "execute_result"
    },
    {
     "data": {
      "image/png": "[encoded data removed]",
      "text/plain": [
       "<Figure size 432x288 with 1 Axes>"
      ]
     },
     "metadata": {},
     "output_type": "display_data"
    }
   ],
   "source": [
    "plt.title(\"Frequency count of protons in a config\")\n",
    "plt.xlabel(\"proton count\")\n",
    "plt.ylabel(\"configuration count\")\n",
    "pros=np.array([i[0] for i in protons])\n",
    "plt.hist(pros, bins=np.arange(pros.min(), pros.max()+1))\n"
   ]
  },
  {
   "cell_type": "code",
   "execution_count": 131,
   "metadata": {},
   "outputs": [
    {
     "data": {
      "image/png": "[encoded data removed]",
      "text/plain": [
       "<Figure size 432x288 with 1 Axes>"
      ]
     },
     "metadata": {},
     "output_type": "display_data"
    }
   ],
   "source": [
    "plt.title(\"pH by configurations\")\n",
    "plt.xlabel('Config Index')\n",
    "plt.ylabel('pH')\n",
    "plt.plot(np.arange(len(ph)),ph)\n",
    "plt.legend(['pH','pOH'])\n",
    "plt.show()"
   ]
  },
  {
   "cell_type": "code",
   "execution_count": 132,
   "metadata": {},
   "outputs": [],
   "source": [
    "# disassociation const "
   ]
  },
  {
   "cell_type": "code",
   "execution_count": 140,
   "metadata": {},
   "outputs": [
    {
     "data": {
      "image/png": "[encoded data removed]",
      "text/plain": [
       "<Figure size 432x288 with 1 Axes>"
      ]
     },
     "metadata": {},
     "output_type": "display_data"
    }
   ],
   "source": [
    "data = protons\n",
    "sns.set()\n",
    "for i, color in enumerate(['red', 'blue', 'green', 'purple'][::-1]):\n",
    "    sns.histplot([di for d in data for di in d[:4-i]], binwidth=1, color=color, stat=\"count\")\n",
    "plt.legend(['proton_count','oh_count','h2o_count','total'][::-1])\n",
    "plt.show()"
   ]
  },
  {
   "cell_type": "code",
   "execution_count": 141,
   "metadata": {},
   "outputs": [
    {
     "data": {
      "image/png": "[encoded data removed]",
      "text/plain": [
       "<Figure size 432x288 with 1 Axes>"
      ]
     },
     "metadata": {},
     "output_type": "display_data"
    }
   ],
   "source": [
    "sns.histplot([d[0] for d in data],color='red',binwidth=1)\n",
    "plt.title(\"Number of Protons\")\n",
    "plt.show()"
   ]
  },
  {
   "cell_type": "code",
   "execution_count": 142,
   "metadata": {},
   "outputs": [
    {
     "data": {
      "image/png": "[encoded data removed]",
      "text/plain": [
       "<Figure size 432x288 with 1 Axes>"
      ]
     },
     "metadata": {},
     "output_type": "display_data"
    }
   ],
   "source": [
    "sns.histplot([d[1] for d in data],color='blue',binwidth=1)\n",
    "plt.title(\"Number of Conjugate base ions\")\n",
    "plt.show()"
   ]
  },
  {
   "cell_type": "code",
   "execution_count": 143,
   "metadata": {},
   "outputs": [
    {
     "data": {
      "image/png": "[encoded data removed]",
      "text/plain": [
       "<Figure size 432x288 with 1 Axes>"
      ]
     },
     "metadata": {},
     "output_type": "display_data"
    }
   ],
   "source": [
    "sns.histplot([d[2] for d in data],color='green',binwidth=1)\n",
    "plt.title(\"Number of Water Molecules\")\n",
    "plt.show()"
   ]
  },
  {
   "cell_type": "code",
   "execution_count": 145,
   "metadata": {},
   "outputs": [
    {
     "data": {
      "image/png": "[encoded data removed]",
      "text/plain": [
       "<Figure size 432x288 with 1 Axes>"
      ]
     },
     "metadata": {},
     "output_type": "display_data"
    }
   ],
   "source": [
    "sns.histplot([d[3] for d in data],color='purple',binwidth=1)\n",
    "plt.title(\"Number of Total atoms\")\n",
    "plt.show()"
   ]
  },
  {
   "cell_type": "code",
   "execution_count": null,
   "metadata": {},
   "outputs": [],
   "source": []
  },
  {
   "cell_type": "code",
   "execution_count": null,
   "metadata": {},
   "outputs": [],
   "source": []
  }
 ],
 "metadata": {
  "kernelspec": {
   "display_name": "Python 3",
   "language": "python",
   "name": "python3"
  },
  "language_info": {
   "codemirror_mode": {
    "name": "ipython",
    "version": 3
   },
   "file_extension": ".py",
   "mimetype": "text/x-python",
   "name": "python",
   "nbconvert_exporter": "python",
   "pygments_lexer": "ipython3",
   "version": "3.9.1"
  }
 },
 "nbformat": 4,
 "nbformat_minor": 2
}
